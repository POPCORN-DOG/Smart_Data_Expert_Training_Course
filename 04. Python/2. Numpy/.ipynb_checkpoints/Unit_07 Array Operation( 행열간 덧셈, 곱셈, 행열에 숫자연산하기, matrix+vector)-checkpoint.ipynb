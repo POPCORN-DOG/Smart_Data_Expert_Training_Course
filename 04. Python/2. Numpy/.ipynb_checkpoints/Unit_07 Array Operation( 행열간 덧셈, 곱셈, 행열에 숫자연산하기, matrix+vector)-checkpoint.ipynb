{
 "cells": [
  {
   "cell_type": "markdown",
   "metadata": {},
   "source": [
    "# <span style='color:teal'> 1. Operations btw arrays(기본적인 사칙 연산지원) </span> "
   ]
  },
  {
   "cell_type": "code",
   "execution_count": 3,
   "metadata": {},
   "outputs": [],
   "source": [
    "import numpy as np"
   ]
  },
  {
   "cell_type": "code",
   "execution_count": 8,
   "metadata": {},
   "outputs": [
    {
     "name": "stdout",
     "output_type": "stream",
     "text": [
      "[[ 2  4  6]\n",
      " [ 8 10 12]]\n",
      "[[0 0 0]\n",
      " [0 0 0]]\n",
      "[[ 1  4  9]\n",
      " [16 25 36]]\n"
     ]
    }
   ],
   "source": [
    "a = np.array([[1,2,3],[4,5,6]]) \n",
    "b = a.copy()\n",
    "print(a + b)\n",
    "print(a - b)\n",
    "print(a * b)"
   ]
  },
  {
   "cell_type": "markdown",
   "metadata": {},
   "source": [
    "# <span style='color:teal'> 2. Dot Product(행렬연산) </span> \n",
    "- (l,m) x (m, n) → (l,n)\n",
    "- ex) 2x3 * 3x2 = 2x2"
   ]
  },
  {
   "cell_type": "code",
   "execution_count": 11,
   "metadata": {},
   "outputs": [
    {
     "name": "stdout",
     "output_type": "stream",
     "text": [
      "[[1 2 3]\n",
      " [4 5 6]]\n",
      "[[ 7  8]\n",
      " [ 9 10]\n",
      " [11 12]]\n",
      "[[ 58  64]\n",
      " [139 154]]\n"
     ]
    }
   ],
   "source": [
    "a = np.arange(1, 7).reshape(2, 3)\n",
    "b = np.arange(7, 13).reshape(3,2)\n",
    "print(a)\n",
    "print(b)\n",
    "print(a.dot(b)) # 58 = (1 x 7) + (2 x 9) + (3 x 11)"
   ]
  },
  {
   "cell_type": "markdown",
   "metadata": {},
   "source": [
    "# <span style='color:teal'> 3. Broadcasting(shape가 다른 배열간 연산지원)</span> \n",
    "- test_matrix + scalar\n",
    "- test_matrix – scalar\n",
    "- test_matrix * scalar\n",
    "- test_matrix / scalar # 나누기\n",
    "- test_matrix // scalar # 몫\n",
    "- test_matrix ** 2 # 제곱"
   ]
  },
  {
   "cell_type": "code",
   "execution_count": 13,
   "metadata": {
    "scrolled": true
   },
   "outputs": [
    {
     "name": "stdout",
     "output_type": "stream",
     "text": [
      "[[1. 2. 3.]\n",
      " [4. 5. 6.]]\n",
      "[[4. 5. 6.]\n",
      " [7. 8. 9.]]\n",
      "[[-2. -1.  0.]\n",
      " [ 1.  2.  3.]]\n",
      "[[ 3.  6.  9.]\n",
      " [12. 15. 18.]]\n",
      "[[0. 0. 1.]\n",
      " [1. 1. 2.]]\n"
     ]
    }
   ],
   "source": [
    "test = np.array([[1,2,3], [4,5,6]], float)\n",
    "print(test)\n",
    "print(test + 3)\n",
    "print(test - 3)\n",
    "print(test * 3)\n",
    "print(test // 3)"
   ]
  },
  {
   "cell_type": "code",
   "execution_count": 14,
   "metadata": {},
   "outputs": [
    {
     "data": {
      "text/plain": [
       "array([[2., 4., 6.],\n",
       "       [5., 7., 9.]])"
      ]
     },
     "execution_count": 14,
     "metadata": {},
     "output_type": "execute_result"
    }
   ],
   "source": [
    "# matrix행렬의 각 요소에 vector 행렬의 요소를 더함\n",
    "test2 = np.array([[1,2,3]])\n",
    "test + test2"
   ]
  }
 ],
 "metadata": {
  "kernelspec": {
   "display_name": "Python 3",
   "language": "python",
   "name": "python3"
  },
  "language_info": {
   "codemirror_mode": {
    "name": "ipython",
    "version": 3
   },
   "file_extension": ".py",
   "mimetype": "text/x-python",
   "name": "python",
   "nbconvert_exporter": "python",
   "pygments_lexer": "ipython3",
   "version": "3.7.3"
  }
 },
 "nbformat": 4,
 "nbformat_minor": 2
}
