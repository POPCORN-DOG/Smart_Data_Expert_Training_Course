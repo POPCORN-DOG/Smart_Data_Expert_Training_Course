{
 "cells": [
  {
   "cell_type": "code",
   "execution_count": null,
   "metadata": {},
   "outputs": [],
   "source": [
    "# 고성능 과학 계산용 패키지로 속도가 빠른 Num Py를 사용하지만,\n",
    "# 여러 데이터 타입을 다룰때는 리스트를 사용하는 것이 좋다.\n",
    "\n",
    "# cmd실행 원하는 폴더로 이동(cd)한 뒤, jupyter notebook을 입력한다."
   ]
  }
 ],
 "metadata": {
  "kernelspec": {
   "display_name": "Python 3",
   "language": "python",
   "name": "python3"
  },
  "language_info": {
   "codemirror_mode": {
    "name": "ipython",
    "version": 3
   },
   "file_extension": ".py",
   "mimetype": "text/x-python",
   "name": "python",
   "nbconvert_exporter": "python",
   "pygments_lexer": "ipython3",
   "version": "3.7.3"
  }
 },
 "nbformat": 4,
 "nbformat_minor": 2
}
