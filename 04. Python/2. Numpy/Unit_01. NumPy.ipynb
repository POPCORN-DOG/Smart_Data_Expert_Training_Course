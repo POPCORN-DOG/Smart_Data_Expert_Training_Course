{
 "cells": [
  {
   "cell_type": "markdown",
   "metadata": {},
   "source": [
    "# Numpy 란?\n",
    "\n",
    "### 1.1 파이썬 과학 처리 패키지\n",
    "- Numerical Python\n",
    "- 파이썬의 고성능 과학 계산용 패키지\n",
    "- Matrix와 Vector와 같은 Array 연산의 사실상의 표준\n",
    "\n",
    "\n",
    "### 1.2 특징\n",
    "- 일반 List에 비해 빠르고, 메모리를 효율적으로 사용\n",
    "- 반복문 없이 데이터 배열에 대한 처리를 지원함\n",
    "- 선형대수와 관련된 다양한 기능을 제공\n",
    "- C, C++등의 언어와 통합 가능"
   ]
  },
  {
   "cell_type": "markdown",
   "metadata": {},
   "source": [
    "- 고성능 과학 계산용 패키지로 속도가 빠른 Num Py를 사용하지만, 여러 데이터 타입을 다룰때는 리스트를 사용하는 것이 좋다.\n",
    "\n",
    "- cmd실행 - 원하는 폴더로 이동(cd) - jupyter notebook을 입력"
   ]
  }
 ],
 "metadata": {
  "kernelspec": {
   "display_name": "Python 3",
   "language": "python",
   "name": "python3"
  },
  "language_info": {
   "codemirror_mode": {
    "name": "ipython",
    "version": 3
   },
   "file_extension": ".py",
   "mimetype": "text/x-python",
   "name": "python",
   "nbconvert_exporter": "python",
   "pygments_lexer": "ipython3",
   "version": "3.7.3"
  }
 },
 "nbformat": 4,
 "nbformat_minor": 2
}
