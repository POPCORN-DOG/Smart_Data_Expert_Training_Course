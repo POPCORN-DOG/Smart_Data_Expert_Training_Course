{
 "cells": [
  {
   "cell_type": "code",
   "execution_count": 2,
   "metadata": {},
   "outputs": [],
   "source": [
    "import numpy as np"
   ]
  },
  {
   "cell_type": "markdown",
   "metadata": {},
   "source": [
    "# #1. Vector(1차원) - (4,)"
   ]
  },
  {
   "cell_type": "code",
   "execution_count": 3,
   "metadata": {},
   "outputs": [
    {
     "name": "stdout",
     "output_type": "stream",
     "text": [
      "[1. 4. 5. 8.]\n"
     ]
    }
   ],
   "source": [
    "a = np.array([1,4,5,8],float)\n",
    "\n",
    "print(a)"
   ]
  },
  {
   "cell_type": "markdown",
   "metadata": {},
   "source": [
    "# #2. Matrix(2차원) - (4,3)"
   ]
  },
  {
   "cell_type": "code",
   "execution_count": 4,
   "metadata": {
    "scrolled": true
   },
   "outputs": [
    {
     "name": "stdout",
     "output_type": "stream",
     "text": [
      "([1, 2, 3, 4], [5, 6, 7, 8], [9, 10, 11, 12])\n",
      "(3, 4)\n"
     ]
    },
    {
     "data": {
      "text/plain": [
       "array([[ 1,  2,  3,  4],\n",
       "       [ 5,  6,  7,  8],\n",
       "       [ 9, 10, 11, 12]])"
      ]
     },
     "execution_count": 4,
     "metadata": {},
     "output_type": "execute_result"
    }
   ],
   "source": [
    "Matrix = [1,2,3,4],[5,6,7,8],[9,10,11,12]\n",
    "\n",
    "print(Matrix)\n",
    "print(np.array(Matrix,int).shape)\n",
    "np.array(Matrix,int)"
   ]
  },
  {
   "cell_type": "markdown",
   "metadata": {},
   "source": [
    "# #3. Tensor(3차원) - (4,3,4)"
   ]
  },
  {
   "cell_type": "code",
   "execution_count": 5,
   "metadata": {},
   "outputs": [
    {
     "name": "stdout",
     "output_type": "stream",
     "text": [
      "[[[1, 2, 3, 4], [5, 6, 7, 8], [9, 10, 11, 12]], [[1, 2, 3, 4], [5, 6, 7, 8], [9, 10, 11, 12]], [[1, 2, 3, 4], [5, 6, 7, 8], [9, 10, 11, 12]], [[1, 2, 3, 4], [5, 6, 7, 8], [9, 10, 11, 12]]]\n",
      "(4, 3, 4)\n"
     ]
    },
    {
     "data": {
      "text/plain": [
       "array([[[ 1,  2,  3,  4],\n",
       "        [ 5,  6,  7,  8],\n",
       "        [ 9, 10, 11, 12]],\n",
       "\n",
       "       [[ 1,  2,  3,  4],\n",
       "        [ 5,  6,  7,  8],\n",
       "        [ 9, 10, 11, 12]],\n",
       "\n",
       "       [[ 1,  2,  3,  4],\n",
       "        [ 5,  6,  7,  8],\n",
       "        [ 9, 10, 11, 12]],\n",
       "\n",
       "       [[ 1,  2,  3,  4],\n",
       "        [ 5,  6,  7,  8],\n",
       "        [ 9, 10, 11, 12]]])"
      ]
     },
     "execution_count": 5,
     "metadata": {},
     "output_type": "execute_result"
    }
   ],
   "source": [
    "tensor = [[[1,2,3,4],[5,6,7,8],[9,10,11,12]],\n",
    "          [[1,2,3,4],[5,6,7,8],[9,10,11,12]],\n",
    "          [[1,2,3,4],[5,6,7,8],[9,10,11,12]],\n",
    "          [[1,2,3,4],[5,6,7,8],[9,10,11,12]]]\n",
    "\n",
    "print(tensor)\n",
    "print(np.array(tensor,int).shape)\n",
    "np.array(tensor,int)"
   ]
  },
  {
   "cell_type": "markdown",
   "metadata": {},
   "source": [
    "# #4. ndim & size\n",
    "- ndim 차원의 수\n",
    "- size 데이터의 수"
   ]
  },
  {
   "cell_type": "code",
   "execution_count": 9,
   "metadata": {},
   "outputs": [
    {
     "name": "stdout",
     "output_type": "stream",
     "text": [
      "3\n",
      "48\n"
     ]
    },
    {
     "data": {
      "text/plain": [
       "1"
      ]
     },
     "execution_count": 9,
     "metadata": {},
     "output_type": "execute_result"
    }
   ],
   "source": [
    "print(np.array(tensor,int).ndim)\n",
    "print(np.array(tensor,int).size)"
   ]
  },
  {
   "cell_type": "markdown",
   "metadata": {},
   "source": [
    "# #5. dtype\n",
    "- single element가 가지는 데이터 타입\n",
    "- C의 데이터 타입과 호환\n",
    "- nbytes - ndarray object의 메모리 크기를 바이트 단위로 변환함\n",
    "\n",
    "  \n",
    "- 기본 default는 64로 되어있으며,\n",
    "- 64 - 1개당 8bite\n",
    "- 32 - 1개당 4bite"
   ]
  },
  {
   "cell_type": "code",
   "execution_count": 12,
   "metadata": {},
   "outputs": [
    {
     "name": "stdout",
     "output_type": "stream",
     "text": [
      "[[1.  2.  3. ]\n",
      " [4.5 5.  6. ]]\n",
      "48\n"
     ]
    }
   ],
   "source": [
    "print(np.array([[1,2,3],[4.5,'5','6']],dtype=np.float32)       ) # 32bite single type // '5' str 문자열\n",
    "print(np.array([[1,2,3],[4.5,'5','6']],dtype=np.float64).nbytes) # 24 = 데이터가 6개니까 한개당 4bite"
   ]
  },
  {
   "cell_type": "markdown",
   "metadata": {},
   "source": [
    "# #6. reshape\n",
    "- shape의 (3,4)는 행 3 열 4개인 매트릭스를 뜻한다.\n",
    "- reshape(3,4)는 3행 4열의 매트릭스를 만들어준다.\n",
    "- array의 shape을 변경함(element의 개수는 동일)\n",
    "\n",
    "- -1: size를 기반으로 row 개수 선정된다. n과같음\n",
    "-  -1은 알아서 맞춰달라는 명령어(size를 기반으로 row 개수 선정)"
   ]
  },
  {
   "cell_type": "code",
   "execution_count": 14,
   "metadata": {
    "scrolled": true
   },
   "outputs": [
    {
     "name": "stdout",
     "output_type": "stream",
     "text": [
      "(2, 4)\n",
      "(8,)\n",
      "[[[1 2 3 4]]\n",
      "\n",
      " [[5 6 7 8]]]\n",
      "(4, 2)\n"
     ]
    }
   ],
   "source": [
    "matrix = [[1,2,3,4],[5,6,7,8]]\n",
    "print(np.array(matrix).shape)\n",
    "print(np.array(matrix).reshape(8,).shape)\n",
    "print(np.array(matrix).reshape(2,1,4))\n",
    "print(np.array(matrix).reshape(-1,2).shape) "
   ]
  },
  {
   "cell_type": "markdown",
   "metadata": {},
   "source": [
    "# #7. flatten\n",
    "- 다차원 array를 1차원 array로 변환"
   ]
  },
  {
   "cell_type": "code",
   "execution_count": 18,
   "metadata": {},
   "outputs": [
    {
     "name": "stdout",
     "output_type": "stream",
     "text": [
      "[[[1 2 3 4]\n",
      "  [5 6 7 8]]\n",
      "\n",
      " [[2 3 4 5]\n",
      "  [6 7 8 9]]]\n"
     ]
    },
    {
     "data": {
      "text/plain": [
       "array([1, 2, 3, 4, 5, 6, 7, 8, 2, 3, 4, 5, 6, 7, 8, 9])"
      ]
     },
     "execution_count": 18,
     "metadata": {},
     "output_type": "execute_result"
    }
   ],
   "source": [
    "test_matrix = [[[1,2,3,4], [5,6,7,8]], [[2,3,4,5], [6,7,8,9]]]\n",
    "print(np.array(test_matrix))\n",
    "np.array(test_matrix).flatten()"
   ]
  }
 ],
 "metadata": {
  "kernelspec": {
   "display_name": "Python 3",
   "language": "python",
   "name": "python3"
  },
  "language_info": {
   "codemirror_mode": {
    "name": "ipython",
    "version": 3
   },
   "file_extension": ".py",
   "mimetype": "text/x-python",
   "name": "python",
   "nbconvert_exporter": "python",
   "pygments_lexer": "ipython3",
   "version": "3.7.3"
  }
 },
 "nbformat": 4,
 "nbformat_minor": 2
}
