{
 "cells": [
  {
   "cell_type": "markdown",
   "metadata": {},
   "source": [
    "# Array 생성\n",
    "- np.array 함수를 활용하여 배열을 생성함 -> ndarray(dimensional 차원)\n",
    "- 하나의 데이터 타입만 배열에 넣을 수 있음\n",
    "- List와 가장 큰 차이점, Dynamic typing(예, [1,2,\"5\",4.2]) not supported 즉, 여러 타입 NO\n",
    "- C의 Array를 사용하여 배열을 생성함 (C로 한다는 것은 실행 속도가 빠르다)"
   ]
  },
  {
   "cell_type": "code",
   "execution_count": 1,
   "metadata": {},
   "outputs": [],
   "source": [
    "import numpy as np"
   ]
  },
  {
   "cell_type": "code",
   "execution_count": 2,
   "metadata": {},
   "outputs": [
    {
     "name": "stdout",
     "output_type": "stream",
     "text": [
      "[1. 4. 5. 8.]\n",
      "8.0\n",
      "float64\n",
      "(4,)\n"
     ]
    }
   ],
   "source": [
    "a = np.array([1,4,5,8],float)\n",
    "print(a)\n",
    "print(a[3])     # 순서는 0부터다.\n",
    "print(a.dtype)  # Array 전체의 데이터 타입을 반환함\n",
    "print(a.shape)  # Array의 shape(차원 구성)을 반환함"
   ]
  }
 ],
 "metadata": {
  "kernelspec": {
   "display_name": "Python 3",
   "language": "python",
   "name": "python3"
  },
  "language_info": {
   "codemirror_mode": {
    "name": "ipython",
    "version": 3
   },
   "file_extension": ".py",
   "mimetype": "text/x-python",
   "name": "python",
   "nbconvert_exporter": "python",
   "pygments_lexer": "ipython3",
   "version": "3.7.3"
  }
 },
 "nbformat": 4,
 "nbformat_minor": 2
}
