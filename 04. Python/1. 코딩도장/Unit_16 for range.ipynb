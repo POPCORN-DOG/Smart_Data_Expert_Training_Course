{
 "cells": [
  {
   "cell_type": "markdown",
   "metadata": {},
   "source": [
    "# Unit16: for range"
   ]
  },
  {
   "cell_type": "markdown",
   "metadata": {},
   "source": [
    "### 1. for와 range 사용하기"
   ]
  },
  {
   "cell_type": "code",
   "execution_count": null,
   "metadata": {},
   "outputs": [],
   "source": [
    "# for 변수 in range(횟수): 반복할 코드"
   ]
  },
  {
   "cell_type": "code",
   "execution_count": 57,
   "metadata": {
    "scrolled": true
   },
   "outputs": [
    {
     "name": "stdout",
     "output_type": "stream",
     "text": [
      "range(0, 10) \n",
      " [0, 1, 2, 3, 4, 5, 6, 7, 8, 9] \n",
      "\n",
      "0 Hello, world!\n",
      "1 Hello, world!\n",
      "2 Hello, world!\n",
      "3 Hello, world!\n",
      "4 Hello, world!\n",
      "\n",
      "3번 Hello, world!"
     ]
    }
   ],
   "source": [
    "print(range(10),'\\n',\n",
    "      list(range(10)),'\\n')\n",
    "\n",
    "for i in range(5):\n",
    "    print(i,'Hello, world!')\n",
    "        \n",
    "for i in range(5):\n",
    "    if i == 3:\n",
    "        print('\\n',end=''\n",
    "              '3번 Hello, world!')"
   ]
  },
  {
   "cell_type": "markdown",
   "metadata": {},
   "source": [
    "### 2. for와 range 응용하기"
   ]
  },
  {
   "cell_type": "markdown",
   "metadata": {},
   "source": [
    "#### 2.1 응용하기"
   ]
  },
  {
   "cell_type": "code",
   "execution_count": 95,
   "metadata": {},
   "outputs": [
    {
     "name": "stdout",
     "output_type": "stream",
     "text": [
      "Hello, world! 5\n",
      "Hello, world! 6\n",
      "Hello, world! 7\n",
      "Hello, world! 8\n",
      "Hello, world! 9\n",
      "\n",
      "\n",
      "Hello, world! 6\n",
      "Hello, world! 7\n",
      "Hello, world! 8\n",
      "Hello, world! 9\n",
      "Hello, world! 10\n",
      "\n",
      "\n",
      "0123456789\n",
      "\n",
      "10101010101010101010"
     ]
    }
   ],
   "source": [
    "for i in range(5,10):\n",
    "    print('Hello, world!',i)\n",
    "    \n",
    "print('\\n')\n",
    "for i in reversed(range(10,5,-1)):\n",
    "    print('Hello, world!',i)\n",
    "    \n",
    "print('\\n')\n",
    "for i in range(10):  # 밑의 것과 차이를 보자\n",
    "    print(i,end='')\n",
    "    i = 10\n",
    "    \n",
    "print('\\n')\n",
    "for i in range(10):   # 위의 것과 차이를 보자\n",
    "    i = 10\n",
    "    print(i,end='')"
   ]
  },
  {
   "cell_type": "markdown",
   "metadata": {},
   "source": [
    "#### 2.2 리스트"
   ]
  },
  {
   "cell_type": "code",
   "execution_count": 99,
   "metadata": {},
   "outputs": [
    {
     "name": "stdout",
     "output_type": "stream",
     "text": [
      "1020304050\n",
      "\n",
      "1020304050"
     ]
    }
   ],
   "source": [
    "# 리스트 \n",
    "aList = [10,20,30,40,50]    \n",
    "for i in range(len(aList)): # 이런코드 보다 밑의 코드로 간단하게;\n",
    "    print(aList[i],end='')\n",
    "\n",
    "print('\\n')\n",
    "for a in aList:\n",
    "    print(a,end='')"
   ]
  },
  {
   "cell_type": "markdown",
   "metadata": {},
   "source": [
    "#### 2.3 문자"
   ]
  },
  {
   "cell_type": "code",
   "execution_count": 90,
   "metadata": {},
   "outputs": [
    {
     "name": "stdout",
     "output_type": "stream",
     "text": [
      "apple\n",
      "orange\n",
      "grape\n",
      "P\n",
      "y\n",
      "t\n",
      "h\n",
      "o\n",
      "n\n"
     ]
    }
   ],
   "source": [
    "# 문자\n",
    "fruits = ('apple','orange','grape')\n",
    "for fruit in fruits:\n",
    "    print(fruit)\n",
    "\n",
    "for letter in 'Python':\n",
    "    print(letter)"
   ]
  },
  {
   "cell_type": "markdown",
   "metadata": {},
   "source": [
    "#### 2.4 딕셔너리"
   ]
  },
  {
   "cell_type": "code",
   "execution_count": 91,
   "metadata": {},
   "outputs": [
    {
     "name": "stdout",
     "output_type": "stream",
     "text": [
      "health\n",
      "mana\n",
      "health = 490\n",
      "mana = 334\n"
     ]
    }
   ],
   "source": [
    "# 딕셔너리\n",
    "lux = {'health':490,'mana':334}\n",
    "for key in lux:\n",
    "    print(key)\n",
    "    \n",
    "for key in lux:\n",
    "    print(key, '=', lux[key])"
   ]
  },
  {
   "cell_type": "markdown",
   "metadata": {},
   "source": [
    "#### 2.5 nCr"
   ]
  },
  {
   "cell_type": "code",
   "execution_count": 102,
   "metadata": {},
   "outputs": [
    {
     "name": "stdout",
     "output_type": "stream",
     "text": [
      "5050\n"
     ]
    }
   ],
   "source": [
    "# nCr\n",
    "sum = 0\n",
    "for i in range(1,101):\n",
    "    sum += i\n",
    "    \n",
    "print(sum)\n",
    "\n",
    "factorial = 1\n",
    "for i in range(1,11):\n",
    "    factorial *= i\n",
    "    \n",
    "nominator = factorial\n",
    "factorial = 1\n",
    "for i in range(1,6):\n",
    "    factorial *= i \n",
    "    \n",
    "denom = factorial\n",
    "nominator / (denom *2)\n",
    "\n",
    "nominator // (denom *2)\n",
    "\n",
    "nominator / (denom * denom)\n",
    "\n",
    "nominator // (denom * denom)"
   ]
  },
  {
   "cell_type": "code",
   "execution_count": null,
   "metadata": {},
   "outputs": [],
   "source": [
    "덧셈은 초기값 0 곱셈은 초기값 1"
   ]
  },
  {
   "cell_type": "code",
   "execution_count": 104,
   "metadata": {},
   "outputs": [],
   "source": [
    "# for loop 하나가 처리할 수 있는 것은 1차원 하나이기 때문에 for문 속에 for문을 넣을 줄 알아야한다.\n",
    "\n",
    "# for i in ():          # 1차원\n",
    "#     for k in ():      # 2차원\n",
    "#         for t in ():  # 3차원\n",
    "\n",
    "# 연습 많이해라요~"
   ]
  },
  {
   "cell_type": "markdown",
   "metadata": {},
   "source": [
    "### #연습문제"
   ]
  },
  {
   "cell_type": "code",
   "execution_count": 2,
   "metadata": {},
   "outputs": [
    {
     "name": "stdout",
     "output_type": "stream",
     "text": [
      "490 -170 250 1020 80 620 210 "
     ]
    }
   ],
   "source": [
    "x = [49,-17,25,102,8,62,21]\n",
    "for i in x:\n",
    "    print(i * 10, end=' ')"
   ]
  },
  {
   "cell_type": "markdown",
   "metadata": {
    "scrolled": true
   },
   "source": [
    "### #실전문제"
   ]
  },
  {
   "cell_type": "code",
   "execution_count": 68,
   "metadata": {},
   "outputs": [
    {
     "name": "stdout",
     "output_type": "stream",
     "text": [
      "2\n",
      "2 * 1 = 2\n",
      "2 * 2 = 4\n",
      "2 * 3 = 6\n",
      "2 * 4 = 8\n",
      "2 * 5 = 10\n",
      "2 * 6 = 12\n",
      "2 * 7 = 14\n",
      "2 * 8 = 16\n",
      "2 * 9 = 18\n"
     ]
    }
   ],
   "source": [
    "x = int(input())\n",
    "\n",
    "for i in range(1,10):\n",
    "    print(x,'*',i,'=',x*i)"
   ]
  }
 ],
 "metadata": {
  "kernelspec": {
   "display_name": "Python 3",
   "language": "python",
   "name": "python3"
  },
  "language_info": {
   "codemirror_mode": {
    "name": "ipython",
    "version": 3
   },
   "file_extension": ".py",
   "mimetype": "text/x-python",
   "name": "python",
   "nbconvert_exporter": "python",
   "pygments_lexer": "ipython3",
   "version": "3.7.3"
  }
 },
 "nbformat": 4,
 "nbformat_minor": 2
}
