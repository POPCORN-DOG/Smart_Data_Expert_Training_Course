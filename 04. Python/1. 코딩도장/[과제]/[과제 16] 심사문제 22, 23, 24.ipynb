{
 "cells": [
  {
   "cell_type": "code",
   "execution_count": 1,
   "metadata": {},
   "outputs": [
    {
     "name": "stdout",
     "output_type": "stream",
     "text": [
      "1 20\n",
      "[2, 8, 16, 32, 64, 128, 256, 512, 1024, 2048, 4096, 8192, 16384, 32768, 65536, 131072, 262144, 1048576]\n"
     ]
    }
   ],
   "source": [
    "#22 \n",
    "start, stop = map(int,input().split())\n",
    "\n",
    "t = [ 2**i for i in range(start,stop+1)]\n",
    "t.pop(1)\n",
    "t.pop(-2)\n",
    "print(t)"
   ]
  },
  {
   "cell_type": "code",
   "execution_count": null,
   "metadata": {},
   "outputs": [],
   "source": [
    "#23 \n",
    "# 지뢰찾기는 좀 더 연습하겠습니다. ㅠㅠ"
   ]
  },
  {
   "cell_type": "code",
   "execution_count": 3,
   "metadata": {},
   "outputs": [
    {
     "name": "stdout",
     "output_type": "stream",
     "text": [
      "10101010\n",
      "0\n"
     ]
    }
   ],
   "source": [
    "#24-1\n",
    "import string\n",
    "\n",
    "words = input().split()\n",
    "\n",
    "count=0\n",
    "for i in words:\n",
    "    i = i.strip(string.punctuation)\n",
    "    if i == 'the':\n",
    "        count += 1\n",
    "        \n",
    "print(count)"
   ]
  },
  {
   "cell_type": "code",
   "execution_count": 4,
   "metadata": {},
   "outputs": [
    {
     "name": "stdout",
     "output_type": "stream",
     "text": [
      "2323 ; 23232\n",
      "   23,232\n",
      "    2,323\n",
      "   23,232\n",
      "    2,323\n"
     ]
    }
   ],
   "source": [
    "#24-2\n",
    "prices = list(map(int,input().split(';')))\n",
    "prices.sort(reverse=True)\n",
    "\n",
    "for price in prices:\n",
    "    print('%9s' % format(price, ','))"
   ]
  }
 ],
 "metadata": {
  "kernelspec": {
   "display_name": "Python 3",
   "language": "python",
   "name": "python3"
  },
  "language_info": {
   "codemirror_mode": {
    "name": "ipython",
    "version": 3
   },
   "file_extension": ".py",
   "mimetype": "text/x-python",
   "name": "python",
   "nbconvert_exporter": "python",
   "pygments_lexer": "ipython3",
   "version": "3.7.3"
  }
 },
 "nbformat": 4,
 "nbformat_minor": 2
}
