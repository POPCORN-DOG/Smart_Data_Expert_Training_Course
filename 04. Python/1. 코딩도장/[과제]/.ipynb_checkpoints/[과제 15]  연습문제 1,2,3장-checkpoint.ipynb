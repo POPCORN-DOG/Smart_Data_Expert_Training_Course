{
 "cells": [
  {
   "cell_type": "code",
   "execution_count": null,
   "metadata": {},
   "outputs": [],
   "source": [
    "# 조건문"
   ]
  },
  {
   "cell_type": "code",
   "execution_count": null,
   "metadata": {},
   "outputs": [],
   "source": [
    "# 1. 윤년 4의 배수, 100의 배수는 제외이면서 400의 배수일 때\n",
    "# 2012년 4의배수 윤년, \n",
    "# 1900년은 평년 (4의 배수이지만,100의배수라 아니다.)\n",
    "# 2000년은 400의 배수라서 윤년\n",
    "\n",
    "year = int(input())\n",
    "\n",
    "if year % 400 == 0:\n",
    "    print(year,'윤년')\n",
    "elif year % 4 == 0 and year % 100 != 0:\n",
    "    print(year,'윤년')\n",
    "else:\n",
    "    print(year,'평년')\n"
   ]
  },
  {
   "cell_type": "code",
   "execution_count": null,
   "metadata": {},
   "outputs": [],
   "source": [
    "# 2. 45분 일찍 알람 맞추기\n",
    "\n",
    "H, M = map(int,input().split())\n",
    "\n",
    "if M >= 45:\n",
    "    print(H,':',M-45)\n",
    "else:\n",
    "    print(H-1,':',M+15)"
   ]
  },
  {
   "cell_type": "code",
   "execution_count": null,
   "metadata": {},
   "outputs": [],
   "source": [
    "# 3. 세 정수 a,b,c 두번째로 큰 정수\n",
    "\n",
    "a,b,c = map(int,input().split())\n",
    "\n",
    "if b < a < c or c < a < b:\n",
    "    print(a)\n",
    "elif a < b < c or c < b < a:\n",
    "    print(b)\n",
    "elif a < c <b or b < c < a:\n",
    "    print(c)"
   ]
  },
  {
   "cell_type": "code",
   "execution_count": null,
   "metadata": {},
   "outputs": [],
   "source": [
    "# 4. a + b + c = 1000인 피타고라스 수를 구하여라\n",
    "\n",
    "# a + b + c = 1000\n",
    "# a**2 + b**2 = c**2\n",
    "# a < b < c\n",
    "# a + b > c\n",
    "\n",
    "# 1 <= a <= 332\n",
    "# a+1 <= b <= 499\n",
    "# c = 1000 - a - b\n",
    "\n",
    "for a in range(1,333):\n",
    "    for b in range(a+1,500):\n",
    "        c = 1000 - a - b\n",
    "        if a**2 + b**2 == c**2:\n",
    "            print(a,b,c)"
   ]
  },
  {
   "cell_type": "code",
   "execution_count": null,
   "metadata": {},
   "outputs": [],
   "source": [
    "# 반복문"
   ]
  },
  {
   "cell_type": "code",
   "execution_count": null,
   "metadata": {},
   "outputs": [],
   "source": [
    "# 1. A + B를 출력하는 프로그램\n",
    "\n",
    "T = int(input())\n",
    "A,B = map(int,input().split())\n",
    "\n",
    "for i in range(1,T+1):\n",
    "    print('Case #',i,':',A, '+', B, '=', A+B)"
   ]
  },
  {
   "cell_type": "code",
   "execution_count": null,
   "metadata": {},
   "outputs": [],
   "source": [
    "# 2. (별그리기)\n",
    "\n",
    "for i in range(4):\n",
    "    for k in range(i,3):\n",
    "        print(' ',end='')\n",
    "    for j in range((i*2)+1):\n",
    "        print('*',end='')\n",
    "    print('')\n",
    "for i in reversed(range(3)):\n",
    "    for k in range(i,3):\n",
    "        print(' ',end='')\n",
    "    for j in range((i*2)+1):\n",
    "        print('*',end='')\n",
    "    print('')"
   ]
  },
  {
   "cell_type": "code",
   "execution_count": null,
   "metadata": {},
   "outputs": [],
   "source": [
    "# 3. \n",
    "\n",
    "# 디지털 시계에 하루동안(00:00~23:59) 3이 표시되는 시간을 초로 환산하면\n",
    "# 총 몇 초(second) 인가?\n",
    "\n",
    "total = 0\n",
    "for hour in range(24):\n",
    "    for min in range(60):\n",
    "        time = str(hour) + str(min)\n",
    "        if '3' in time:\n",
    "            total += 60\n",
    "\n",
    "print(total)"
   ]
  },
  {
   "cell_type": "code",
   "execution_count": null,
   "metadata": {},
   "outputs": [],
   "source": [
    "# 4. 1~1000 각 숫자의 개수\n",
    "\n",
    "counts = [0] * 10        # [0,1,2,3,4,5,6,7,8,9] 를 할당하기 위한 준비\n",
    "\n",
    "for i in range(1, 10):\n",
    "    counts[i] += 1\n",
    "for i in range(11,100):\n",
    "    counts[i // 10] +=1   # 십의 자리 숫자\n",
    "    counts[i % 10]  +=1   # 일의 자리 숫자\n",
    "for i in range(101,1000):\n",
    "    counts[i // 100] +=1\n",
    "    counts[(i % 100) // 10]  +=1\n",
    "    counts[i%10] += 1\n",
    "for i in range(1000,1001):\n",
    "    counts[i // 1000] +=1\n",
    "    counts[(i % 1000) // 100] +=1\n",
    "    counts[(i % 100 ) // 10]  +=1\n",
    "    counts[i % 10] +=1\n",
    "\n",
    "print(counts)"
   ]
  },
  {
   "cell_type": "code",
   "execution_count": null,
   "metadata": {},
   "outputs": [
    {
     "name": "stdout",
     "output_type": "stream",
     "text": [
      "정수 입력> 100000000\n",
      "6\n",
      "28\n",
      "496\n",
      "8128\n"
     ]
    }
   ],
   "source": [
    "# 5. \n",
    "\n",
    "def getDivisor(number):        # 자기 자신을 제외한 약수를 구하는 함수\n",
    "    result = list()\n",
    "    for i in range(1, number): # 자기자신을 포함하려면 +1을 해줘야한다.\n",
    "        if number % i == 0:\n",
    "            result.append(i)\n",
    "    return result\n",
    "\n",
    "n = int(input('정수 입력> '))\n",
    "for i in range(1, n+1):\n",
    "    div = getDivisor(i)\n",
    "    if i == sum(div):           # i번째의 수 == (자신을 제외한 약수들의 합) i를 출력한다.\n",
    "        print(i)"
   ]
  },
  {
   "cell_type": "code",
   "execution_count": 37,
   "metadata": {},
   "outputs": [
    {
     "name": "stdout",
     "output_type": "stream",
     "text": [
      "10\n",
      "55\n",
      "385\n",
      "3025\n",
      "2640\n"
     ]
    }
   ],
   "source": [
    "# 6. \n",
    "n = int(input())\n",
    "\n",
    "sum = 0\n",
    "sumofsquare=0\n",
    "for i in range(1,n+1):\n",
    "    sum += i\n",
    "    sumofsquare += i **2\n",
    "    squareofsum = sum**2\n",
    "\n",
    "print(sum)\n",
    "print(sumofsquare)\n",
    "print(squareofsum)\n",
    "print(squareofsum-sumofsquare)"
   ]
  }
 ],
 "metadata": {
  "kernelspec": {
   "display_name": "Python 3",
   "language": "python",
   "name": "python3"
  },
  "language_info": {
   "codemirror_mode": {
    "name": "ipython",
    "version": 3
   },
   "file_extension": ".py",
   "mimetype": "text/x-python",
   "name": "python",
   "nbconvert_exporter": "python",
   "pygments_lexer": "ipython3",
   "version": "3.7.3"
  }
 },
 "nbformat": 4,
 "nbformat_minor": 2
}
