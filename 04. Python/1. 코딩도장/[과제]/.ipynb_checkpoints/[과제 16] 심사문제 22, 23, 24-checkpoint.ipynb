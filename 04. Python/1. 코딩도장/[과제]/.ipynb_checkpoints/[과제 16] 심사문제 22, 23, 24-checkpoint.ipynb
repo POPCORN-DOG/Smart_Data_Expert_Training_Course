{
 "cells": [
  {
   "cell_type": "code",
   "execution_count": null,
   "metadata": {},
   "outputs": [],
   "source": [
    "#22 \n",
    "start, stop = map(int,input().split())\n",
    "\n",
    "t = [ 2**i for i in range(start,stop+1)]\n",
    "t.pop(1)\n",
    "t.pop(-2)\n",
    "print(t)"
   ]
  },
  {
   "cell_type": "code",
   "execution_count": null,
   "metadata": {},
   "outputs": [],
   "source": [
    "#23 \n",
    "# 지뢰찾기는 좀 더 연습하겠습니다. ㅠㅠ"
   ]
  },
  {
   "cell_type": "code",
   "execution_count": null,
   "metadata": {},
   "outputs": [],
   "source": [
    "#24-1\n",
    "import string\n",
    "\n",
    "words = input().split()\n",
    "\n",
    "count=0\n",
    "for i in words:\n",
    "    i = i.strip(string.punctuation)\n",
    "    if i == 'the':\n",
    "        count += 1\n",
    "        \n",
    "print(count)"
   ]
  },
  {
   "cell_type": "code",
   "execution_count": 13,
   "metadata": {},
   "outputs": [
    {
     "name": "stdout",
     "output_type": "stream",
     "text": [
      "51900;83000;158000;367500;250000;59200;128500;1304000\n",
      "1,304,000\n",
      "  367,500\n",
      "  250,000\n",
      "  158,000\n",
      "  128,500\n",
      "   83,000\n",
      "   59,200\n",
      "   51,900\n"
     ]
    }
   ],
   "source": [
    "#24-2\n",
    "prices = list(map(int,input().split(';')))\n",
    "prices.sort(reverse=True)\n",
    "\n",
    "for price in prices:\n",
    "    print('%9s' % format(price, ','))"
   ]
  }
 ],
 "metadata": {
  "kernelspec": {
   "display_name": "Python 3",
   "language": "python",
   "name": "python3"
  },
  "language_info": {
   "codemirror_mode": {
    "name": "ipython",
    "version": 3
   },
   "file_extension": ".py",
   "mimetype": "text/x-python",
   "name": "python",
   "nbconvert_exporter": "python",
   "pygments_lexer": "ipython3",
   "version": "3.7.3"
  }
 },
 "nbformat": 4,
 "nbformat_minor": 2
}
