{
 "cells": [
  {
   "cell_type": "code",
   "execution_count": null,
   "metadata": {},
   "outputs": [],
   "source": [
    "# 1번 문제\n",
    "# 정답 - 2,3,5 번"
   ]
  },
  {
   "cell_type": "code",
   "execution_count": null,
   "metadata": {},
   "outputs": [],
   "source": [
    "# 2번 문제\n",
    "# 정답 - 2,4번"
   ]
  },
  {
   "cell_type": "code",
   "execution_count": null,
   "metadata": {},
   "outputs": [],
   "source": [
    "# 3번 문제\n",
    "\n",
    "a,b = map(int,input().split())\n",
    "\n",
    "sum = 0\n",
    "for i in range(a,b+1):\n",
    "    if i % 2 == 1:\n",
    "        sum += i\n",
    "        \n",
    "print('합계>',sum)"
   ]
  },
  {
   "cell_type": "code",
   "execution_count": 6,
   "metadata": {
    "scrolled": true
   },
   "outputs": [
    {
     "name": "stdout",
     "output_type": "stream",
     "text": [
      "10000\n",
      "0.05\n",
      "1 500.0\n"
     ]
    }
   ],
   "source": [
    "# 4번 문제 -1  ( 일반 이자일 경우)\n",
    "\n",
    "money        = int(input())         # 원금\n",
    "interestrate = float(input())       # 연 복리 이자율 입력\n",
    "interest     = money * interestrate # 이잣돈\n",
    "\n",
    "year = 1\n",
    "while True :\n",
    "    print(year,interest)\n",
    "    year += 1\n",
    "    money *= interestrate\n",
    "    interest += money \n",
    "    if interest > money:\n",
    "        break\n",
    "        \n",
    "# ex) 원금 10,000원에 연이율 0.05%라고 가정하면 연 500원씩 적립되어 20년은 모아야 원금의 2배인 20000원인 된다."
   ]
  },
  {
   "cell_type": "code",
   "execution_count": null,
   "metadata": {},
   "outputs": [],
   "source": [
    "# 4번 문제 -2  ( 복리일 경우)\n",
    "money = int(input())\n",
    "r     = float(input())\n",
    "\n",
    "while True:\n",
    "    for i in \n",
    "\n"
   ]
  },
  {
   "cell_type": "code",
   "execution_count": 3,
   "metadata": {},
   "outputs": [
    {
     "data": {
      "text/plain": [
       "55125"
      ]
     },
     "execution_count": 3,
     "metadata": {},
     "output_type": "execute_result"
    }
   ],
   "source": [
    "11025*5"
   ]
  },
  {
   "cell_type": "code",
   "execution_count": null,
   "metadata": {},
   "outputs": [],
   "source": [
    "# 5번 문제\n",
    "bts = ['RM','진','슈가','제이홉','지민','뷔','정국']\n",
    "\n",
    "print('1)',bts[-2])\n",
    "print('2)',list(bts[0:1]))\n",
    "print('3)',list(bts[-2:]))\n",
    "print('4)',list(bts[2:5]))\n",
    "print('5)',list(bts[::2]))"
   ]
  },
  {
   "cell_type": "code",
   "execution_count": 5,
   "metadata": {
    "scrolled": true
   },
   "outputs": [
    {
     "name": "stdout",
     "output_type": "stream",
     "text": [
      "수박 :  15,000\n",
      "호박 :   1,000\n",
      "가지 :     800\n",
      "오이 :     600\n",
      "깻잎 :     500\n"
     ]
    }
   ],
   "source": [
    "# 6번 문제\n",
    "vegetables = {'가지':800,'오이':600,'수박':15000,'호박':1000,'깻잎':500,}\n",
    "# 길이 7 1000단위에 ,를 찍은 뒤 우측 정렬\n",
    "\n",
    "# import operator\n",
    "# sorted(vegetables.items(),key=operator.itemgetter(1),reverse=True)\n",
    "\n",
    "for key, value in sorted(vegetables.items(),key=lambda x: x[1],reverse=True):\n",
    "    print(key,':','%7s' % format(value, ','))"
   ]
  },
  {
   "cell_type": "code",
   "execution_count": null,
   "metadata": {},
   "outputs": [],
   "source": [
    "# 7번 문제\n",
    "\n",
    "# 대칭수(palindrome)\n",
    "# 두 자리 수를 곱해 만들 수 있는 대칭 수 중 가장 큰 수는 9009(=91x99)\n",
    "\n",
    "def isPalindrome(a):\n",
    "    for i in range(len(a)//2):\n",
    "        if a[i] != a[-1-i]:\n",
    "            return False\n",
    "    return True\n",
    "\n",
    "maxNum = 0\n",
    "for i in range(100,1000):\n",
    "    for k in range(i,1000):\n",
    "        if isPalindrome(str(i*k)):\n",
    "            if i*k > maxNum:\n",
    "                maxNum = i*k\n",
    "                x = i\n",
    "                y = k\n",
    "                \n",
    "print(maxNum)\n",
    "print('x =',x)\n",
    "print('y =', y)"
   ]
  },
  {
   "cell_type": "code",
   "execution_count": null,
   "metadata": {},
   "outputs": [],
   "source": [
    "# 8번 문제...잘 모르겠습니다 ㅠ"
   ]
  },
  {
   "cell_type": "code",
   "execution_count": null,
   "metadata": {},
   "outputs": [],
   "source": [
    "# 9번 문제\n",
    "a = [1,3,5,7,9]\n",
    "b = list(map(lambda x: x**2,a))\n",
    "\n",
    "print(b)"
   ]
  },
  {
   "cell_type": "code",
   "execution_count": 35,
   "metadata": {},
   "outputs": [
    {
     "name": "stdout",
     "output_type": "stream",
     "text": [
      "35\n",
      "16\n"
     ]
    }
   ],
   "source": [
    "counts = [0]*10\n",
    "\n",
    "N = int(input())\n",
    "\n",
    "for i in range(1,N+1):\n",
    "    if (i//10) % 3 == 0:\n",
    "        counts[i//10] +=1\n",
    "    if (i % 10) % 3 == 0:\n",
    "        counts[i % 10] +=1\n",
    "    \n",
    "print(counts[3]+counts[6]+counts[9])"
   ]
  }
 ],
 "metadata": {
  "kernelspec": {
   "display_name": "Python 3",
   "language": "python",
   "name": "python3"
  },
  "language_info": {
   "codemirror_mode": {
    "name": "ipython",
    "version": 3
   },
   "file_extension": ".py",
   "mimetype": "text/x-python",
   "name": "python",
   "nbconvert_exporter": "python",
   "pygments_lexer": "ipython3",
   "version": "3.7.3"
  }
 },
 "nbformat": 4,
 "nbformat_minor": 2
}
