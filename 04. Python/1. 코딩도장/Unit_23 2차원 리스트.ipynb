{
 "cells": [
  {
   "cell_type": "markdown",
   "metadata": {},
   "source": [
    "# Unit23: 2차원 리스트 사용하기."
   ]
  },
  {
   "cell_type": "markdown",
   "metadata": {},
   "source": [
    "## 2차원 리스트 [세로인덱스][가로인덱스] = 값"
   ]
  },
  {
   "cell_type": "code",
   "execution_count": 1,
   "metadata": {
    "scrolled": true
   },
   "outputs": [
    {
     "name": "stdout",
     "output_type": "stream",
     "text": [
      "[   [10, 20],\n",
      "    [30, 40],\n",
      "    [50, 60]]\n",
      "10 60\n"
     ]
    }
   ],
   "source": [
    "a = [[10, 20], [30, 40], [50, 60]] #가로2 세로 3의 2차원 리스트\n",
    "from pprint import pprint\n",
    "pprint(a, indent=4, width=20) # indent 들여쓰기 칸 수, width 가로 폭\n",
    "print(\n",
    "    a[0][0],  # 인덱스의 숫자도 0부터 시작한다.\n",
    "    a[2][1])  # 세로인덱스 0,1,2 가로인덱스 0,1"
   ]
  },
  {
   "cell_type": "markdown",
   "metadata": {},
   "source": [
    "## 2차원 튜플 "
   ]
  },
  {
   "cell_type": "code",
   "execution_count": null,
   "metadata": {},
   "outputs": [],
   "source": [
    "a = ((10,20),(30,40),(50,60))\n",
    "b = ([10,20],[30,40],[50,60]) # 튜플 안에 리스트를 넣음\n",
    "c = [(10,20),(30,40),(50,60)] # 리스트 안에 튜플을 넣음\n",
    "\n",
    "# 튜플은 기본적으로 변경 불가능\n",
    "b = [0]    = (500,600) 불가능\n",
    "b = [0][0] = 500         가능\n",
    "\n",
    "c = [0]    = (500,600)   가능\n",
    "c = [0][0] = 500       불가능"
   ]
  },
  {
   "cell_type": "markdown",
   "metadata": {},
   "source": [
    "## For 반목문으로 2차원 리스트 요소출력하기."
   ]
  },
  {
   "cell_type": "code",
   "execution_count": 23,
   "metadata": {},
   "outputs": [
    {
     "name": "stdout",
     "output_type": "stream",
     "text": [
      "3\n",
      "10 20\n",
      "30 40\n",
      "50 60\n"
     ]
    }
   ],
   "source": [
    "a = [[10, 20], [30, 40], [50, 60]]\n",
    "print(len(a)) # 안쪽 리스트의 개수(세로 크기)인 3개\n",
    "\n",
    "for x,y in a:\n",
    "    print(x,y)"
   ]
  },
  {
   "cell_type": "code",
   "execution_count": 22,
   "metadata": {},
   "outputs": [
    {
     "name": "stdout",
     "output_type": "stream",
     "text": [
      "10 20 \n",
      "30 40 \n",
      "50 60 \n",
      "3\n",
      "10 20 \n",
      "30 40 \n",
      "50 60 \n",
      "[0, 0, 0, 0, 0, 0, 0, 0, 0, 0]\n",
      "[[0, 0], [0, 0], [0, 0]]\n"
     ]
    }
   ],
   "source": [
    "# for 2개 \n",
    "# 1.\n",
    "for i in a:\n",
    "    for k in i:\n",
    "        print(k, end=' ')\n",
    "    print()\n",
    "\n",
    "# 2.\n",
    "print(len(a)) # 안쪽 리스트의 개수(세로 크기)인 3개\n",
    "\n",
    "for i in range(len(a)):        # 세로 크기\n",
    "    for k in range(len(a[i])): # 가로 크기\n",
    "        print(a[i][k],end=' ')\n",
    "    print()\n",
    "\n",
    "# 3.\n",
    "b = []\n",
    "for i in range(10):\n",
    "    b.append(0)  #append로 요소 추가\n",
    "    \n",
    "print(b)\n",
    "\n",
    "a = []\n",
    "for i in range(3):\n",
    "    line = []\n",
    "    for k in range(2):\n",
    "        line.append(0)\n",
    "    a.append(line)\n",
    "print(a)"
   ]
  },
  {
   "cell_type": "markdown",
   "metadata": {},
   "source": [
    "## while 반목문으로 2차원 리스트 요소출력하기."
   ]
  },
  {
   "cell_type": "code",
   "execution_count": 13,
   "metadata": {
    "scrolled": true
   },
   "outputs": [
    {
     "name": "stdout",
     "output_type": "stream",
     "text": [
      "10 20\n",
      "30 40\n",
      "50 60\n",
      "10 20 \n",
      "30 40 \n",
      "50 60 \n"
     ]
    }
   ],
   "source": [
    "a = [[10, 20], [30, 40], [50, 60]]\n",
    "\n",
    "i=0\n",
    "while i < len(a): # 반복할 때 리스트의 크기 활용(세로크기)\n",
    "    x,y = a[i]    # 요소 두 개를 한꺼번에 가져오기\n",
    "    print(x,y)\n",
    "    i += 1        # 인덱스를 1 증가시킴\n",
    "    \n",
    "# while 2개\n",
    "#1.\n",
    "i = 0\n",
    "while i < len(a):        # 세로 크기\n",
    "    k = 0\n",
    "    while k < len(a[i]): # 가로 크기\n",
    "        print(a[i][k],end=' ')\n",
    "        k += 1           # 가로 인덱스를 1 증가시킴\n",
    "    print()\n",
    "    i += 1               # 세로 인덱스를 1 증가시킴"
   ]
  },
  {
   "cell_type": "markdown",
   "metadata": {},
   "source": [
    "## 리스트 표현식으로 2차원 리스트 만들기"
   ]
  },
  {
   "cell_type": "code",
   "execution_count": 26,
   "metadata": {},
   "outputs": [
    {
     "name": "stdout",
     "output_type": "stream",
     "text": [
      "[[0, 0], [0, 0], [0, 0]]\n",
      "[[0, 0], [0, 0], [0, 0]]\n"
     ]
    }
   ],
   "source": [
    "# [  []  for i in range(3)] : i대신에 []가 들어간 것\n",
    "a = [[0 for k in range(2)] for i in range(3)]\n",
    "print(a)\n",
    "\n",
    "a = [[0]*2 for i in range(3)] # [0,1,2]\n",
    "print(a)"
   ]
  },
  {
   "cell_type": "markdown",
   "metadata": {},
   "source": [
    "## 톱니형 리스트(append로 추가, 생성할 수 있다.)"
   ]
  },
  {
   "cell_type": "code",
   "execution_count": 34,
   "metadata": {
    "scrolled": true
   },
   "outputs": [
    {
     "name": "stdout",
     "output_type": "stream",
     "text": [
      "[[0, 0, 0], [0], [0, 0, 0], [0, 0], [0, 0, 0, 0, 0]]\n",
      "[[0, 0, 0], [0], [0, 0, 0], [0, 0], [0, 0, 0, 0, 0]]\n"
     ]
    }
   ],
   "source": [
    "a = [[10, 20],\n",
    "     [500, 600, 700],\n",
    "     [9],\n",
    "     [30, 40],\n",
    "     [8],\n",
    "     [800, 900, 1000]]\n",
    "\n",
    "a = [3,1,3,2,5]\n",
    "b = []\n",
    "for i in a:\n",
    "    line = []\n",
    "    for k in range(i):\n",
    "        line.append(0)\n",
    "    b.append(line)\n",
    "    \n",
    "print(b)\n",
    "\n",
    "a = [[0]* i for i in [3,1,3,2,5]]\n",
    "print(a)"
   ]
  },
  {
   "cell_type": "markdown",
   "metadata": {},
   "source": [
    "## sorted로 2차원 리스트 정렬하기"
   ]
  },
  {
   "cell_type": "code",
   "execution_count": 28,
   "metadata": {
    "scrolled": true
   },
   "outputs": [
    {
     "name": "stdout",
     "output_type": "stream",
     "text": [
      "[['maria', 'A', 25], ['andrew', 'B', 7], ['john', 'C', 19]]\n",
      "[['andrew', 'B', 7], ['john', 'C', 19], ['maria', 'A', 25]]\n"
     ]
    }
   ],
   "source": [
    "students = [\n",
    "    ['john', 'C', 19],\n",
    "    ['maria', 'A', 25],\n",
    "    ['andrew', 'B', 7]\n",
    "]\n",
    " \n",
    "print(sorted(students, key=lambda student: student[1]))  # 안쪽 리스트의 인덱스 1을 기준으로 정렬\n",
    "print(sorted(students, key=lambda student: student[2]))  # 안쪽 리스트의 인덱스 2를 기준으로 정렬"
   ]
  },
  {
   "cell_type": "markdown",
   "metadata": {},
   "source": [
    "## 2차원에서 복사하기"
   ]
  },
  {
   "cell_type": "code",
   "execution_count": null,
   "metadata": {},
   "outputs": [],
   "source": [
    "# 1차원에서의 copy와 2차원에서의 copy는 다르다.\n",
    "# 1차원에서는 b = a.copy()          (쉘로우 카피)\n",
    "# 2차원에서는 b = copy.deepcopy(a)  (딥 카피)"
   ]
  },
  {
   "cell_type": "markdown",
   "metadata": {},
   "source": [
    "### #연습문제"
   ]
  },
  {
   "cell_type": "code",
   "execution_count": 31,
   "metadata": {},
   "outputs": [
    {
     "name": "stdout",
     "output_type": "stream",
     "text": [
      "[   [   [0, 0, 0],\n",
      "        [0, 0, 0],\n",
      "        [0, 0, 0],\n",
      "        [0, 0, 0]],\n",
      "    [   [0, 0, 0],\n",
      "        [0, 0, 0],\n",
      "        [0, 0, 0],\n",
      "        [0, 0, 0]]]\n",
      "[[[0, 0, 0], [0, 0, 0], [0, 0, 0], [0, 0, 0]], [[0, 0, 0], [0, 0, 0], [0, 0, 0], [0, 0, 0]]]\n"
     ]
    }
   ],
   "source": [
    "# 행(row) 열(col) 갯수(depth) \n",
    "a = [[[0 for col in range(3)] for row in range(4)]for depth in range(2)]\n",
    "pprint(a, indent=4, width=20) # indent 들여쓰기 칸 수, width 가로 폭\n",
    "print(a)"
   ]
  },
  {
   "cell_type": "markdown",
   "metadata": {},
   "source": [
    "### #심사문제"
   ]
  },
  {
   "cell_type": "code",
   "execution_count": 43,
   "metadata": {},
   "outputs": [
    {
     "name": "stdout",
     "output_type": "stream",
     "text": [
      "3 3\n",
      "3 3\n",
      "3 3\n",
      "3 3\n"
     ]
    }
   ],
   "source": [
    "row, col= map(int,input().split())\n",
    "\n",
    "\n",
    "matrix = []\n",
    "for i in range(row):\n",
    "    matrix.append(list(input()))\n",
    "    for k in range(col):"
   ]
  }
 ],
 "metadata": {
  "kernelspec": {
   "display_name": "Python 3",
   "language": "python",
   "name": "python3"
  },
  "language_info": {
   "codemirror_mode": {
    "name": "ipython",
    "version": 3
   },
   "file_extension": ".py",
   "mimetype": "text/x-python",
   "name": "python",
   "nbconvert_exporter": "python",
   "pygments_lexer": "ipython3",
   "version": "3.7.3"
  }
 },
 "nbformat": 4,
 "nbformat_minor": 2
}
