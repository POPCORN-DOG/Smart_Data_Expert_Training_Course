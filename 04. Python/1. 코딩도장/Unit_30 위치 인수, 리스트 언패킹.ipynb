{
 "cells": [
  {
   "cell_type": "markdown",
   "metadata": {},
   "source": [
    "# Unit 30. 함수에서 위치 인수와 키워드 인수 사용"
   ]
  },
  {
   "cell_type": "code",
   "execution_count": null,
   "metadata": {},
   "outputs": [],
   "source": [
    "# 인수(argument)\n",
    "\n",
    "# print(x,y,sep=':',end='') \n",
    "# x,y를 위치형 인수(positional argument)라고 하고,\n",
    "# sep,end처럼 단어가 들어간것을 키워드형 인수라고 한다. \n",
    "\n",
    "# 주로 옵션에 사용된다.\n",
    "# 인수는 자유롭게 사용된다.(제한된 개수가 없다.)\n",
    "\n",
    "# 만약 print(end='',x) 이렇게 찍히면 위치형 인수 때문에 실행이 안된다. "
   ]
  },
  {
   "cell_type": "markdown",
   "metadata": {},
   "source": [
    "# 위치인수"
   ]
  },
  {
   "cell_type": "code",
   "execution_count": 4,
   "metadata": {},
   "outputs": [
    {
     "name": "stdout",
     "output_type": "stream",
     "text": [
      "10\n",
      "20\n",
      "30\n"
     ]
    }
   ],
   "source": [
    "def print_numbers(a,b,c): # argument가 3개인 print_numbers라는 함수\n",
    "    print(a)\n",
    "    print(b)\n",
    "    print(c)\n",
    "    \n",
    "print_numbers(10,20,30)"
   ]
  },
  {
   "cell_type": "markdown",
   "metadata": {},
   "source": [
    "### 1. 언패킹 사용하기."
   ]
  },
  {
   "cell_type": "code",
   "execution_count": 5,
   "metadata": {
    "scrolled": true
   },
   "outputs": [
    {
     "name": "stdout",
     "output_type": "stream",
     "text": [
      "10\n",
      "20\n",
      "30\n"
     ]
    }
   ],
   "source": [
    "# 리스트 or 튜플 언패킹이란\n",
    "# 말그대로 리스트의 포장을 푼다는 뜻\n",
    "\n",
    "x = [10,20,30]\n",
    "print_numbers(*x) # (*)주소에 대한 값, 포인터로 지칭하여 값을 끌어오는 역할"
   ]
  },
  {
   "cell_type": "markdown",
   "metadata": {},
   "source": [
    "### 2. 가변 인수 함수 만들기."
   ]
  },
  {
   "cell_type": "code",
   "execution_count": 18,
   "metadata": {},
   "outputs": [
    {
     "name": "stdout",
     "output_type": "stream",
     "text": [
      "10\n",
      "20\n",
      "30\n",
      "40\n",
      "100\n",
      "200\n",
      "300\n",
      "400\n",
      "100 200 300 400\n"
     ]
    }
   ],
   "source": [
    "# 인수의 개수가 정해지지 않은 가변 인수(Variable argument)에 사용한다.\n",
    "# 매개변수 arguments = args\n",
    "\n",
    "def print_numbers(*args):\n",
    "    for arg in args:\n",
    "        print(arg)\n",
    "    \n",
    "print_numbers(10,20,30,40)\n",
    "\n",
    "y = [100,200,300,400]\n",
    "print_numbers(*y)\n",
    "\n",
    "print(*y)"
   ]
  },
  {
   "cell_type": "markdown",
   "metadata": {},
   "source": [
    "### 3. 고정인수와 가변 인수 함께 사용하기."
   ]
  },
  {
   "cell_type": "code",
   "execution_count": 19,
   "metadata": {
    "scrolled": false
   },
   "outputs": [
    {
     "name": "stdout",
     "output_type": "stream",
     "text": [
      "1\n",
      "()\n",
      "1\n",
      "(10, 20)\n"
     ]
    }
   ],
   "source": [
    "def print_numbers(a,*args): # 단, 매개변수 순서에서 *args는 반드시 뒤쪽에 와야한다.\n",
    "    print(a)\n",
    "    print(args)\n",
    "\n",
    "print_numbers(1)\n",
    "\n",
    "print_numbers(1,10,20)"
   ]
  },
  {
   "cell_type": "markdown",
   "metadata": {},
   "source": [
    "# 키워드 인수"
   ]
  },
  {
   "cell_type": "markdown",
   "metadata": {},
   "source": [
    "### 4. 키워드 인수 사용하기."
   ]
  },
  {
   "cell_type": "code",
   "execution_count": 29,
   "metadata": {
    "scrolled": true
   },
   "outputs": [
    {
     "name": "stdout",
     "output_type": "stream",
     "text": [
      "이름:  홍길동\n",
      "나이:  30\n",
      "주소:  서울시 용산구 이촌동\n",
      "\n",
      "이름:  30\n",
      "나이:  홍길동\n",
      "주소:  서울시 용산구 이촌동\n",
      "\n",
      "이름:  홍길동\n",
      "나이:  30\n",
      "주소:  서울시 용산구 이촌동\n",
      "\n",
      "이름:  홍길동\n",
      "나이:  30\n",
      "주소:  서울시 용산구 이촌동\n"
     ]
    }
   ],
   "source": [
    "def personal_info(name,age,address):\n",
    "    print('이름: ', name)\n",
    "    print('나이: ', age)\n",
    "    print('주소: ', address)\n",
    "\n",
    "personal_info('홍길동',30,'서울시 용산구 이촌동'); print()\n",
    "personal_info(30,'홍길동','서울시 용산구 이촌동'); print()\n",
    "personal_info(name='홍길동',age=30,address='서울시 용산구 이촌동'); print()\n",
    "personal_info(age=30,name='홍길동',address='서울시 용산구 이촌동')"
   ]
  },
  {
   "cell_type": "markdown",
   "metadata": {},
   "source": [
    "### 5. 키워드 인수와 딕셔너리 언패킹."
   ]
  },
  {
   "cell_type": "code",
   "execution_count": 31,
   "metadata": {},
   "outputs": [],
   "source": [
    "#  딕셔너리일 경우 \n",
    "#   * 하나면  (key1:val1) \n",
    "#  ** 두개면  (key1) (val1)"
   ]
  },
  {
   "cell_type": "code",
   "execution_count": 33,
   "metadata": {},
   "outputs": [
    {
     "name": "stdout",
     "output_type": "stream",
     "text": [
      "이름:  name\n",
      "나이:  age\n",
      "주소:  address\n",
      "\n",
      "이름:  홍길동\n",
      "나이:  30\n",
      "주소:  서울시 용산구 이촌동\n",
      "\n",
      "이름:  홍길동\n",
      "나이:  30\n",
      "주소:  서울시 용산구 이촌동\n"
     ]
    }
   ],
   "source": [
    "x = {'name':'홍길동','age':30,'address':'서울시 용산구 이촌동'}\n",
    "personal_info(*x); print()\n",
    "personal_info(**x); print()\n",
    "personal_info(**{'name':'홍길동','age':30,'address':'서울시 용산구 이촌동'})"
   ]
  },
  {
   "cell_type": "markdown",
   "metadata": {},
   "source": [
    "### 6. 키워드 인수를 사용하는 가변인수 함수 만들기"
   ]
  },
  {
   "cell_type": "code",
   "execution_count": 43,
   "metadata": {},
   "outputs": [
    {
     "name": "stdout",
     "output_type": "stream",
     "text": [
      "name: 홍길동\n",
      "old: 30\n",
      "address: 서울시 용산구 이촌동\n",
      "\n",
      "이름:  홍길동\n",
      "나이:  30\n",
      "주소:  서울시 용산구 이촌동\n"
     ]
    }
   ],
   "source": [
    "def personal_info(**kwargs):\n",
    "    for kw,arg in kwargs.items():\n",
    "        print(kw,': ',arg,sep='')\n",
    "    \n",
    "personal_info(**{'name':'홍길동','old':30,'address':'서울시 용산구 이촌동'}); print()\n",
    "\n",
    "def personal_info(**kwargs):\n",
    "    if 'name' in kwargs:                 # in으로 딕셔너리 안에 특정 키가 있는지 확인.\n",
    "        print('이름: ',kwargs['name'])\n",
    "    if 'age' in kwargs:\n",
    "        print('나이: ',kwargs['age'])\n",
    "    if 'address' in kwargs:\n",
    "        print('주소: ',kwargs['address'])\n",
    "\n",
    "personal_info(**x)"
   ]
  },
  {
   "cell_type": "markdown",
   "metadata": {},
   "source": [
    "# 위치인수& 키워드인수"
   ]
  },
  {
   "cell_type": "code",
   "execution_count": 7,
   "metadata": {},
   "outputs": [
    {
     "name": "stdout",
     "output_type": "stream",
     "text": [
      "1:2:3"
     ]
    }
   ],
   "source": [
    "def custom_print(*args, **kwargs):\n",
    "    print(*args,**kwargs)\n",
    "    \n",
    "custom_print(1,2,3,sep=':',end='')"
   ]
  },
  {
   "cell_type": "markdown",
   "metadata": {},
   "source": [
    "### 7. 매개변수에 초깃값 지정하기."
   ]
  },
  {
   "cell_type": "code",
   "execution_count": null,
   "metadata": {},
   "outputs": [],
   "source": [
    "# print함수의 기본 default(초깃값)는 sep=' '(공백),\n",
    "# 즉, 미리 초깃값을 지정하면 해당 인수 부분을 비워둬도 호출 가능하다."
   ]
  },
  {
   "cell_type": "code",
   "execution_count": 10,
   "metadata": {},
   "outputs": [
    {
     "name": "stdout",
     "output_type": "stream",
     "text": [
      "이름:  홍길동\n",
      "나이:  20\n",
      "주소:  비공개\n",
      "이름:  홍길동\n",
      "나이:  30\n",
      "주소:  서울시\n"
     ]
    }
   ],
   "source": [
    "def personal_info(name,age,address='비공개'):\n",
    "    print('이름: ',name)\n",
    "    print('나이: ',age)\n",
    "    print('주소: ',address)\n",
    "    \n",
    "personal_info('홍길동',20)\n",
    "personal_info('홍길동',30,'서울시') # 매게변수에 초깃값이 지정되어 있더라도 값을 넣으면 전달됨"
   ]
  },
  {
   "cell_type": "markdown",
   "metadata": {},
   "source": [
    "# #연습문제"
   ]
  },
  {
   "cell_type": "code",
   "execution_count": 16,
   "metadata": {},
   "outputs": [
    {
     "name": "stdout",
     "output_type": "stream",
     "text": [
      "높은 점수: 100\n",
      "높은 점수: 91\n"
     ]
    }
   ],
   "source": [
    "korean, english, mathematics, science = 100,86,81,91\n",
    "\n",
    "def get_max_score(*args):\n",
    "    return max(*args)\n",
    "\n",
    "max_score = get_max_score(korean,english,mathematics,science)\n",
    "print('높은 점수:',max_score)\n",
    "\n",
    "max_score = get_max_score(english, science)\n",
    "print('높은 점수:', max_score)"
   ]
  },
  {
   "cell_type": "markdown",
   "metadata": {},
   "source": [
    "# #심사문제"
   ]
  },
  {
   "cell_type": "code",
   "execution_count": 18,
   "metadata": {},
   "outputs": [
    {
     "name": "stdout",
     "output_type": "stream",
     "text": [
      "76 82 89 84\n",
      "낮은 점수: 76.00, 높은 점수: 89.00, 평균 점수: 82.75\n",
      "낮은 점수: 82.00, 높은 점수: 84.00, 평균 점수: 83.00\n"
     ]
    }
   ],
   "source": [
    "korean, english, mathematics, science = map(int, input().split())\n",
    "\n",
    "def get_min_max_score(*args):\n",
    "    return min(*args), max(*args)\n",
    "\n",
    "def get_average(**kwargs):\n",
    "    return sum(kwargs.values())/len(kwargs)\n",
    "\n",
    "min_score, max_score = get_min_max_score(korean, english, mathematics, science)\n",
    "\n",
    "average_score = get_average(korean=korean, english=english,\n",
    "                            mathematics=mathematics, science=science)\n",
    "\n",
    "print('낮은 점수: {0:.2f}, 높은 점수: {1:.2f}, 평균 점수: {2:.2f}'\n",
    "      .format(min_score, max_score, average_score))\n",
    "\n",
    "min_score, max_score = get_min_max_score(english, science)\n",
    "average_score = get_average(english=english, science=science)\n",
    "\n",
    "print('낮은 점수: {0:.2f}, 높은 점수: {1:.2f}, 평균 점수: {2:.2f}'\n",
    "      .format(min_score, max_score, average_score))"
   ]
  }
 ],
 "metadata": {
  "kernelspec": {
   "display_name": "Python 3",
   "language": "python",
   "name": "python3"
  },
  "language_info": {
   "codemirror_mode": {
    "name": "ipython",
    "version": 3
   },
   "file_extension": ".py",
   "mimetype": "text/x-python",
   "name": "python",
   "nbconvert_exporter": "python",
   "pygments_lexer": "ipython3",
   "version": "3.7.3"
  }
 },
 "nbformat": 4,
 "nbformat_minor": 2
}
