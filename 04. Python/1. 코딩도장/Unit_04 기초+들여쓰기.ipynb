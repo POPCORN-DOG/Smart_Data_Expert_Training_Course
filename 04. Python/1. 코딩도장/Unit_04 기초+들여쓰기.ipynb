{
 "cells": [
  {
   "cell_type": "markdown",
   "metadata": {},
   "source": [
    "# Unit 4. 들여쓰기"
   ]
  },
  {
   "cell_type": "code",
   "execution_count": null,
   "metadata": {},
   "outputs": [],
   "source": [
    "# print('Hello, world!')"
   ]
  },
  {
   "cell_type": "code",
   "execution_count": 15,
   "metadata": {},
   "outputs": [
    {
     "name": "stdout",
     "output_type": "stream",
     "text": [
      "Hello\n",
      "1234\n"
     ]
    }
   ],
   "source": [
    "print('Hello'); print('1234')"
   ]
  },
  {
   "cell_type": "code",
   "execution_count": 17,
   "metadata": {},
   "outputs": [
    {
     "name": "stdout",
     "output_type": "stream",
     "text": [
      "Hello world\n"
     ]
    }
   ],
   "source": [
    "#hello wold 출력\n",
    "print('Hello world')"
   ]
  },
  {
   "cell_type": "code",
   "execution_count": 3,
   "metadata": {},
   "outputs": [
    {
     "name": "stdout",
     "output_type": "stream",
     "text": [
      "10입니다.\n",
      "10\n",
      "입니다.\n",
      "입니다\n"
     ]
    }
   ],
   "source": [
    "#들여쓰기(Indentation) 파이썬에서는 if(){} 대신에 if(): 이렇게 입력한다.\n",
    "#들여쓰기 한채로 다음 공백을 일부러 없애면 오류가 난다.\n",
    "#if a == 10:\n",
    "#print('') -> error\n",
    "\n",
    "### 1.\n",
    "a = 10\n",
    "if a == 10: \n",
    "    print('10입니다.')\n",
    "    \n",
    "### 2.\n",
    "if a==10:\n",
    "    print(10)\n",
    "    print('입니다.')\n",
    "\n",
    "### 3.\n",
    "a = 5\n",
    "if a == 10:\n",
    "    print(10)\n",
    "print('입니다')"
   ]
  },
  {
   "cell_type": "code",
   "execution_count": 75,
   "metadata": {
    "scrolled": true
   },
   "outputs": [
    {
     "name": "stdout",
     "output_type": "stream",
     "text": [
      "2 1\n"
     ]
    }
   ],
   "source": [
    "# 파이썬은 L-value(변수) = R-value(값) 형식이다. (=) assignment\n",
    "# L-value는 하나가 아니라 여러개로 할 수 있다.\n",
    "\n",
    "quotient, remainder = divmod(5,2)\n",
    "print(quotient, remainder)"
   ]
  }
 ],
 "metadata": {
  "kernelspec": {
   "display_name": "Python 3",
   "language": "python",
   "name": "python3"
  },
  "language_info": {
   "codemirror_mode": {
    "name": "ipython",
    "version": 3
   },
   "file_extension": ".py",
   "mimetype": "text/x-python",
   "name": "python",
   "nbconvert_exporter": "python",
   "pygments_lexer": "ipython3",
   "version": "3.7.3"
  }
 },
 "nbformat": 4,
 "nbformat_minor": 2
}
