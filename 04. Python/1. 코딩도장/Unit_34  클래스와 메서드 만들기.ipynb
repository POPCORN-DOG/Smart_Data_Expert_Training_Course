{
 "cells": [
  {
   "cell_type": "code",
   "execution_count": null,
   "metadata": {},
   "outputs": [],
   "source": [
    "#   class :기사(Knight)\n",
    "\n",
    "#  특징(속성) | 작업(동작)\n",
    "# (attribute) | (method)\n",
    "#    HP,MP    |   베기\n",
    "#  물리,마법  |  찌르기\n",
    "#  (캡슐화):  |\n",
    "#  변경불가능 |\n",
    "\n",
    "#  즉, class에서는 attribute와 method로 구성되어 있다.\n",
    "# 프로그램에서는 자식 class 가 부모를 선택할 수 있다.\n",
    "# 상속을 활용하면 부모(person)가 갖고있는 속성값과 동작을 자식에게 그대로 물려줄 수 있다.\n",
    "# 물려받는 동시에 자식(student)이 갖는 특성까지 더해서(+10) 더욱 많은 속성과 동작을 할 수 있다.\n",
    "\n",
    "# 부모의 method를 상속받은 자식(student)이 자신의 method를 고치는 것을 method overriding이라 한다.\n",
    "# "
   ]
  },
  {
   "cell_type": "code",
   "execution_count": 5,
   "metadata": {},
   "outputs": [
    {
     "name": "stdout",
     "output_type": "stream",
     "text": [
      "Hello\n"
     ]
    },
    {
     "data": {
      "text/plain": [
       "__main__.Person"
      ]
     },
     "execution_count": 5,
     "metadata": {},
     "output_type": "execute_result"
    }
   ],
   "source": [
    "class Person:  # 클래스 이름은 대문자로 하는 것이 관례\n",
    "    def greeting(self): # class 안에 있기 때문에 함수가 아닌 method이다.\n",
    "        print('Hello')  # method(self) = self라는 것은 자기자신을 의미하는 것뿐 사용시 쓰진 않는다.\n",
    "        \n",
    "james = Person() # person 이라는 class를 이용하여 james라는 객체를 만들 때 생성자(constructor)를 실행시킨다.\n",
    "james.greeting()\n",
    "type(james)"
   ]
  },
  {
   "cell_type": "code",
   "execution_count": 13,
   "metadata": {},
   "outputs": [
    {
     "name": "stdout",
     "output_type": "stream",
     "text": [
      "Hello\n"
     ]
    },
    {
     "data": {
      "text/plain": [
       "True"
      ]
     },
     "execution_count": 13,
     "metadata": {},
     "output_type": "execute_result"
    }
   ],
   "source": [
    "class Person:\n",
    "    def greeting(self):\n",
    "        print('Hello')\n",
    "        \n",
    "    def hello(self):\n",
    "        self.greeting()\n",
    "        \n",
    "james = Person()\n",
    "james.hello()\n",
    "\n",
    "isinstance(james,Person)"
   ]
  },
  {
   "cell_type": "code",
   "execution_count": 16,
   "metadata": {},
   "outputs": [],
   "source": [
    "def factorial(n):\n",
    "    if not isinstance(n,int) or n <0: # n이라는 숫자가 int의 instace냐\n",
    "        return None                   # n이 정수가 아니거나 음수이면 함수를 끝냄\n",
    "    if n == 0:\n",
    "        return 1\n",
    "    return n * factorial(n-1)\n",
    "\n",
    "factorial(6)\n",
    "factorial(6.0) #int가 아니기때문에 출력이 안된다."
   ]
  },
  {
   "cell_type": "code",
   "execution_count": 23,
   "metadata": {
    "scrolled": true
   },
   "outputs": [
    {
     "name": "stdout",
     "output_type": "stream",
     "text": [
      "안녕하세요.\n",
      "안녕하세요? 여러분!\n"
     ]
    }
   ],
   "source": [
    "class Person:\n",
    "    def __init__(self): # 파이썬이 자동으로 호출해주는 메서드로, 스페셜 메서드라고 한다.\n",
    "        self.hello='안녕하세요.'\n",
    "        \n",
    "    def greeting(self):\n",
    "        print(self.hello)\n",
    "        \n",
    "james = Person()\n",
    "\n",
    "james.greeting()\n",
    "\n",
    "james.hello\n",
    "\n",
    "james.hello = '안녕하세요? 여러분!' #바깥에서 속성값을 변경\n",
    "james.greeting()"
   ]
  },
  {
   "cell_type": "markdown",
   "metadata": {},
   "source": [
    "# 인스턴스를 만들 때 값 받기 "
   ]
  },
  {
   "cell_type": "code",
   "execution_count": null,
   "metadata": {},
   "outputs": [],
   "source": [
    "# class 클래스이름:\n",
    "#     def __init__(self, 매개변수1, 매개변수2):\n",
    "#         self.속성1 = 매개변수1\n",
    "#         self.속성2 = 매개변수2"
   ]
  },
  {
   "cell_type": "code",
   "execution_count": 26,
   "metadata": {},
   "outputs": [
    {
     "name": "stdout",
     "output_type": "stream",
     "text": [
      "안녕하세요. 저는 마리아입니다.\n",
      "이름: 마리아\n",
      "나이: 20\n",
      "주소: 서울시 서초구 반포동\n"
     ]
    }
   ],
   "source": [
    "class Person:\n",
    "    def __init__(self,name,age,address):\n",
    "        self.hello = '안녕하세요.'\n",
    "        self.name = name\n",
    "        self.age = age\n",
    "        self.address = address\n",
    "        \n",
    "    def greeting(self):\n",
    "        print('{0} 저는 {1}입니다.'.format(self.hello, self.name))\n",
    "        \n",
    "maria = Person('마리아',20,'서울시 서초구 반포동')\n",
    "maria.greeting()\n",
    "\n",
    "print('이름:',maria.name)\n",
    "print('나이:',maria.age)\n",
    "print('주소:',maria.address)"
   ]
  },
  {
   "cell_type": "code",
   "execution_count": null,
   "metadata": {},
   "outputs": [],
   "source": [
    "# 클래스의 위치인수, 키워드인수"
   ]
  },
  {
   "cell_type": "code",
   "execution_count": null,
   "metadata": {},
   "outputs": [],
   "source": []
  },
  {
   "cell_type": "code",
   "execution_count": null,
   "metadata": {},
   "outputs": [],
   "source": []
  },
  {
   "cell_type": "markdown",
   "metadata": {},
   "source": [
    "# 인스턴스 생성후 바깥에서 속성 추가"
   ]
  },
  {
   "cell_type": "code",
   "execution_count": 41,
   "metadata": {},
   "outputs": [
    {
     "data": {
      "text/plain": [
       "'마리아'"
      ]
     },
     "execution_count": 41,
     "metadata": {},
     "output_type": "execute_result"
    }
   ],
   "source": [
    "class Person:\n",
    "    pass\n",
    "\n",
    "maria = Person()       # 인스턴스 생성\n",
    "maria.name = '마리아'  # 인스턴스를 만든 뒤 속성 추가\n",
    "maria.name"
   ]
  },
  {
   "cell_type": "code",
   "execution_count": 42,
   "metadata": {
    "scrolled": true
   },
   "outputs": [
    {
     "ename": "AttributeError",
     "evalue": "'Person' object has no attribute 'name'",
     "output_type": "error",
     "traceback": [
      "\u001b[1;31m---------------------------------------------------------------------------\u001b[0m",
      "\u001b[1;31mAttributeError\u001b[0m                            Traceback (most recent call last)",
      "\u001b[1;32m<ipython-input-42-79eb8a63ba85>\u001b[0m in \u001b[0;36m<module>\u001b[1;34m\u001b[0m\n\u001b[0;32m      1\u001b[0m \u001b[1;31m# 바깥에서 속성을 추가하면 다른 객체에서는 유효하지 않다.\u001b[0m\u001b[1;33m\u001b[0m\u001b[1;33m\u001b[0m\u001b[1;33m\u001b[0m\u001b[0m\n\u001b[0;32m      2\u001b[0m \u001b[0mjames\u001b[0m \u001b[1;33m=\u001b[0m \u001b[0mPerson\u001b[0m\u001b[1;33m(\u001b[0m\u001b[1;33m)\u001b[0m\u001b[1;33m\u001b[0m\u001b[1;33m\u001b[0m\u001b[0m\n\u001b[1;32m----> 3\u001b[1;33m \u001b[0mjames\u001b[0m\u001b[1;33m.\u001b[0m\u001b[0mname\u001b[0m\u001b[1;33m\u001b[0m\u001b[1;33m\u001b[0m\u001b[0m\n\u001b[0m",
      "\u001b[1;31mAttributeError\u001b[0m: 'Person' object has no attribute 'name'"
     ]
    }
   ],
   "source": [
    "# 바깥에서 속성을 추가하면 다른 객체에서는 유효하지 않다.\n",
    "james = Person()\n",
    "james.name"
   ]
  },
  {
   "cell_type": "markdown",
   "metadata": {},
   "source": [
    "# 인스턴스 추가 후 특정 속성만 허용하기 __slot__"
   ]
  },
  {
   "cell_type": "code",
   "execution_count": 40,
   "metadata": {},
   "outputs": [
    {
     "name": "stdout",
     "output_type": "stream",
     "text": [
      "마리아\n",
      "20\n"
     ]
    }
   ],
   "source": [
    "# 인스턴스는 자유롭게 속성을 추가 가능하다\n",
    "# but, 특정 속성만 허용하고 다른 속성은 제한하고 싶을 때 \n",
    "# __slot__을 사용한다.\n",
    "\n",
    "class Person:\n",
    "    __slots__ = ['name','age'] # 바깥에서 속성 설정 가능한 것을 name과 age로 제한\n",
    "\n",
    "maria = Person()\n",
    "maria.name = '마리아'\n",
    "maria.age = 20\n",
    "\n",
    "print(maria.name)\n",
    "print(maria.age)"
   ]
  },
  {
   "cell_type": "code",
   "execution_count": 35,
   "metadata": {
    "scrolled": true
   },
   "outputs": [
    {
     "ename": "AttributeError",
     "evalue": "'Person' object has no attribute 'gender'",
     "output_type": "error",
     "traceback": [
      "\u001b[1;31m---------------------------------------------------------------------------\u001b[0m",
      "\u001b[1;31mAttributeError\u001b[0m                            Traceback (most recent call last)",
      "\u001b[1;32m<ipython-input-35-03617b9f0ad4>\u001b[0m in \u001b[0;36m<module>\u001b[1;34m\u001b[0m\n\u001b[1;32m----> 1\u001b[1;33m \u001b[0mmaria\u001b[0m\u001b[1;33m.\u001b[0m\u001b[0mgender\u001b[0m \u001b[1;33m=\u001b[0m \u001b[1;34m'female'\u001b[0m\u001b[1;33m\u001b[0m\u001b[1;33m\u001b[0m\u001b[0m\n\u001b[0m",
      "\u001b[1;31mAttributeError\u001b[0m: 'Person' object has no attribute 'gender'"
     ]
    }
   ],
   "source": [
    "maria.gender = 'female'"
   ]
  },
  {
   "cell_type": "markdown",
   "metadata": {},
   "source": [
    "# 비공개 속성(private attribute) 사용하기"
   ]
  },
  {
   "cell_type": "code",
   "execution_count": null,
   "metadata": {},
   "outputs": [],
   "source": [
    "# class 클래스이름:\n",
    "#     def __init__(self, 매개변수)\n",
    "#         self.__속성 = 값"
   ]
  },
  {
   "cell_type": "code",
   "execution_count": 54,
   "metadata": {},
   "outputs": [
    {
     "data": {
      "text/plain": [
       "'마리아'"
      ]
     },
     "execution_count": 54,
     "metadata": {},
     "output_type": "execute_result"
    }
   ],
   "source": [
    "class Person:\n",
    "    def __init__(self,name,age,address,wallet):\n",
    "        self.name = name\n",
    "        self.age  = age\n",
    "        self.address= address\n",
    "        self.__wallet = wallet\n",
    "        \n",
    "    def pay(self,amount):\n",
    "        self.__wallet -= amount\n",
    "        print('이제 {0}원 남았네..ㅠㅠ'.format(self.__wallet))\n",
    "        \n",
    "maria = Person('마리아',20,'서울시 서초구 반포동',10000)\n",
    "maria.name"
   ]
  },
  {
   "cell_type": "code",
   "execution_count": 48,
   "metadata": {
    "scrolled": true
   },
   "outputs": [
    {
     "ename": "AttributeError",
     "evalue": "'Person' object has no attribute '__wallet'",
     "output_type": "error",
     "traceback": [
      "\u001b[1;31m---------------------------------------------------------------------------\u001b[0m",
      "\u001b[1;31mAttributeError\u001b[0m                            Traceback (most recent call last)",
      "\u001b[1;32m<ipython-input-48-4dff76f0c958>\u001b[0m in \u001b[0;36m<module>\u001b[1;34m\u001b[0m\n\u001b[1;32m----> 1\u001b[1;33m \u001b[0mmaria\u001b[0m\u001b[1;33m.\u001b[0m\u001b[0m__wallet\u001b[0m \u001b[1;31m# 비공개 속성으로 이렇게 오류나는 것은 당연하다.변경 불가하기 때문이다.\u001b[0m\u001b[1;33m\u001b[0m\u001b[1;33m\u001b[0m\u001b[0m\n\u001b[0m",
      "\u001b[1;31mAttributeError\u001b[0m: 'Person' object has no attribute '__wallet'"
     ]
    }
   ],
   "source": [
    "maria.__wallet # 비공개 속성으로 이렇게 오류나는 것은 당연하다.변경 불가하기 때문이다."
   ]
  },
  {
   "cell_type": "code",
   "execution_count": 55,
   "metadata": {},
   "outputs": [
    {
     "name": "stdout",
     "output_type": "stream",
     "text": [
      "이제 7000원 남았네..ㅠㅠ\n"
     ]
    }
   ],
   "source": [
    "# 그렇기 때문에 은행의 텔러가 고쳐주듯이 pay 메서드를 만들어서 입력가능하게 만든다.\n",
    "maria.pay(3000)"
   ]
  },
  {
   "cell_type": "markdown",
   "metadata": {},
   "source": [
    "# 비공개 속성 + if 더하기"
   ]
  },
  {
   "cell_type": "code",
   "execution_count": 59,
   "metadata": {},
   "outputs": [
    {
     "name": "stdout",
     "output_type": "stream",
     "text": [
      "돈이 모자라네...\n"
     ]
    }
   ],
   "source": [
    "class Person:\n",
    "    def __init__(self,name,age,address,wallet):\n",
    "        self.name = name\n",
    "        self.age  = age\n",
    "        self.address= address\n",
    "        self.__wallet = wallet\n",
    "        \n",
    "    def pay(self,amount):\n",
    "        if amount > self.__wallet:\n",
    "            print('돈이 모자라네...')\n",
    "            return\n",
    "        self.__wallet -= amount\n",
    "        \n",
    "maria = Person('마리아',20,'서울시 서초구 반포동',10000)\n",
    "maria.name\n",
    "\n",
    "maria.pay(13000)"
   ]
  },
  {
   "cell_type": "markdown",
   "metadata": {},
   "source": [
    "# 비공개 메서드"
   ]
  },
  {
   "cell_type": "code",
   "execution_count": 60,
   "metadata": {},
   "outputs": [
    {
     "ename": "AttributeError",
     "evalue": "'Person' object has no attribute '__greeting'",
     "output_type": "error",
     "traceback": [
      "\u001b[1;31m---------------------------------------------------------------------------\u001b[0m",
      "\u001b[1;31mAttributeError\u001b[0m                            Traceback (most recent call last)",
      "\u001b[1;32m<ipython-input-60-4be07907d0ba>\u001b[0m in \u001b[0;36m<module>\u001b[1;34m\u001b[0m\n\u001b[0;32m      6\u001b[0m \u001b[1;33m\u001b[0m\u001b[0m\n\u001b[0;32m      7\u001b[0m \u001b[0mjames\u001b[0m \u001b[1;33m=\u001b[0m \u001b[0mPerson\u001b[0m\u001b[1;33m(\u001b[0m\u001b[1;33m)\u001b[0m\u001b[1;33m\u001b[0m\u001b[1;33m\u001b[0m\u001b[0m\n\u001b[1;32m----> 8\u001b[1;33m \u001b[0mjames\u001b[0m\u001b[1;33m.\u001b[0m\u001b[0m__greeting\u001b[0m\u001b[1;33m(\u001b[0m\u001b[1;33m)\u001b[0m\u001b[1;33m\u001b[0m\u001b[1;33m\u001b[0m\u001b[0m\n\u001b[0m",
      "\u001b[1;31mAttributeError\u001b[0m: 'Person' object has no attribute '__greeting'"
     ]
    }
   ],
   "source": [
    "class Person:\n",
    "    def __greeting(self):\n",
    "        print('Hello')\n",
    "    def hello(self):\n",
    "        self.__greeting()  # 클래스 안에서는 비공개 메서드를 호출 가능하다.\n",
    "        \n",
    "james = Person()\n",
    "james.__greeting()         # 에러: 클래스 바깥에서는 비공개 메서드를 호출할 수 없음."
   ]
  }
 ],
 "metadata": {
  "kernelspec": {
   "display_name": "Python 3",
   "language": "python",
   "name": "python3"
  },
  "language_info": {
   "codemirror_mode": {
    "name": "ipython",
    "version": 3
   },
   "file_extension": ".py",
   "mimetype": "text/x-python",
   "name": "python",
   "nbconvert_exporter": "python",
   "pygments_lexer": "ipython3",
   "version": "3.7.3"
  }
 },
 "nbformat": 4,
 "nbformat_minor": 2
}
