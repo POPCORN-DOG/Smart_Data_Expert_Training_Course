{
 "cells": [
  {
   "cell_type": "markdown",
   "metadata": {},
   "source": [
    "# Unit 5. 숫자 계산하기"
   ]
  },
  {
   "cell_type": "code",
   "execution_count": null,
   "metadata": {},
   "outputs": [],
   "source": [
    "#사칙연산 + - * / //(몫) %(나머지) **(거듭제곱)\n",
    "#나눗셈의 결과는 실수다.\n",
    "\n",
    "#int()     정수화(소수점 이하 제거)\n",
    "#divmod()  몫과 나머지를 한꺼번에 출력 \n",
    "#float()   실수화\n",
    "#complex() 실수를 복소수로 만들 때."
   ]
  },
  {
   "cell_type": "markdown",
   "metadata": {},
   "source": [
    "### 1. 정수 계산하기 "
   ]
  },
  {
   "cell_type": "code",
   "execution_count": 4,
   "metadata": {},
   "outputs": [
    {
     "name": "stdout",
     "output_type": "stream",
     "text": [
      "2.5 2 1 3 (2, 1)\n"
     ]
    }
   ],
   "source": [
    "print(\n",
    "    5/2,         # 2.5 \n",
    "    5//2,        # 2\n",
    "    5%2,         # 1\n",
    "    int(3.3),    # 3\n",
    "    divmod(5,2), # 2,1\n",
    ")"
   ]
  },
  {
   "cell_type": "markdown",
   "metadata": {},
   "source": [
    "### 2. 진수(0b), 8진수(0o), 16진수(0x) "
   ]
  },
  {
   "cell_type": "code",
   "execution_count": 5,
   "metadata": {},
   "outputs": [
    {
     "name": "stdout",
     "output_type": "stream",
     "text": [
      "6 255 254 16 8 6\n"
     ]
    }
   ],
   "source": [
    "#octal(8진수)        : 0 1 2 ... 6 7 10 \n",
    "#hexadecimal(16진수) : 0 1 2 ... 9 A B C D ... F\n",
    "\n",
    "print(\n",
    "    0b110,\n",
    "    0o377,\n",
    "    0xfe,\n",
    "    0X10,    # X가 대문자여도 된다.\n",
    "    0O10,\n",
    "    0B110\n",
    ")"
   ]
  },
  {
   "cell_type": "markdown",
   "metadata": {},
   "source": [
    "### 3. 실수 계산하기 "
   ]
  },
  {
   "cell_type": "code",
   "execution_count": 6,
   "metadata": {},
   "outputs": [
    {
     "name": "stdout",
     "output_type": "stream",
     "text": [
      "9.2 1.5999999999999996 5.0 8.0 10.0 <class 'int'>\n"
     ]
    }
   ],
   "source": [
    "print(\n",
    "    4.2 + 5,      # 9.2    (표현범위가 넓은 것을 기준으로 출력)\n",
    "    4.3 - 2.7,    # 1,599...(실수끼리 계산할때는 소숫점까지 나온다.)\n",
    "    float(5),     # 5.0\n",
    "    float(2*4),   # 8.0\n",
    "    float(10),    # 10.0 \n",
    "    type(10)      # class를 알려준다. 객체의 자료형 알아내기\n",
    ")"
   ]
  },
  {
   "cell_type": "markdown",
   "metadata": {},
   "source": [
    "### 4. 복소수 계산하기"
   ]
  },
  {
   "cell_type": "code",
   "execution_count": 7,
   "metadata": {},
   "outputs": [
    {
     "name": "stdout",
     "output_type": "stream",
     "text": [
      "(1.2+1.3j) (1.2+1.3j)\n"
     ]
    },
    {
     "data": {
      "text/plain": [
       "7"
      ]
     },
     "execution_count": 7,
     "metadata": {},
     "output_type": "execute_result"
    }
   ],
   "source": [
    "print(\n",
    "    1.2+1.3j,          # 수학에서는 허수를 i로 표현하지만 공학은 j\n",
    "    complex(1.2,1.3)\n",
    ")\n",
    "\n",
    "#=================================== 연습문제 ====================================\n",
    "#이런식을 회귀식이라 한다.\n",
    "#소음이 가장 심한 층을 구하는 계산식.\n",
    "#도로와의 거리 = 12m\n",
    "\n",
    "int(0.2467 * 12 + 4.159)"
   ]
  }
 ],
 "metadata": {
  "kernelspec": {
   "display_name": "Python 3",
   "language": "python",
   "name": "python3"
  },
  "language_info": {
   "codemirror_mode": {
    "name": "ipython",
    "version": 3
   },
   "file_extension": ".py",
   "mimetype": "text/x-python",
   "name": "python",
   "nbconvert_exporter": "python",
   "pygments_lexer": "ipython3",
   "version": "3.7.3"
  }
 },
 "nbformat": 4,
 "nbformat_minor": 2
}
