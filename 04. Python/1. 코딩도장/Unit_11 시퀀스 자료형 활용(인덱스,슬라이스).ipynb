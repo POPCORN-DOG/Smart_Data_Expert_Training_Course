{
 "cells": [
  {
   "cell_type": "code",
   "execution_count": null,
   "metadata": {},
   "outputs": [],
   "source": [
    "# Unit 11 시퀀스 자료형 활용하기. ================="
   ]
  },
  {
   "cell_type": "code",
   "execution_count": 8,
   "metadata": {
    "scrolled": true
   },
   "outputs": [
    {
     "name": "stdout",
     "output_type": "stream",
     "text": [
      "[0, 1, 2, 3, 4, 5, 6, 7, 8, 9, 0, 1, 2, 3, 4, 5, 6, 7, 8, 9]\n",
      "[0, 10, 20, 30, 40, 50, 60, 70, 80, 90, 100, 200, 300]\n",
      "[0, 10, 20, 30, 40, 50, 60, 70, 80, 90, 0, 10, 20, 30, 40, 50, 60, 70, 80, 90]\n",
      "10\n"
     ]
    }
   ],
   "source": [
    "# list --------------------------------\n",
    "\n",
    "a = list(range(0,100,10))\n",
    "30 in a, 100 in a, 100 not in a\n",
    "print(\n",
    "list(range(0,10)) + list(range(0,10)),\n",
    "a + [100,200,300],\n",
    "a*2,\n",
    "len(a),\n",
    "sep='\\n')"
   ]
  },
  {
   "cell_type": "code",
   "execution_count": 10,
   "metadata": {},
   "outputs": [
    {
     "data": {
      "text/plain": [
       "(0, 10, 20, 30, 40, 50, 60, 70, 80, 90, 0, 10, 20, 30, 40, 50, 60, 70, 80, 90)"
      ]
     },
     "execution_count": 10,
     "metadata": {},
     "output_type": "execute_result"
    }
   ],
   "source": [
    "# tuple --------------------------------\n",
    "b = tuple(range(0,100,10))\n",
    "30 in b, 100 in b, 100 not in b\n",
    "tuple(range(0,10)) + tuple(range(0,10))\n",
    "b + (100,200,300)\n",
    "b*2\n",
    "len(b)"
   ]
  },
  {
   "cell_type": "code",
   "execution_count": null,
   "metadata": {},
   "outputs": [],
   "source": [
    "# 문자열 -------------------------------\n",
    "'he' in 'hello'\n",
    "'Hello'+' '+'World'\n",
    "'hello' + str(1000)\n",
    "'hello'*3\n",
    "\n",
    "\n",
    "# len함수 -------------------------------------------------\n",
    "len(range(0,10,2))\n",
    "len(['james',17,176.5,True])\n",
    "len('안녕하세요')\n",
    "hello = '안녕하세요'\n",
    "len(hello)\n",
    "len(hello.encode('utf-8'))  # 글자당 3bite\n",
    "len(hello.encode('euc-kr')) # 글자당 2bite\n",
    "\n",
    "# 인덱스(index,slice) 사용하기. (list, tuple, range 전부 사용가능)\n",
    "a.__getitem__(0)\n",
    "a.__getitem__(-1)\n",
    "\n",
    "a[0]        # R과 다르게 0부터 시작한다.\n",
    "a[-1]       # 맨끝은 -1\n",
    "a[len(a)-1] # len은 맨끝이 아니다. -1을 해줘야한다.\n",
    "a[10-1]\n",
    "\n",
    "a[0:4]      # 슬라이스. 4직전까지 잘라낸다.\n",
    "a[0:len(a)]\n",
    "a[4:10]     # 앞의것은 포함하지만 뒤의것은 포함하지 않는다.\n",
    "a[4:-1]     # 끝의 것 직전까지 가져온다.\n",
    "\n",
    "a[2:8:3]    # 2부터 8직전까지  3씩 증가시켜서. a[2], a[5]\n",
    "a[2:9:3]\n",
    "\n",
    "a[:8]       # 0부터 8직전까지\n",
    "a[4:]       # 4부터 끝까지.\n",
    "\n",
    "a[2::3]     # 2부터 끝까지 3씩 증가.\n",
    "a[7::2]     # 7부터 끝까지 2씩 증가.\n",
    "a[::2]      # 0부터 끝까지 2씩 증가.\n",
    "\n",
    "a[5:1:-1]   # 5부터 1직전까지 거꾸로.\n",
    "a[::-1]     # 끝부터 처음까지 거꾸로.\n",
    "\n",
    "a[9] = 99 # 기존의 데이터를 바꿔줄 수 있다. (list만 가능)\n",
    "\n",
    "range(10)[slice(4,7,2)]\n",
    "range(10)[slice(3,12,2)]  # 자기가 알아서 끝을 찾아준다.\n",
    "\n",
    "c = slice(4,7,2)\n",
    "a[c]\n",
    "\n",
    "a[2:5] = ['a','b','c']\n",
    "a\n",
    "\n",
    "a[2:5] = [1000]\n",
    "a\n",
    "\n",
    "a[2]   = [20,30,40] #list안에 list를 만들어준다.\n",
    "a\n",
    "\n",
    "del a[2]\n",
    "a\n",
    "\n",
    "a[1:3] = [10,20,30,40,50]\n",
    "a\n",
    "\n",
    "a[2:8:2] = ['a','b','c']\n",
    "a\n",
    "\n",
    "# 문자도 똑같이 적용된다.\n",
    "\n",
    "# del함수 (del : 데이터 개별적으로는 list만 가능하다. ) ---------------\n",
    "del a,b,c,d"
   ]
  }
 ],
 "metadata": {
  "kernelspec": {
   "display_name": "Python 3",
   "language": "python",
   "name": "python3"
  },
  "language_info": {
   "codemirror_mode": {
    "name": "ipython",
    "version": 3
   },
   "file_extension": ".py",
   "mimetype": "text/x-python",
   "name": "python",
   "nbconvert_exporter": "python",
   "pygments_lexer": "ipython3",
   "version": "3.7.3"
  }
 },
 "nbformat": 4,
 "nbformat_minor": 2
}
