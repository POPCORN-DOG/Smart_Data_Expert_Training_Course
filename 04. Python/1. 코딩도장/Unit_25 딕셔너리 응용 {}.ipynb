{
 "cells": [
  {
   "cell_type": "markdown",
   "metadata": {},
   "source": [
    "# Unit25: 딕셔너리 응용하기"
   ]
  },
  {
   "cell_type": "markdown",
   "metadata": {},
   "source": [
    "### 1. 키-값 쌍 추가 수정하기(setdefault, update)"
   ]
  },
  {
   "cell_type": "code",
   "execution_count": 11,
   "metadata": {},
   "outputs": [
    {
     "name": "stdout",
     "output_type": "stream",
     "text": [
      "{'a': 10, 'b': 20, 'c': 30, 'd': 40, 'e': None}\n",
      "{'a': 10, 'b': 20, 'c': 30, 'd': 40, 'e': None, 'f': 100}\n",
      "{'a': 10, 'b': 20, 'c': 30, 'd': 40, 'e': 90, 'f': 100}\n",
      "{'a': 10, 'b': 20, 'c': 30, 'd': 40, 'e': 90, 'f': 100, 'g': 1000}\n"
     ]
    }
   ],
   "source": [
    "x = {'a':10,'b':20,'c':30,'d':40}\n",
    "x.setdefault('e')\n",
    "print(x)\n",
    "x.setdefault('f',100) # 키-값 쌍 추가: 가능, 수정: 불가능\n",
    "print(x) \n",
    "x.update(e=90)        # 키-값 쌍 추가, 수정 가능\n",
    "print(x)\n",
    "x.update(g=1000)   # 없을때는 새로 만들어준다. \n",
    "print(x)           # 그러나 키가 문자열일 때만 사용할 수 있다.\n",
    "\n",
    "y = {'a':10}"
   ]
  },
  {
   "cell_type": "markdown",
   "metadata": {},
   "source": [
    "### 2. 키-값 쌍 삭제하기( pop, popitem, del, clear)"
   ]
  },
  {
   "cell_type": "code",
   "execution_count": 23,
   "metadata": {},
   "outputs": [
    {
     "name": "stdout",
     "output_type": "stream",
     "text": [
      "{'b': 20, 'c': 30, 'd': 40}\n",
      "{'b': 20, 'c': 30, 'd': 40}\n",
      "{'c': 30, 'd': 40}\n",
      "c 30\n",
      "{}\n"
     ]
    },
    {
     "data": {
      "text/plain": [
       "10"
      ]
     },
     "execution_count": 23,
     "metadata": {},
     "output_type": "execute_result"
    }
   ],
   "source": [
    "x = {'a':10,'b':20,'c':30,'d':40}\n",
    "x.pop('a')\n",
    "print(x)\n",
    "x.pop('z',0)  # 데이터를 미리 확인하고 지운다고 했을때 필요하다.\n",
    "print(x)\n",
    "x.pop('b',0)\n",
    "print(x)\n",
    "\n",
    "x.popitem()               # tuple형태로 키와 값을 제공해준다.\n",
    "key, value = x.popitem()  # 이 얘기는 각 변수에 할당할 수 있다는 얘기.\n",
    "print(key,value)\n",
    "\n",
    "x.clear()\n",
    "print(x)"
   ]
  },
  {
   "cell_type": "markdown",
   "metadata": {},
   "source": [
    "### 3. 키, 키-값 쌍 가져오기(get, items)"
   ]
  },
  {
   "cell_type": "code",
   "execution_count": 31,
   "metadata": {
    "scrolled": true
   },
   "outputs": [
    {
     "name": "stdout",
     "output_type": "stream",
     "text": [
      "10\n",
      "dict_items([('a', 10), ('b', 20), ('c', 30), ('d', 40)])\n",
      "<class 'dict_items'>\n",
      "dict_keys(['a', 'b', 'c', 'd'])\n",
      "dict_values([10, 20, 30, 40])\n"
     ]
    }
   ],
   "source": [
    "x = {'a':10,'b':20,'c':30,'d':40}\n",
    "print(\n",
    "x.get('a'),\n",
    "\n",
    "x.items(), # 리스트 안에 튜플 형태로 준다.\n",
    "type(x.items()),\n",
    "\n",
    "x.keys(),\n",
    "x.values(),\n",
    "sep='\\n')"
   ]
  },
  {
   "cell_type": "markdown",
   "metadata": {},
   "source": [
    "### 4. 리스트와 튜플로 딕셔너리 만들기."
   ]
  },
  {
   "cell_type": "code",
   "execution_count": 57,
   "metadata": {
    "scrolled": false
   },
   "outputs": [
    {
     "name": "stdout",
     "output_type": "stream",
     "text": [
      "{'a': None, 'b': None, 'c': None, 'd': None}\n",
      "{'a': 100, 'b': 100, 'c': 100, 'd': 100}\n",
      "defaultdict(<class 'int'>, {})\n",
      "0\n",
      "defaultdict(<class 'int'>, {'a': 0})\n",
      "0\n",
      "defaultdict(<class 'int'>, {'a': 0, 'b': 0})\n",
      "python\n",
      "python\n",
      "defaultdict(<function <lambda> at 0x00000000028D27B8>, {'a': 'python', 0: 'python'})\n",
      "python\n",
      "defaultdict(<function return_python at 0x0000000005D2D048>, {'a': 'python', 0: 'python'})\n"
     ]
    }
   ],
   "source": [
    "keys = ['a','b','c','d']\n",
    "\n",
    "x = dict.fromkeys(keys)\n",
    "print(x)\n",
    "\n",
    "y = dict.fromkeys(keys,100)\n",
    "print(y)\n",
    "\n",
    "#지금까지 사용한 딕셔너리(dict)는 없는 키에 접근했을 경우 에러가 발생합니다\n",
    "# ex) x['z'] 이렇게 하면 오류가 난다\n",
    "\n",
    "# 기본값이 0인 defaultdict 딕셔너리를 만든다\n",
    "from collections import defaultdict  # collections 모듈에서 defaultdict를 가져옴\n",
    "y = defaultdict(int) \n",
    "print(y)\n",
    "print(y['a'])\n",
    "print(y)\n",
    "print(y['b'])\n",
    "print(y)\n",
    "\n",
    "# 함수명 int\n",
    "# 익명함수를 lambda라고 한다.\n",
    "# 예를 들어 컴퓨터 게임을 짤때 100개 이상의 함수가 필요해진다.\n",
    "# Graphic을 처리하기 위해서는 한페이지당 수백개의 함수가 필요하기 때문에\n",
    "# 처리함수에 대해 작명하지 않아도 되는 익명함수를 lamda라고 한다.\n",
    "\n",
    "z = defaultdict(lambda:'python')\n",
    "print(z['a'])\n",
    "print(z[0])\n",
    "print(z)\n",
    "\n",
    "def return_python(): # python 이라는 문자열을 출력하는 함수를 만드는 과정.\n",
    "    return 'python'\n",
    "\n",
    "return_python()\n",
    "\n",
    "y= defaultdict(return_python)\n",
    "y['a']\n",
    "print(y[0])\n",
    "print(y)"
   ]
  },
  {
   "cell_type": "markdown",
   "metadata": {},
   "source": [
    "### 5. 반복문으로 딕셔너리의 키-값 출력하기"
   ]
  },
  {
   "cell_type": "code",
   "execution_count": 2,
   "metadata": {
    "scrolled": true
   },
   "outputs": [
    {
     "name": "stdout",
     "output_type": "stream",
     "text": [
      "abcd\n",
      "\n",
      "a\n",
      "b\n",
      "c\n",
      "d\n",
      "\n",
      "\n",
      "10\n",
      "20\n",
      "30\n",
      "40\n",
      "\n",
      "\n",
      "a 10\n",
      "b 20\n",
      "c 30\n",
      "d 40\n",
      "\n",
      "\n",
      "a 10\n",
      "b 20\n",
      "c 30\n",
      "d 40\n",
      "\n",
      "\n",
      "a 10\n",
      "b 20\n",
      "c 30\n",
      "d 40\n"
     ]
    }
   ],
   "source": [
    "x = {'a':10,'b':20,'c':30,'d':40}\n",
    "\n",
    "for i in x:                    # 키 값만 출력해준다\n",
    "    print(i,end='')        \n",
    "\n",
    "print('\\n')\n",
    "for key in x.keys():\n",
    "    print(key)\n",
    "    \n",
    "print('\\n')\n",
    "for value in x.values():\n",
    "    print(value)\n",
    "\n",
    "print('\\n')\n",
    "for key,value in x.items():    # 키-값\n",
    "    print(key, value)\n",
    "    \n",
    "print('\\n')\n",
    "for i in x:\n",
    "    print(i,x[i])\n",
    "    \n",
    "print('\\n')\n",
    "for i in x:\n",
    "    print(i,x.get(i))"
   ]
  },
  {
   "cell_type": "markdown",
   "metadata": {},
   "source": [
    "### 6. 반복문으로 딕셔너리의 키-값 생성하기"
   ]
  },
  {
   "cell_type": "code",
   "execution_count": 77,
   "metadata": {},
   "outputs": [
    {
     "name": "stdout",
     "output_type": "stream",
     "text": [
      "{'a': None, 'b': None, 'c': None, 'd': None}\n",
      "{'a': None, 'b': None, 'c': None, 'd': None}\n",
      "{10: 0, 20: 0, 30: 0, 40: 0}\n",
      "{'a': 0, 'b': 0, 'c': 0, 'd': 0}\n"
     ]
    }
   ],
   "source": [
    "keys = ['a','b','c','d']\n",
    "x = {key: value for key, value in dict.fromkeys(keys).items()}\n",
    "print(x)\n",
    "\n",
    "y = {key: None for key in dict.fromkeys(['a', 'b', 'c', 'd']).keys()} \n",
    "print(y)\n",
    "y = {value: 0 for value in {'a': 10, 'b': 20, 'c': 30, 'd': 40}.values()} \n",
    "print(y) #값을 키로 사용\n",
    "\n",
    "z = {key:0 for key in ['a','b','c','d']}\n",
    "print(z)"
   ]
  },
  {
   "cell_type": "markdown",
   "metadata": {},
   "source": [
    "### 7. 딕셔너리 안에서 딕셔너리 사용하기"
   ]
  },
  {
   "cell_type": "code",
   "execution_count": null,
   "metadata": {},
   "outputs": [],
   "source": []
  },
  {
   "cell_type": "markdown",
   "metadata": {},
   "source": [
    "### 8. 딕셔너리의 할당과 복사"
   ]
  },
  {
   "cell_type": "code",
   "execution_count": null,
   "metadata": {},
   "outputs": [],
   "source": []
  }
 ],
 "metadata": {
  "kernelspec": {
   "display_name": "Python 3",
   "language": "python",
   "name": "python3"
  },
  "language_info": {
   "codemirror_mode": {
    "name": "ipython",
    "version": 3
   },
   "file_extension": ".py",
   "mimetype": "text/x-python",
   "name": "python",
   "nbconvert_exporter": "python",
   "pygments_lexer": "ipython3",
   "version": "3.7.3"
  }
 },
 "nbformat": 4,
 "nbformat_minor": 2
}
