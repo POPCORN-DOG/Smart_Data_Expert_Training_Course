{
 "cells": [
  {
   "cell_type": "markdown",
   "metadata": {},
   "source": [
    "# Unit9: 문자열 사용하기"
   ]
  },
  {
   "cell_type": "markdown",
   "metadata": {},
   "source": [
    "### 1. 여러 줄로 된 문자열 "
   ]
  },
  {
   "cell_type": "code",
   "execution_count": 63,
   "metadata": {},
   "outputs": [
    {
     "name": "stdout",
     "output_type": "stream",
     "text": [
      "1: \n",
      " Hello, world!\n",
      "안녕하세요.\n",
      "Python입니다요\n"
     ]
    }
   ],
   "source": [
    "a='''Hello, world!\n",
    "안녕하세요.\n",
    "Python입니다요'''  # (작은 따옴표)나 (큰 따옴표) 3개로 \n",
    "print('1:','\\n',a)"
   ]
  },
  {
   "cell_type": "markdown",
   "metadata": {},
   "source": [
    "### 2. 문자열 안에 (작은따옴표)나 (큰따옴표) 포함하기 "
   ]
  },
  {
   "cell_type": "code",
   "execution_count": 67,
   "metadata": {
    "scrolled": true
   },
   "outputs": [
    {
     "name": "stdout",
     "output_type": "stream",
     "text": [
      "2:\n",
      "Python isn't difficult\n",
      "Python isn't difficult\n",
      "He said \"Python is easy\"\n"
     ]
    },
    {
     "data": {
      "text/plain": [
       "(\"Python isn't difficult\",\n",
       " \"Python isn't difficult\",\n",
       " 'He said \"Python is easy\"')"
      ]
     },
     "execution_count": 67,
     "metadata": {},
     "output_type": "execute_result"
    }
   ],
   "source": [
    "a = \"Python isn't difficult\"   # 작은것 안에 큰것, 큰 것 안에 작은것 포함 가능.\n",
    "b = 'Python isn\\'t difficult'  # \\' 이렇게 하는 것이 훨씬 편함.\n",
    "c = 'He said \"Python is easy\"'\n",
    "print('2:',a,b,c,sep='\\n')\n",
    "a,b,c"
   ]
  },
  {
   "cell_type": "markdown",
   "metadata": {},
   "source": [
    "###  연습문제 "
   ]
  },
  {
   "cell_type": "code",
   "execution_count": 69,
   "metadata": {},
   "outputs": [
    {
     "data": {
      "text/plain": [
       "'Python is a programming language that lets you work quickly\\nand\\nintegrate systems more effectively.'"
      ]
     },
     "execution_count": 69,
     "metadata": {},
     "output_type": "execute_result"
    }
   ],
   "source": [
    "'''Python is a programming language that lets you work quickly\n",
    "and\n",
    "integrate systems more effectively.'''"
   ]
  }
 ],
 "metadata": {
  "kernelspec": {
   "display_name": "Python 3",
   "language": "python",
   "name": "python3"
  },
  "language_info": {
   "codemirror_mode": {
    "name": "ipython",
    "version": 3
   },
   "file_extension": ".py",
   "mimetype": "text/x-python",
   "name": "python",
   "nbconvert_exporter": "python",
   "pygments_lexer": "ipython3",
   "version": "3.7.3"
  }
 },
 "nbformat": 4,
 "nbformat_minor": 2
}
