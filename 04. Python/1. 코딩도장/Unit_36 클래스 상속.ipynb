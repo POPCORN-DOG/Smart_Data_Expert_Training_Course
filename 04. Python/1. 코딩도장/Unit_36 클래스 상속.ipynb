{
 "cells": [
  {
   "cell_type": "markdown",
   "metadata": {},
   "source": [
    "# Unit36: 클래스 상속(ingeritance)"
   ]
  },
  {
   "cell_type": "markdown",
   "metadata": {},
   "source": [
    "### 1. 클래스 상속 기초 "
   ]
  },
  {
   "cell_type": "code",
   "execution_count": null,
   "metadata": {},
   "outputs": [],
   "source": [
    "# 부모 = 기반 클래스(base class)\n",
    "# 자식 = 파생 클래스(derived class)"
   ]
  },
  {
   "cell_type": "code",
   "execution_count": null,
   "metadata": {},
   "outputs": [],
   "source": [
    "#  class 기반클래스이름:\n",
    "#      코드\n",
    "# \n",
    "#  class 파생클래스이름(기반클래스이름):\n",
    "#      코드"
   ]
  },
  {
   "cell_type": "code",
   "execution_count": 1,
   "metadata": {},
   "outputs": [
    {
     "name": "stdout",
     "output_type": "stream",
     "text": [
      "hello\n",
      "공부하기\n"
     ]
    }
   ],
   "source": [
    "class Person:\n",
    "    def greeting(self):\n",
    "        print('hello')\n",
    "        \n",
    "class Student(Person):\n",
    "    def study(self):\n",
    "        print('공부하기')\n",
    "        \n",
    "james = Student()  # 파생클래스 Student를 생성해도 부모 클래스의 것을 그대로 상속받아 쓸 수 있다.\n",
    "james.greeting()   # hello   : 기반 클래스 Person의 메서드 호출\n",
    "james.study()      # 공부하기: 파생 클래스 student에 추가한 study 메서드  "
   ]
  },
  {
   "cell_type": "markdown",
   "metadata": {},
   "source": [
    "### 2. 상속 관계 확인하기 (issubclass)"
   ]
  },
  {
   "cell_type": "code",
   "execution_count": 3,
   "metadata": {},
   "outputs": [
    {
     "data": {
      "text/plain": [
       "True"
      ]
     },
     "execution_count": 3,
     "metadata": {},
     "output_type": "execute_result"
    }
   ],
   "source": [
    "class Person:\n",
    "    pass\n",
    "class Student(Person):\n",
    "    pass\n",
    "\n",
    "issubclass(Student,Person)\n",
    "\n",
    "# Student is a person\n",
    "# Student는 Person의 자식 파생클래스(derived class)이다."
   ]
  },
  {
   "cell_type": "markdown",
   "metadata": {},
   "source": [
    "### 3. 기반 클래스의 속성 사용하기  super().__init__() "
   ]
  },
  {
   "cell_type": "code",
   "execution_count": 4,
   "metadata": {},
   "outputs": [
    {
     "name": "stdout",
     "output_type": "stream",
     "text": [
      "Student __init__\n",
      "Person __init__\n",
      "파이썬 코딩 도장\n",
      "안녕하세요.\n"
     ]
    }
   ],
   "source": [
    "# 자식 클래스가 있고 부모 클래스의 속성값을 사용하고 싶으면 \n",
    "# 처음에 부모 메서드를 기반클래스의 __init__으로 돌려야한다.\n",
    "\n",
    "class Person:\n",
    "    def __init__(self):\n",
    "        print('Person __init__')\n",
    "        self.hello = '안녕하세요.'\n",
    "        \n",
    "class Student(Person):\n",
    "    def __init__(self):\n",
    "        print('Student __init__')\n",
    "        super().__init__()\n",
    "        self.school = '파이썬 코딩 도장'\n",
    "        \n",
    "james = Student()\n",
    "print(james.school)\n",
    "print(james.hello)"
   ]
  },
  {
   "cell_type": "markdown",
   "metadata": {},
   "source": [
    "### 4. 메서드 오버라이딩"
   ]
  },
  {
   "cell_type": "code",
   "execution_count": null,
   "metadata": {},
   "outputs": [],
   "source": [
    "# 부모가 만든 메서드를 갈아엎고 자식 클래스에서 메서드를 새로 만드는 것을 뜻함"
   ]
  },
  {
   "cell_type": "code",
   "execution_count": 7,
   "metadata": {},
   "outputs": [
    {
     "name": "stdout",
     "output_type": "stream",
     "text": [
      "안녕하세요. 저는 파이썬 코딩도장 학생데스\n",
      "안녕하세요\n",
      "안녕하세요\n",
      "저는 파이썬 코딩도장 학생데스\n"
     ]
    }
   ],
   "source": [
    "class Person:\n",
    "    def greeting(self):\n",
    "        print('안녕하세요')\n",
    "        \n",
    "class Student(Person):\n",
    "    def greeting(self):\n",
    "        print('안녕하세요. 저는 파이썬 코딩도장 학생데스')\n",
    "        \n",
    "james = Student()\n",
    "james.greeting()\n",
    "maria = Person()\n",
    "maria.greeting()\n",
    "\n",
    "# 중복되는 '안녕하세요'를 제거하고 싶으면.\n",
    "class Student(Person):\n",
    "    def greeting(self):\n",
    "        super().greeting()\n",
    "        print('저는 파이썬 코딩도장 학생데스')\n",
    "    \n",
    "james = Student()\n",
    "james.greeting()"
   ]
  },
  {
   "cell_type": "markdown",
   "metadata": {},
   "source": [
    "### 5. 다중 상속 (multi ingeritance) : 별로 추천하는 방법이 아님. 요행을 바라면 박살남유"
   ]
  },
  {
   "cell_type": "code",
   "execution_count": null,
   "metadata": {},
   "outputs": [],
   "source": [
    "#  class 기반클래스이름1:\n",
    "#      코드\n",
    "# \n",
    "#  class 기반클래스이름2:\n",
    "#      코드\n",
    "# \n",
    "#  class 파생클래스이름(기반클래스이름1, 기반클래스이름2):\n",
    "#      코드"
   ]
  },
  {
   "cell_type": "markdown",
   "metadata": {},
   "source": [
    "### 6. 추상 클래스(abstract class)"
   ]
  },
  {
   "cell_type": "code",
   "execution_count": null,
   "metadata": {},
   "outputs": [],
   "source": [
    "#  from abc import *\n",
    "# \n",
    "#  class 추상클래스이름(metaclass=ABCMeta):\n",
    "#      @abstractmethod\n",
    "#      def 메서드이름(self):\n",
    "#          코드"
   ]
  },
  {
   "cell_type": "code",
   "execution_count": null,
   "metadata": {},
   "outputs": [],
   "source": [
    "# pycharm의 code에서 override method 란에서 "
   ]
  }
 ],
 "metadata": {
  "kernelspec": {
   "display_name": "Python 3",
   "language": "python",
   "name": "python3"
  },
  "language_info": {
   "codemirror_mode": {
    "name": "ipython",
    "version": 3
   },
   "file_extension": ".py",
   "mimetype": "text/x-python",
   "name": "python",
   "nbconvert_exporter": "python",
   "pygments_lexer": "ipython3",
   "version": "3.7.3"
  }
 },
 "nbformat": 4,
 "nbformat_minor": 2
}
