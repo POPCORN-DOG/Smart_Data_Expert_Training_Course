{
 "cells": [
  {
   "cell_type": "code",
   "execution_count": null,
   "metadata": {},
   "outputs": [],
   "source": [
    "# 지금까지는 인스턴스 속성이었다.이제부터는 클래스 속성에 대해 알아보자\n",
    "# 속성값이 클래스냐 객체냐에 따라 값이 차이가 난다."
   ]
  },
  {
   "cell_type": "markdown",
   "metadata": {},
   "source": [
    "# 클래스 속성(속성값이 클래스)"
   ]
  },
  {
   "cell_type": "code",
   "execution_count": 4,
   "metadata": {},
   "outputs": [
    {
     "name": "stdout",
     "output_type": "stream",
     "text": [
      "['책', '열쇠']\n",
      "['책', '열쇠']\n"
     ]
    }
   ],
   "source": [
    "# 모든 인스턴스가 공유. 인스턴스 전체가 사용해야 하는 값을 저장할 때 사용한다.\n",
    "\n",
    "class Person:\n",
    "    bag = []\n",
    "    \n",
    "    def put_bag(self,stuff):\n",
    "        self.bag.append(stuff)\n",
    "        \n",
    "james = Person()\n",
    "james.put_bag('책')\n",
    "\n",
    "maria = Person()\n",
    "maria.put_bag('열쇠')\n",
    "\n",
    "print(james.bag)\n",
    "print(maria.bag)"
   ]
  },
  {
   "cell_type": "markdown",
   "metadata": {},
   "source": [
    "# 인스턴스 속성(속성값이 객체)"
   ]
  },
  {
   "cell_type": "code",
   "execution_count": 6,
   "metadata": {},
   "outputs": [
    {
     "name": "stdout",
     "output_type": "stream",
     "text": [
      "['책']\n",
      "['열쇠']\n"
     ]
    }
   ],
   "source": [
    "# 인스턴스 속성: 인스턴스별로 독립되어 있음. 각 인스턴스가 값을 따로 저장해야 할 때 사용\n",
    "\n",
    "class Person2:\n",
    "    def __init__(self):\n",
    "        self.bag = []\n",
    "    \n",
    "    def put_bag(self,stuff):\n",
    "        self.bag.append(stuff)\n",
    "        \n",
    "james2 = Person2()\n",
    "james2.put_bag('책')\n",
    "maria2 = Person2()\n",
    "maria2.put_bag('열쇠')\n",
    "\n",
    "print(james2.bag)\n",
    "print(maria2.bag)"
   ]
  },
  {
   "cell_type": "markdown",
   "metadata": {},
   "source": [
    "# 정적 메서드 (static methond)"
   ]
  },
  {
   "cell_type": "code",
   "execution_count": null,
   "metadata": {},
   "outputs": [],
   "source": [
    "# 객체를 생성하지 않고 바로 메서드를 사용할 수 있게 하는 것이다.\n",
    "# class 클래스이름:\n",
    "#    @staticmethod   -> 이것을 데코레이터라고 한다.\n",
    "#    def 메서드(매개변수1, 매개변수2):\n",
    "#        코드"
   ]
  },
  {
   "cell_type": "code",
   "execution_count": 10,
   "metadata": {},
   "outputs": [
    {
     "name": "stdout",
     "output_type": "stream",
     "text": [
      "30\n",
      "200\n"
     ]
    }
   ],
   "source": [
    "class Calc:\n",
    "    @staticmethod\n",
    "    def add(a,b):\n",
    "        print(a+b)\n",
    "        \n",
    "    @staticmethod\n",
    "    def mul(a,b):\n",
    "        print(a*b)\n",
    "        \n",
    "Calc.add(10,20) # 클래스에서 바로 메서드 호출\n",
    "Calc.mul(10,20)"
   ]
  },
  {
   "cell_type": "markdown",
   "metadata": {},
   "source": [
    "# 인스턴스 메서드와 정적 메서드의 차이"
   ]
  },
  {
   "cell_type": "code",
   "execution_count": 11,
   "metadata": {},
   "outputs": [
    {
     "data": {
      "text/plain": [
       "{1, 2, 3, 4, 5}"
      ]
     },
     "execution_count": 11,
     "metadata": {},
     "output_type": "execute_result"
    }
   ],
   "source": [
    "a = {1, 2, 3, 4}\n",
    "a.update({5})    # 인스턴스 메서드\n",
    "a\n",
    "\n",
    "set.union({1, 2, 3, 4}, {5})    # 정적(클래스) 메서드\n",
    "{1, 2, 3, 4, 5}"
   ]
  }
 ],
 "metadata": {
  "kernelspec": {
   "display_name": "Python 3",
   "language": "python",
   "name": "python3"
  },
  "language_info": {
   "codemirror_mode": {
    "name": "ipython",
    "version": 3
   },
   "file_extension": ".py",
   "mimetype": "text/x-python",
   "name": "python",
   "nbconvert_exporter": "python",
   "pygments_lexer": "ipython3",
   "version": "3.7.3"
  }
 },
 "nbformat": 4,
 "nbformat_minor": 2
}
