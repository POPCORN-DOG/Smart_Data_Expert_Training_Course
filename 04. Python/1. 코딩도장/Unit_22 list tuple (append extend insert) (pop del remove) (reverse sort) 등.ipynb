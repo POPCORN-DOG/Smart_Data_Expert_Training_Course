{
 "cells": [
  {
   "cell_type": "markdown",
   "metadata": {},
   "source": [
    "# Unit22: list & tuple 응용편"
   ]
  },
  {
   "cell_type": "markdown",
   "metadata": {},
   "source": [
    "# list 조작하기."
   ]
  },
  {
   "cell_type": "code",
   "execution_count": 54,
   "metadata": {},
   "outputs": [
    {
     "name": "stdout",
     "output_type": "stream",
     "text": [
      "30\n"
     ]
    }
   ],
   "source": [
    "# 리스트가 비어있는지 확인하기.\n",
    "a = [10,20,30]\n",
    "print(a[-1])\n",
    "\n",
    "# 리스트에 요소가 있을 때만 마지막 요소를 가져오기\n",
    "b = []\n",
    "if b:\n",
    "    print(b[-1])"
   ]
  },
  {
   "cell_type": "markdown",
   "metadata": {},
   "source": [
    "### 1. list에 요소 추가하기 (append, extend, insert)"
   ]
  },
  {
   "cell_type": "code",
   "execution_count": 2,
   "metadata": {},
   "outputs": [
    {
     "name": "stdout",
     "output_type": "stream",
     "text": [
      "[10]\n",
      "[10, 20, 30, 500]\n",
      "[10, 20, 30, [500, 600]] 4\n"
     ]
    }
   ],
   "source": [
    "#리스트에 append(요소) 하나 추가하기\n",
    "\n",
    "a = []\n",
    "a.append(10)\n",
    "print(a)\n",
    "\n",
    "a = [10,20,30]\n",
    "a.append(500)\n",
    "print(a)\n",
    "\n",
    "b = [10,20,30]\n",
    "b.append([500,600])  # 중첩리스트\n",
    "print(b,len(b))      # 즉, append는 항상 리스트의 길이가 1씩4 증가합니다."
   ]
  },
  {
   "cell_type": "code",
   "execution_count": 41,
   "metadata": {},
   "outputs": [
    {
     "name": "stdout",
     "output_type": "stream",
     "text": [
      "[10, 20, 30, 500, 600] 5\n",
      "[10, 20, 30, 500, 600, 700, 800]\n"
     ]
    }
   ],
   "source": [
    "# list에 요소를 여러 개 추가할때 extend를 사용한다.\n",
    "\n",
    "c = [10,20,30]\n",
    "c.extend([500,600])\n",
    "print(c,len(c))\n",
    "\n",
    "c[len(c):] = [700,800]\n",
    "print(c)"
   ]
  },
  {
   "cell_type": "code",
   "execution_count": 84,
   "metadata": {},
   "outputs": [
    {
     "name": "stdout",
     "output_type": "stream",
     "text": [
      "[10, 20, 1000, 30, 40, 50, 60, 70, 80, 90]\n",
      "[10, 20, 30, 1000]\n",
      "[10, [500, 600], 20, 30]\n",
      "[10, 500, 600, 20, 30]\n",
      "[10, 500, 600, 20, 40]\n"
     ]
    }
   ],
   "source": [
    "# 특정 위치(인덱스)에 요소 추가하기.\n",
    "# insert(위치,숫자)\n",
    "\n",
    "d = [10,20,30,40,50,60,70,80,90]\n",
    "d.insert(2,1000)\n",
    "print(d)\n",
    "\n",
    "e = [10,20,30]\n",
    "e.insert(len(e),1000)\n",
    "print(e)\n",
    "\n",
    "e = [10,20,30] \n",
    "e.insert(1,[500,600])\n",
    "print(e)\n",
    "\n",
    "e = [10,20,30] \n",
    "e[1:1]=[500,600]\n",
    "print(e)"
   ]
  },
  {
   "cell_type": "markdown",
   "metadata": {},
   "source": [
    "### 2. 삭제하기(pop, del, remove, clear)"
   ]
  },
  {
   "cell_type": "code",
   "execution_count": 29,
   "metadata": {
    "scrolled": true
   },
   "outputs": [
    {
     "name": "stdout",
     "output_type": "stream",
     "text": [
      "50\n",
      "[10, 20, 30, 40]\n",
      "[20, 30, 40, 50]\n",
      "[10, 30]\n"
     ]
    }
   ],
   "source": [
    "#pop: list의 마지막 요소를 삭제한 뒤 삭제한 요소를 반환\n",
    "\n",
    "a = [10,20,30,40,50]\n",
    "print(a.pop()) # 삭제될 끝의 숫자.\n",
    "print(a)\n",
    "\n",
    "a = [10,20,30,40,50]\n",
    "a.pop(0)\n",
    "print(a)\n",
    "\n",
    "a = [10,20,30]\n",
    "del a[1] # pop대신 사용가능.\n",
    "print(a)"
   ]
  },
  {
   "cell_type": "code",
   "execution_count": 27,
   "metadata": {},
   "outputs": [
    {
     "data": {
      "text/plain": [
       "[10, 30, 20]"
      ]
     },
     "execution_count": 27,
     "metadata": {},
     "output_type": "execute_result"
    }
   ],
   "source": [
    "# remove: 특정 값을 찾아서 삭제\n",
    "\n",
    "a = [10,20,30,20]\n",
    "a.remove(20)\n",
    "a\n",
    "# 20이 2개이지만 앞의 1개만 삭제한다."
   ]
  },
  {
   "cell_type": "code",
   "execution_count": 39,
   "metadata": {},
   "outputs": [
    {
     "name": "stdout",
     "output_type": "stream",
     "text": [
      "[]\n",
      "[]\n"
     ]
    }
   ],
   "source": [
    "a = [10,20,30,20]\n",
    "a.clear()\n",
    "print(a)\n",
    "\n",
    "a = [10,20,30]\n",
    "del a[:]\n",
    "print(a)"
   ]
  },
  {
   "cell_type": "markdown",
   "metadata": {},
   "source": [
    "### 4. 특정 값의 인덱스(index)와 개수(count) 구하기."
   ]
  },
  {
   "cell_type": "code",
   "execution_count": 32,
   "metadata": {},
   "outputs": [
    {
     "name": "stdout",
     "output_type": "stream",
     "text": [
      "1\n",
      "2\n"
     ]
    }
   ],
   "source": [
    "a = [10,20,20,30,40,50]\n",
    "print(a.index(20))      # 값이 여러개일 경우 가장 작은 인덱스(왼쪽)를 구해준다.\n",
    "\n",
    "#if 21 in a:\n",
    "#    a.index(21)\n",
    "\n",
    "print(a.count(20))"
   ]
  },
  {
   "cell_type": "markdown",
   "metadata": {},
   "source": [
    "### 5. 정렬하기(reverse, sort)"
   ]
  },
  {
   "cell_type": "code",
   "execution_count": 36,
   "metadata": {
    "scrolled": true
   },
   "outputs": [
    {
     "name": "stdout",
     "output_type": "stream",
     "text": [
      "[50, 40, 30, 20, 10]\n",
      "[70, 40, 30, 25, 20, 15]\n",
      "[15, 20, 25, 30, 40, 70]\n",
      "[40, 20, 15, 25, 30, 70]\n"
     ]
    }
   ],
   "source": [
    "a = [10,20,30,40,50]\n",
    "a.reverse()\n",
    "print(a)\n",
    "\n",
    "a = [40,20,15,25,30,70]\n",
    "a.sort(reverse=True)\n",
    "print(a)\n",
    "\n",
    "b = [40,20,15,25,30,70]\n",
    "print(sorted(b))        # 위의 것처럼 a자체가 sort된 것이 아니라 새 리스트를 생성한다.\n",
    "print(b)"
   ]
  },
  {
   "cell_type": "markdown",
   "metadata": {},
   "source": [
    "### 6. list의 할당과 복사"
   ]
  },
  {
   "cell_type": "code",
   "execution_count": 56,
   "metadata": {},
   "outputs": [
    {
     "name": "stdout",
     "output_type": "stream",
     "text": [
      "[0, 0, 0, 0, 0]\n",
      "[0, 0, 99, 0, 0] [0, 0, 99, 0, 0]\n",
      "[0, 0, 0, 0, 0] [0, 0, 99, 0, 0]\n"
     ]
    }
   ],
   "source": [
    "# 할당\n",
    "\n",
    "a = [0]*5\n",
    "print(a)\n",
    "b=a\n",
    "b[2] = 99\n",
    "print(a,b)  \n",
    "# 변수는 stack에 위치 값은 Heap의 주소에 저장\n",
    "# stack(변수 a,b) ----> Heap(0,0,0,0,0)의 구조이다.\n",
    "# 이런 효과를 side effect라고 한다.\n",
    "# 분리하기 위해서는 copy를 쓴다.\n",
    "\n",
    "# 복사\n",
    "\n",
    "a = [0]*5\n",
    "b = a.copy()\n",
    "b[2] = 99\n",
    "print(a,b)"
   ]
  },
  {
   "cell_type": "markdown",
   "metadata": {},
   "source": [
    "# 반복문으로 리스트의 요소를 모두 출력하기"
   ]
  },
  {
   "cell_type": "markdown",
   "metadata": {},
   "source": [
    "### for"
   ]
  },
  {
   "cell_type": "code",
   "execution_count": 74,
   "metadata": {
    "scrolled": true
   },
   "outputs": [
    {
     "name": "stdout",
     "output_type": "stream",
     "text": [
      "23 43 14 23 23 \n",
      "23 43 14 23 23 \n",
      "0 23\n",
      "1 43\n",
      "2 14\n",
      "3 23\n",
      "4 23\n",
      "1 23\n",
      "2 43\n",
      "3 14\n",
      "4 23\n",
      "5 23\n"
     ]
    }
   ],
   "source": [
    "# 1. 전통적인 for loop\n",
    "a = [23, 43, 14, 23, 23]\n",
    "for i in range(len(a)):\n",
    "    print(a[i],end=' ');\n",
    "print()\n",
    "# 2. 새로운 for loop\n",
    "for element in a:\n",
    "    print(element,sep='\\n',end=' ')\n",
    "\n",
    "print()\n",
    "# 3. 인덱스 추가.\n",
    "for index, value in enumerate(a):\n",
    "    print(index,value)\n",
    "\n",
    "for index, value in enumerate(a,start=1): # start는 생략가능\n",
    "    print(index,value)"
   ]
  },
  {
   "cell_type": "markdown",
   "metadata": {},
   "source": [
    "### while"
   ]
  },
  {
   "cell_type": "code",
   "execution_count": 75,
   "metadata": {},
   "outputs": [
    {
     "name": "stdout",
     "output_type": "stream",
     "text": [
      "38\n",
      "21\n",
      "53\n",
      "62\n",
      "19\n"
     ]
    }
   ],
   "source": [
    "a=[38,21,53,62,19]\n",
    "i = 0\n",
    "while i < len(a):\n",
    "    print(a[i])\n",
    "    i += 1"
   ]
  },
  {
   "cell_type": "code",
   "execution_count": 76,
   "metadata": {},
   "outputs": [
    {
     "name": "stdout",
     "output_type": "stream",
     "text": [
      "19 62 193\n"
     ]
    }
   ],
   "source": [
    "# 가장 작은 수와 가장 큰 수 구하기.\n",
    "print(\n",
    "min(a),\n",
    "max(a),\n",
    "sum(a))"
   ]
  },
  {
   "cell_type": "markdown",
   "metadata": {},
   "source": [
    "# list표현식 (리스트 안의 for if : list comprehension)"
   ]
  },
  {
   "cell_type": "markdown",
   "metadata": {},
   "source": [
    "### if 조건문 사용하기"
   ]
  },
  {
   "cell_type": "code",
   "execution_count": 73,
   "metadata": {},
   "outputs": [
    {
     "name": "stdout",
     "output_type": "stream",
     "text": [
      "[0, 2, 4, 6, 8]\n",
      "[1, 3, 5, 7, 9]\n",
      "[1, 9, 25, 49, 81]\n"
     ]
    }
   ],
   "source": [
    "m = [i*k for i in range(2,10) for k in range(1,10)]\n",
    "ma = [i for i in range(10) if i % 2 == 0]   # 짝수\n",
    "b = [i for i in range(10) if i % 2 == 1]   # 홀수\n",
    "c = [i*i for i in range(10) if i % 2 == 1] # 홀수의 제곱\n",
    "print(a,b,c,sep='\\n')"
   ]
  },
  {
   "cell_type": "markdown",
   "metadata": {},
   "source": [
    "### for 조건문 사용하기"
   ]
  },
  {
   "cell_type": "code",
   "execution_count": 77,
   "metadata": {
    "scrolled": true
   },
   "outputs": [
    {
     "name": "stdout",
     "output_type": "stream",
     "text": [
      "[5, 6, 7, 8, 9, 10, 11, 12, 13, 14]\n",
      "[5, 6, 7, 8, 9, 10, 11, 12, 13, 14]\n",
      "[0, 1, 4, 9, 16, 25, 36, 49, 64, 81]\n"
     ]
    },
    {
     "data": {
      "text/plain": [
       "[2,\n",
       " 4,\n",
       " 6,\n",
       " 8,\n",
       " 10,\n",
       " 12,\n",
       " 14,\n",
       " 16,\n",
       " 18,\n",
       " 3,\n",
       " 6,\n",
       " 9,\n",
       " 12,\n",
       " 15,\n",
       " 18,\n",
       " 21,\n",
       " 24,\n",
       " 27,\n",
       " 4,\n",
       " 8,\n",
       " 12,\n",
       " 16,\n",
       " 20,\n",
       " 24,\n",
       " 28,\n",
       " 32,\n",
       " 36,\n",
       " 5,\n",
       " 10,\n",
       " 15,\n",
       " 20,\n",
       " 25,\n",
       " 30,\n",
       " 35,\n",
       " 40,\n",
       " 45,\n",
       " 6,\n",
       " 12,\n",
       " 18,\n",
       " 24,\n",
       " 30,\n",
       " 36,\n",
       " 42,\n",
       " 48,\n",
       " 54,\n",
       " 7,\n",
       " 14,\n",
       " 21,\n",
       " 28,\n",
       " 35,\n",
       " 42,\n",
       " 49,\n",
       " 56,\n",
       " 63,\n",
       " 8,\n",
       " 16,\n",
       " 24,\n",
       " 32,\n",
       " 40,\n",
       " 48,\n",
       " 56,\n",
       " 64,\n",
       " 72,\n",
       " 9,\n",
       " 18,\n",
       " 27,\n",
       " 36,\n",
       " 45,\n",
       " 54,\n",
       " 63,\n",
       " 72,\n",
       " 81]"
      ]
     },
     "execution_count": 77,
     "metadata": {},
     "output_type": "execute_result"
    }
   ],
   "source": [
    "# 리스트 표현식 사용하기\n",
    "a = [i+5 for i in range(10)]\n",
    "b = [i+5 for i in range(10)]\n",
    "c = [i*i for i in range(10)]\n",
    "print(a,b,c,sep='\\n')\n",
    "\n",
    "m = [i*k for i in range(2,10) for k in range(1,10)]\n",
    "m"
   ]
  },
  {
   "cell_type": "markdown",
   "metadata": {},
   "source": [
    "### for if 조건문 사용하기"
   ]
  },
  {
   "cell_type": "code",
   "execution_count": 81,
   "metadata": {},
   "outputs": [
    {
     "data": {
      "text/plain": [
       "[5, 7, 9, 11, 13]"
      ]
     },
     "execution_count": 81,
     "metadata": {},
     "output_type": "execute_result"
    }
   ],
   "source": [
    "a = [i+5 for i in range(10) if i % 2 ==0]\n",
    "a"
   ]
  },
  {
   "cell_type": "code",
   "execution_count": 3,
   "metadata": {},
   "outputs": [
    {
     "data": {
      "text/plain": [
       "[1, 2, 3, 4, 5, 6, 10, 12, 15, 20, 30, 60]"
      ]
     },
     "execution_count": 3,
     "metadata": {},
     "output_type": "execute_result"
    }
   ],
   "source": [
    "# 약수 만들기\n",
    "divisor=[]\n",
    "n = 60\n",
    "for i in range(1,n+1):\n",
    "    if n % i == 0:\n",
    "        divisor.append(i)\n",
    "divisor"
   ]
  },
  {
   "cell_type": "code",
   "execution_count": null,
   "metadata": {},
   "outputs": [],
   "source": [
    "stack = Last-In / First-Out\n",
    "Queue = First-In / First-Out"
   ]
  },
  {
   "cell_type": "markdown",
   "metadata": {},
   "source": [
    "### #연습문제"
   ]
  },
  {
   "cell_type": "code",
   "execution_count": 87,
   "metadata": {},
   "outputs": [
    {
     "name": "stdout",
     "output_type": "stream",
     "text": [
      "['alpha', 'bravo', 'delta', 'hotel', 'india']\n"
     ]
    }
   ],
   "source": [
    "a = ['alpha', 'bravo', 'charlie', 'delta', 'echo', 'foxtrot', 'golf', 'hotel', 'india']\n",
    "b = [i for i in a if len(i) == 5]\n",
    "print(b)"
   ]
  },
  {
   "cell_type": "code",
   "execution_count": 123,
   "metadata": {},
   "outputs": [
    {
     "name": "stdout",
     "output_type": "stream",
     "text": [
      "1 10\n",
      "[2, 8, 16, 32, 64, 128, 256, 1024]\n"
     ]
    }
   ],
   "source": [
    "# #심사문제\n",
    "start, stop = map(int,input().split())\n",
    "\n",
    "t = [ 2**i for i in range(start,stop+1)]\n",
    "t.pop(1)\n",
    "t.pop(-2)\n",
    "print(t)"
   ]
  }
 ],
 "metadata": {
  "kernelspec": {
   "display_name": "Python 3",
   "language": "python",
   "name": "python3"
  },
  "language_info": {
   "codemirror_mode": {
    "name": "ipython",
    "version": 3
   },
   "file_extension": ".py",
   "mimetype": "text/x-python",
   "name": "python",
   "nbconvert_exporter": "python",
   "pygments_lexer": "ipython3",
   "version": "3.7.3"
  }
 },
 "nbformat": 4,
 "nbformat_minor": 2
}
