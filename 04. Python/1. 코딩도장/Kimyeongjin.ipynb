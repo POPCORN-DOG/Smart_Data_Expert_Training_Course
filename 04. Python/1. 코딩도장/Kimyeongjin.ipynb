{
 "cells": [
  {
   "cell_type": "code",
   "execution_count": null,
   "metadata": {},
   "outputs": [],
   "source": [
    "print('Hello, world!')"
   ]
  },
  {
   "cell_type": "code",
   "execution_count": 15,
   "metadata": {},
   "outputs": [
    {
     "name": "stdout",
     "output_type": "stream",
     "text": [
      "Hello\n",
      "1234\n"
     ]
    }
   ],
   "source": [
    "print('Hello'); print('1234')"
   ]
  },
  {
   "cell_type": "code",
   "execution_count": 17,
   "metadata": {},
   "outputs": [
    {
     "name": "stdout",
     "output_type": "stream",
     "text": [
      "Hello world\n"
     ]
    }
   ],
   "source": [
    "#hello wold 출력\n",
    "print('Hello world')"
   ]
  },
  {
   "cell_type": "code",
   "execution_count": 37,
   "metadata": {},
   "outputs": [
    {
     "name": "stdout",
     "output_type": "stream",
     "text": [
      "10입니다.\n",
      "10\n",
      "입니다.\n",
      "입니다\n"
     ]
    }
   ],
   "source": [
    "# Unit 4. 들여쓰기\n",
    "\n",
    "#들여쓰기(Indentation) 파이썬에서는 if(){} 대신에 if(): 이렇게 입력한다.\n",
    "#들여쓰기 한채로 다음 공백을 일부러 없애면 오류가 난다.\n",
    "#if a == 10:\n",
    "#print('') -> error\n",
    "\n",
    "# 1.\n",
    "a = 10\n",
    "if a == 10: \n",
    "    print('10입니다.')\n",
    "    \n",
    "# 2.\n",
    "if a==10:\n",
    "    print(10)\n",
    "    print('입니다.')\n",
    "\n",
    "# 3.\n",
    "a = 5\n",
    "if a == 10:\n",
    "    print(10)\n",
    "print('입니다')"
   ]
  },
  {
   "cell_type": "code",
   "execution_count": 75,
   "metadata": {},
   "outputs": [
    {
     "name": "stdout",
     "output_type": "stream",
     "text": [
      "2 1\n"
     ]
    }
   ],
   "source": [
    "# 파이썬은 L-value(변수) = R-value(값) 형식이다. (=) assignment\n",
    "# L-value는 하나가 아니라 여러개로 할 수 있다.\n",
    "\n",
    "quotient, remainder = divmod(5,2)\n",
    "print(quotient, remainder)"
   ]
  },
  {
   "cell_type": "code",
   "execution_count": 101,
   "metadata": {
    "scrolled": true
   },
   "outputs": [
    {
     "name": "stdout",
     "output_type": "stream",
     "text": [
      "2.5 2 1 3 (2, 1)\n",
      "6 255 254 16 8 6\n",
      "9.2 1.5999999999999996 5.0 8.0 10.0 <class 'int'>\n",
      "(1.2+1.3j) (1.2+1.3j)\n"
     ]
    },
    {
     "data": {
      "text/plain": [
       "7"
      ]
     },
     "execution_count": 101,
     "metadata": {},
     "output_type": "execute_result"
    }
   ],
   "source": [
    "#[Unit 5. 숫자 계산하기]\n",
    "\n",
    "# 사칙연산 + - * / //(몫) %(나머지) **(거듭제곱)\n",
    "# 나눗셈의 결과는 실수다.\n",
    "\n",
    "# int()     정수화(소수점 이하 제거)\n",
    "# divmod()  몫과 나머지를 한꺼번에 출력 \n",
    "# float()   실수화\n",
    "# complex() 실수를 복소수로 만들 때.\n",
    "\n",
    "\n",
    "# 1. 정수 계산하기\n",
    "print(\n",
    "    5/2,         # 2.5 \n",
    "    5//2,        # 2\n",
    "    5%2,         # 1\n",
    "    int(3.3),    # 3\n",
    "    divmod(5,2), # 2,1\n",
    ")\n",
    "\n",
    "# 2. 진수(0b), 8진수(0o), 16진수(0x)\n",
    "# octal(8진수)        : 0 1 2 ... 6 7 10 \n",
    "# hexadecimal(16진수) : 0 1 2 ... 9 A B C D ... F\n",
    "\n",
    "print(\n",
    "    0b110,\n",
    "    0o377,\n",
    "    0xfe,\n",
    "    0X10,    # X가 대문자여도 된다.\n",
    "    0O10,\n",
    "    0B110\n",
    ")\n",
    "\n",
    "# 3. 실수 계산하기\n",
    "print(\n",
    "    4.2 + 5,      # 9.2    (표현범위가 넓은 것을 기준으로 출력)\n",
    "    4.3 - 2.7,    # 1,599...(실수끼리 계산할때는 소숫점까지 나온다.)\n",
    "    float(5),     # 5.0\n",
    "    float(2*4),   # 8.0\n",
    "    float(10),    # 10.0 \n",
    "    type(10)      # class를 알려준다. 객체의 자료형 알아내기\n",
    ")\n",
    "\n",
    "# 4. 복소수 계산하기\n",
    "print(\n",
    "    1.2+1.3j,          # 수학에서는 허수를 i로 표현하지만 공학은 j\n",
    "    complex(1.2,1.3)\n",
    ")\n",
    "\n",
    "# =================================== 연습문제 ====================================\n",
    "# 이런식을 회귀식이라 한다.\n",
    "# 소음이 가장 심한 층을 구하는 계산식.\n",
    "# 도로와의 거리 = 12m\n",
    "\n",
    "int(0.2467 * 12 + 4.159)"
   ]
  },
  {
   "cell_type": "code",
   "execution_count": 3,
   "metadata": {},
   "outputs": [
    {
     "name": "stdout",
     "output_type": "stream",
     "text": [
      "<class 'int'> <class 'str'>\n",
      "10 20 30\n",
      "10 10 10\n",
      "10 20\n",
      "20 10\n",
      "None\n",
      "20 1.0 50\n",
      "1,2,3\n",
      "helloworld\n",
      "hello\n",
      "world\n",
      "1992-2-28\n",
      "1,2\n"
     ]
    }
   ],
   "source": [
    "#[Unit 6. 변수와 입력 사용하기.]\n",
    "# = 할당(assignment)\n",
    "# 1. 변수 입력하기 ---------------------------------------------------------\n",
    "x=10\n",
    "y='hello,world' \n",
    "print(type(x), # 정수 (integer) \n",
    "      type(y)   # 문자열(string) \n",
    "     )\n",
    "\n",
    "# 2. tuple 이해하기 --------------------------------------------------------\n",
    "#tuple 이라는 자료구조 덕분에 각 변수에 이런식으로 입력 가능함\n",
    "x, y, z = 10, 20, 30 \n",
    "print(x,y,z)\n",
    "\n",
    "x = y = z = 10 \n",
    "print(z,y,z)\n",
    "\n",
    "# tmp = y\n",
    "# y = x\n",
    "# x = tmp\n",
    "# 이런 과정이 필요없이 tuple 이라는 자료구조 덕분에 x,y=y,x로 가능하다.\n",
    "\n",
    "x, y = 10, 20 \n",
    "print(x, y) \n",
    "x, y = y, x \n",
    "print(x, y)\n",
    "\n",
    "# 3. 빈 변수 만들기 ---------------------------------------------------------\n",
    "x = None \n",
    "print(x)\n",
    "\n",
    "# 4. 변수로 계산하기 --------------------------------------------------------\n",
    "a = b = c = 10 \n",
    "a= a+10 \n",
    "b /= 10 \n",
    "c *= 5 \n",
    "print(a, # a + 10 = 20 \n",
    "      b, # b / 10 = 1.0 \n",
    "      c # c * 5 = 50 \n",
    "     )\n",
    "\n",
    "# 5. 입력 값을 변수에 저장하기. ----------------------------------------------\n",
    "#input() 입력후 출력창에 직접입력한다.\n",
    "#x = input('문자열을 입력하세요: ') \n",
    "#print(x)\n",
    "\n",
    "#a = input('첫번째 숫자:') \n",
    "#b = input('두번째 숫자:') \n",
    "#print(a+b)\n",
    "\n",
    "#기본적으로 숫자가 아닌 문자로 받아들이기 때문에 1020 이렇게 출력됨.\n",
    "#+ 는 문자열을 붙여주는 역할을 함.\n",
    "#한꺼번에 출력하기\n",
    "#a, b = input('문자열 두 개를 입력 : ').split()    # default는 공백 \n",
    "#c, d = input('문자열 두 개를 입력 : ').split(',') \n",
    "#print(a,b,c,d)\n",
    "\n",
    "# 6.정수화하기 ----------------------------------------------------------------- \n",
    "#a = int(input('첫번째 숫자:'))\n",
    "#b = int(input('두번째 숫자:')) \n",
    "#print(a+b)\n",
    "\n",
    "#type(a) # int라고 나온다.\n",
    "\n",
    "#a, b = map(int, input('숫자 두 개를 입력하세요: ').split()) \n",
    "#c, d = map(int, input('숫자 두 개를 입력하세요: ').split(','))\n",
    "#print(a+b)\n",
    "\n",
    "# 7. sep로 구분하기\n",
    "print(1,2,3, sep=',')\n",
    "print('hello','world', sep='')\n",
    "print('hello','world', sep='\\n')\n",
    "print(1992,2,28,sep='-')  # 이런식으로 문자도 넣을 수 있다.\n",
    "\n",
    "# 8. end사용하기\n",
    "print(1,end='')\n",
    "print(2,end=',')"
   ]
  },
  {
   "cell_type": "code",
   "execution_count": null,
   "metadata": {},
   "outputs": [],
   "source": [
    "#[Unit7: 출력 방법 알아보기]\n",
    "\n",
    "\n",
    "\n",
    "\n"
   ]
  },
  {
   "cell_type": "code",
   "execution_count": null,
   "metadata": {},
   "outputs": [],
   "source": []
  }
 ],
 "metadata": {
  "kernelspec": {
   "display_name": "Python 3",
   "language": "python",
   "name": "python3"
  },
  "language_info": {
   "codemirror_mode": {
    "name": "ipython",
    "version": 3
   },
   "file_extension": ".py",
   "mimetype": "text/x-python",
   "name": "python",
   "nbconvert_exporter": "python",
   "pygments_lexer": "ipython3",
   "version": "3.7.3"
  }
 },
 "nbformat": 4,
 "nbformat_minor": 2
}
