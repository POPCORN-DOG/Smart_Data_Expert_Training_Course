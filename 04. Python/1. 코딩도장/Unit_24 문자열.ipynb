{
 "cells": [
  {
   "cell_type": "markdown",
   "metadata": {},
   "source": [
    "# Unit24: 문자열"
   ]
  },
  {
   "cell_type": "markdown",
   "metadata": {},
   "source": [
    "### 1. 문자 바꾸기(.replace / str.maketrans / translate) "
   ]
  },
  {
   "cell_type": "code",
   "execution_count": null,
   "metadata": {},
   "outputs": [],
   "source": [
    "# str.maketrans('바꿀문자','새문자')\n",
    "# traslate(테이블)"
   ]
  },
  {
   "cell_type": "code",
   "execution_count": 5,
   "metadata": {},
   "outputs": [
    {
     "name": "stdout",
     "output_type": "stream",
     "text": [
      "Hello, Python\n",
      "Hello, Python!\n",
      "H2ll4, Pyth4n!\n"
     ]
    }
   ],
   "source": [
    "# R에서는  (함수) _gsub\n",
    "# python은 (method) = 자기자신을 바꿔준다...?\n",
    "\n",
    "print('Hello, world'.replace('world','Python'))\n",
    "\n",
    "s = 'Hello, world!'\n",
    "s = s.replace('world','Python')\n",
    "print(s)\n",
    "\n",
    "# a는 1 b는 2... 이런식으로 바뀐다.\n",
    "table = str.maketrans('aeiou','12345')\n",
    "print(s.translate(table))"
   ]
  },
  {
   "cell_type": "markdown",
   "metadata": {},
   "source": [
    "### 2. 문자 분리 연결하기 (.split / .join) "
   ]
  },
  {
   "cell_type": "code",
   "execution_count": 3,
   "metadata": {},
   "outputs": [
    {
     "name": "stdout",
     "output_type": "stream",
     "text": [
      "['apple', 'pear', 'grape', 'pineapple', 'orange']\n"
     ]
    },
    {
     "data": {
      "text/plain": [
       "'a-b-c-d-e'"
      ]
     },
     "execution_count": 3,
     "metadata": {},
     "output_type": "execute_result"
    }
   ],
   "source": [
    "# 분리하기\n",
    "print('apple pear grape pineapple orange'.split())\n",
    "\n",
    "# 연결하기\n",
    "# 리스트의 각 element들을 연결해준다.\n",
    "f = ['a','b','c','d','e']\n",
    "'-'.join(f)"
   ]
  },
  {
   "cell_type": "markdown",
   "metadata": {},
   "source": [
    "### 3. 대소문자 바꾸기 (.upper / lower )"
   ]
  },
  {
   "cell_type": "code",
   "execution_count": 10,
   "metadata": {},
   "outputs": [
    {
     "name": "stdout",
     "output_type": "stream",
     "text": [
      "PYTHON python\n",
      "['A', 'B', 'C', 'D', 'E']\n"
     ]
    }
   ],
   "source": [
    "print(\n",
    "'python'.upper(),\n",
    "'PYTHON'.lower())\n",
    "\n",
    "g=[]\n",
    "f = ['a','b','c','d','e']\n",
    "for item in f:\n",
    "    g.append(item.upper())\n",
    "print(g)"
   ]
  },
  {
   "cell_type": "markdown",
   "metadata": {},
   "source": [
    "### 4. 공백과 특정문자 삭제하기 (.strip )"
   ]
  },
  {
   "cell_type": "code",
   "execution_count": 36,
   "metadata": {},
   "outputs": [
    {
     "name": "stdout",
     "output_type": "stream",
     "text": [
      "Python   \n",
      "   Python\n",
      "Python\n",
      " python.\n",
      ", python\n",
      " python\n"
     ]
    }
   ],
   "source": [
    "print(\n",
    "'   Python   '.lstrip(),  # 왼쪽 공백삭제\n",
    "'   Python   '.rstrip(),  # 오른쪽 공백삭제\n",
    "'   Python   '.strip(),   # 양쪽 공백삭제\n",
    "sep='\\n')\n",
    "\n",
    "print(\n",
    "', python.'.lstrip(',.'),  # 왼쪽 특정문자 삭제 단 따옴표에 붙어있어야한다.\n",
    "', python.'.rstrip(',.'),  #  strip()안에 점과 쉼표와 같이 여러 특수문자를 넣어도 된다.\n",
    "', python.'.strip(',.'),\n",
    "sep='\\n')"
   ]
  },
  {
   "cell_type": "markdown",
   "metadata": {},
   "source": [
    "### 5. 공백과 특정문자 삭제하기(2) (string.punctuation)"
   ]
  },
  {
   "cell_type": "code",
   "execution_count": 52,
   "metadata": {},
   "outputs": [
    {
     "name": "stdout",
     "output_type": "stream",
     "text": [
      "python\n",
      "python\n",
      "^^^ python @@@\n"
     ]
    }
   ],
   "source": [
    "# 그래서 구두점을 간단하게 삭제하는 방법 !!!!\n",
    "import string\n",
    "string.punctuation\n",
    "', python  .'.strip(string.punctuation)\n",
    "\n",
    "# 공백 + 전부 삭제하고 싶다면\n",
    "print(' ^^^ python !!! '.strip(string.punctuation + ' '))\n",
    "print('^^^ python @@@'.strip(string.punctuation).strip()) \n",
    "print(' ^^^ python @@@ '.strip(string.punctuation).strip()) \n",
    "# 메서드 체이닝은 따옴표와 떨어졌을때 삭제 불가능..."
   ]
  },
  {
   "cell_type": "markdown",
   "metadata": {},
   "source": [
    "### 6. 정렬하기 (just, center)"
   ]
  },
  {
   "cell_type": "code",
   "execution_count": 58,
   "metadata": {
    "scrolled": true
   },
   "outputs": [
    {
     "name": "stdout",
     "output_type": "stream",
     "text": [
      "python    \n",
      "    PYTHON\n",
      "  python  \n"
     ]
    }
   ],
   "source": [
    "#정렬하기는 길이를 10으로 만든 뒤 왼/오 정렬하고 남는 공간을 공백 4칸으로 채운다.\n",
    "# 만약 just(11)과 같이 홀수가 된다면 공백은 왼쪽에 한 칸 더 들어간다.\n",
    "\n",
    "print(\n",
    "'python'.ljust(10), \n",
    "'python'.rjust(10).upper(),  # 메서드 체이닝\n",
    "'python'.center(10),\n",
    "sep='\\n')\n"
   ]
  },
  {
   "cell_type": "markdown",
   "metadata": {},
   "source": [
    "### 7. 문자열 왼쪽에 0 채우기 (zfill)"
   ]
  },
  {
   "cell_type": "code",
   "execution_count": 93,
   "metadata": {},
   "outputs": [
    {
     "name": "stdout",
     "output_type": "stream",
     "text": [
      "0001 0011 0111 1111 01.1\n"
     ]
    }
   ],
   "source": [
    "# zfill(김이), (zero fill을 의미)\n",
    "\n",
    "print(\n",
    "'1'.zfill(4),    # 소수점을 기준으로 숫자를 포함하여 숫자 앞에 0을 채움\n",
    "'11'.zfill(4),\n",
    "'111'.zfill(4),\n",
    "'1111'.zfill(4),\n",
    "'1.1'.zfill(4)   # 소수점도 햐나의 0으로 친다.\n",
    ")"
   ]
  },
  {
   "cell_type": "markdown",
   "metadata": {},
   "source": [
    "### 8. 문자열 위치 찾기 (find rfind index rindex) + count개수 세기"
   ]
  },
  {
   "cell_type": "code",
   "execution_count": 99,
   "metadata": {},
   "outputs": [
    {
     "name": "stdout",
     "output_type": "stream",
     "text": [
      "2\n",
      "12\n",
      "2\n",
      "12\n",
      "2\n"
     ]
    }
   ],
   "source": [
    "# find 는 제일 앞에있는 것을 기준으로 찾아준다. + \n",
    "# '-1'은 문자가 없다는 뜻\n",
    "\n",
    "print(\n",
    "'apple pineapple'.find('pl'),\n",
    "'apple pineapple'.rfind('pl'),\n",
    "'apple pineapple'.index('pl'),\n",
    "'apple pineapple'.rindex('pl'),\n",
    "'apple pineapple'.count('ple'),\n",
    "sep='\\n')"
   ]
  },
  {
   "cell_type": "markdown",
   "metadata": {},
   "source": [
    "### 9. 서식 지정자 ( %s %d %f )"
   ]
  },
  {
   "cell_type": "code",
   "execution_count": 11,
   "metadata": {},
   "outputs": [
    {
     "data": {
      "text/plain": [
       "'I am Ironman'"
      ]
     },
     "execution_count": 11,
     "metadata": {},
     "output_type": "execute_result"
    }
   ],
   "source": [
    "# 서식 지정자로 문자열 넣기\n",
    "# %s (string의 s 이며 s자리에 ''의 글자를 넣어라)\n",
    "\n",
    "'I am %s' % 'Ironman'\n",
    "name = 'Ironman'\n",
    "'I am %s' % name"
   ]
  },
  {
   "cell_type": "code",
   "execution_count": 6,
   "metadata": {},
   "outputs": [
    {
     "data": {
      "text/plain": [
       "'    python'"
      ]
     },
     "execution_count": 6,
     "metadata": {},
     "output_type": "execute_result"
    }
   ],
   "source": [
    "# 문자열 정렬하기\n",
    "#'%길이s'   =  오른쪽정렬\n",
    "#'%-길이s'  =  왼쪽정렬\n",
    "\n",
    "'%10s' % 'python'"
   ]
  },
  {
   "cell_type": "code",
   "execution_count": 37,
   "metadata": {},
   "outputs": [
    {
     "data": {
      "text/plain": [
       "'I am         20 years old.'"
      ]
     },
     "execution_count": 37,
     "metadata": {},
     "output_type": "execute_result"
    }
   ],
   "source": [
    "# 서식 지정자로 숫자 넣기\n",
    "#'%d' % 숫자 또는 << %길이d로 오른쪽 정렬가능 >>\n",
    "\n",
    "'I am %10d years old.' % 20"
   ]
  },
  {
   "cell_type": "code",
   "execution_count": 35,
   "metadata": {},
   "outputs": [
    {
     "data": {
      "text/plain": [
       "'2.300'"
      ]
     },
     "execution_count": 35,
     "metadata": {},
     "output_type": "execute_result"
    }
   ],
   "source": [
    "# 소수점 표현하기\n",
    "# '%자릿수f' % 소수점  또는 << %길이.자릿수f로 오른쪽 정렬가능 >>\n",
    "\n",
    "'%.2f' % 2.3\n",
    "'%.3f' % 2.3"
   ]
  },
  {
   "cell_type": "code",
   "execution_count": 12,
   "metadata": {},
   "outputs": [
    {
     "data": {
      "text/plain": [
       "'Today is 3 April.'"
      ]
     },
     "execution_count": 12,
     "metadata": {},
     "output_type": "execute_result"
    }
   ],
   "source": [
    "# 여러개 중복해서 넣기\n",
    "\n",
    "'Today is %d %s.' % (3,'April')"
   ]
  },
  {
   "cell_type": "markdown",
   "metadata": {},
   "source": [
    "### 10. format 메서드 사용하기"
   ]
  },
  {
   "cell_type": "code",
   "execution_count": 42,
   "metadata": {},
   "outputs": [
    {
     "name": "stdout",
     "output_type": "stream",
     "text": [
      "Hello, Python Script 3.6\n",
      "Hello, Python 3.6 Script Python\n",
      "Hello, Python 3.6\n",
      "Python 3.6\n",
      "Hello, Python 3.6\n",
      "python    \n",
      "0000python\n"
     ]
    }
   ],
   "source": [
    "#{순서}.format('1','2','3'...)\n",
    "print(\n",
    "'Hello, {} {} {}'.format('Python','Script',3.6),\n",
    "'Hello, {0} {2} {1} {0}'.format('Python','Script',3.6),\n",
    "'Hello, {language} {version}'.format(language='Python', version=3.6),\n",
    "sep='\\n')\n",
    "\n",
    "#변수 지정해서 입력하기\n",
    "language = 'Python'\n",
    "version = 3.6\n",
    "print('{0} {1}'.format(language,version))\n",
    "print(f'Hello, {language} {version}')\n",
    "\n",
    "# 문자열 정렬하기\n",
    "print(\n",
    "'{0:<10}'.format('python'),\n",
    "'{0:>10}'.format('python'),\n",
    "sep='\\n')"
   ]
  },
  {
   "cell_type": "markdown",
   "metadata": {},
   "source": [
    "# #연습문제"
   ]
  },
  {
   "cell_type": "code",
   "execution_count": 50,
   "metadata": {},
   "outputs": [
    {
     "name": "stdout",
     "output_type": "stream",
     "text": [
      "['C:', 'Users', 'dojang', 'AppData', 'Local', 'Programs', 'Python', 'Python36-32', 'python.exe']\n",
      "python.exe\n"
     ]
    },
    {
     "data": {
      "text/plain": [
       "'python.exe'"
      ]
     },
     "execution_count": 50,
     "metadata": {},
     "output_type": "execute_result"
    }
   ],
   "source": [
    "path = 'C:\\\\Users\\\\dojang\\\\AppData\\\\Local\\\\Programs\\\\Python\\\\Python36-32\\\\python.exe'\n",
    "\n",
    "#1\n",
    "x = path.split('\\\\')\n",
    "print(x)\n",
    "filename = x[-1]\n",
    "print(filename)\n",
    "\n",
    "#2\n",
    "path[path.rfind('\\\\')+1:]"
   ]
  },
  {
   "cell_type": "markdown",
   "metadata": {},
   "source": [
    "# #심사문제"
   ]
  },
  {
   "cell_type": "code",
   "execution_count": 77,
   "metadata": {},
   "outputs": [
    {
     "name": "stdout",
     "output_type": "stream",
     "text": [
      "the grown-ups' response, this time, was to advise me to lay aside my drawings of boa constrictors, whether from the inside or the outside, and devote myself instead to geography, history, arithmetic, and grammar. That is why, at the, age of six, I gave up what might have been a magnificent career as a painter. I had been disheartened by the failure of my Drawing Number One and my Drawing Number Two. Grown-ups never understand anything by themselves, and it is tiresome for children to be always and forever explaining things to the.\n",
      "12\n"
     ]
    }
   ],
   "source": [
    "import string\n",
    "\n",
    "words = input().split()\n",
    "\n",
    "count=0\n",
    "for i in words:\n",
    "    i = i.strip(string.punctuation)\n",
    "    if i == 'the':\n",
    "        count += 1\n",
    "        \n",
    "print(count)"
   ]
  }
 ],
 "metadata": {
  "kernelspec": {
   "display_name": "Python 3",
   "language": "python",
   "name": "python3"
  },
  "language_info": {
   "codemirror_mode": {
    "name": "ipython",
    "version": 3
   },
   "file_extension": ".py",
   "mimetype": "text/x-python",
   "name": "python",
   "nbconvert_exporter": "python",
   "pygments_lexer": "ipython3",
   "version": "3.7.3"
  }
 },
 "nbformat": 4,
 "nbformat_minor": 2
}
