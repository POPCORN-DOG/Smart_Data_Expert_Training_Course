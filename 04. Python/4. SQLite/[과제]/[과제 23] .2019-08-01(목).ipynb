{
 "cells": [
  {
   "cell_type": "code",
   "execution_count": 10,
   "metadata": {},
   "outputs": [],
   "source": [
    "import sqlite3\n",
    "import pandas as pd\n",
    "import numpy as np"
   ]
  },
  {
   "cell_type": "markdown",
   "metadata": {},
   "source": [
    "# <span style='color:teal'> [문제 1] </span>\n",
    "투수들의 기록중에서 평균자책점(ERA), 투구인닝(IP), 탈삼진(SO) 기록을 찾아서 Pitcher_stats 란 테이블을 만들고, Eagles 테이블과 Join 하여\u000b",
    "백넘버, 선수명, 포지션, 투구인닝, 평균자책점, 탈삼진 필드를 갖는 데이터 프레임을 만들어서\u000b",
    "Join 한 결과를 입력하고, 그 결과를 보이시오."
   ]
  },
  {
   "cell_type": "code",
   "execution_count": 11,
   "metadata": {},
   "outputs": [],
   "source": [
    "conn = sqlite3.connect('./test.db') "
   ]
  },
  {
   "cell_type": "markdown",
   "metadata": {},
   "source": [
    "### **1. Eagles 테이블 만들기**"
   ]
  },
  {
   "cell_type": "code",
   "execution_count": 16,
   "metadata": {},
   "outputs": [
    {
     "data": {
      "text/plain": [
       "<sqlite3.Cursor at 0x51c7180>"
      ]
     },
     "execution_count": 16,
     "metadata": {},
     "output_type": "execute_result"
    }
   ],
   "source": [
    "# 1  =============================================================================\n",
    "cur = conn.cursor() \n",
    "cur.execute('CREATE TABLE IF NOT EXISTS Eagles \\\n",
    "    (back_no INT NOT NULL, \\\n",
    "     name TEXT, \\\n",
    "     position TEXT, \\\n",
    "     hands TEXT, \\\n",
    "     highschool TEXT, \\\n",
    "     height INT, \\\n",
    "     PRIMARY KEY(back_no));')"
   ]
  },
  {
   "cell_type": "code",
   "execution_count": 17,
   "metadata": {},
   "outputs": [
    {
     "data": {
      "text/plain": [
       "<sqlite3.Cursor at 0x51c7260>"
      ]
     },
     "execution_count": 17,
     "metadata": {},
     "output_type": "execute_result"
    }
   ],
   "source": [
    "cur = conn.cursor()\n",
    "cur.execute(\"INSERT INTO Eagles VALUES \\\n",
    "    (1, '하주석', '내야수', '우투좌타', '신일고', 184), \\\n",
    "    (28, '양성우', '외야수', '우투좌타', '충암고', 177);\")"
   ]
  },
  {
   "cell_type": "code",
   "execution_count": 18,
   "metadata": {},
   "outputs": [],
   "source": [
    "conn.commit()"
   ]
  },
  {
   "cell_type": "code",
   "execution_count": 19,
   "metadata": {},
   "outputs": [
    {
     "data": {
      "text/html": [
       "<div>\n",
       "<style scoped>\n",
       "    .dataframe tbody tr th:only-of-type {\n",
       "        vertical-align: middle;\n",
       "    }\n",
       "\n",
       "    .dataframe tbody tr th {\n",
       "        vertical-align: top;\n",
       "    }\n",
       "\n",
       "    .dataframe thead th {\n",
       "        text-align: right;\n",
       "    }\n",
       "</style>\n",
       "<table border=\"1\" class=\"dataframe\">\n",
       "  <thead>\n",
       "    <tr style=\"text-align: right;\">\n",
       "      <th></th>\n",
       "      <th>back_no</th>\n",
       "      <th>name</th>\n",
       "      <th>position</th>\n",
       "      <th>hands</th>\n",
       "      <th>highschool</th>\n",
       "      <th>height</th>\n",
       "    </tr>\n",
       "  </thead>\n",
       "  <tbody>\n",
       "    <tr>\n",
       "      <th>0</th>\n",
       "      <td>17</td>\n",
       "      <td>김범수</td>\n",
       "      <td>투수</td>\n",
       "      <td>좌투좌타</td>\n",
       "      <td>천안북일고</td>\n",
       "      <td>181</td>\n",
       "    </tr>\n",
       "    <tr>\n",
       "      <th>1</th>\n",
       "      <td>38</td>\n",
       "      <td>안영명</td>\n",
       "      <td>투수</td>\n",
       "      <td>우투우타</td>\n",
       "      <td>천안북일고</td>\n",
       "      <td>183</td>\n",
       "    </tr>\n",
       "    <tr>\n",
       "      <th>2</th>\n",
       "      <td>36</td>\n",
       "      <td>장민재</td>\n",
       "      <td>투수</td>\n",
       "      <td>우투우타</td>\n",
       "      <td>광주제일고</td>\n",
       "      <td>184</td>\n",
       "    </tr>\n",
       "    <tr>\n",
       "      <th>3</th>\n",
       "      <td>13</td>\n",
       "      <td>최재훈</td>\n",
       "      <td>포수</td>\n",
       "      <td>우투우타</td>\n",
       "      <td>덕수고</td>\n",
       "      <td>178</td>\n",
       "    </tr>\n",
       "    <tr>\n",
       "      <th>4</th>\n",
       "      <td>52</td>\n",
       "      <td>김태균</td>\n",
       "      <td>내야수</td>\n",
       "      <td>우투우타</td>\n",
       "      <td>천안북일고</td>\n",
       "      <td>185</td>\n",
       "    </tr>\n",
       "    <tr>\n",
       "      <th>5</th>\n",
       "      <td>7</td>\n",
       "      <td>송광민</td>\n",
       "      <td>내야수</td>\n",
       "      <td>우투우타</td>\n",
       "      <td>공주고</td>\n",
       "      <td>184</td>\n",
       "    </tr>\n",
       "    <tr>\n",
       "      <th>6</th>\n",
       "      <td>50</td>\n",
       "      <td>이성열</td>\n",
       "      <td>내야수</td>\n",
       "      <td>우투좌타</td>\n",
       "      <td>순천효고</td>\n",
       "      <td>185</td>\n",
       "    </tr>\n",
       "    <tr>\n",
       "      <th>7</th>\n",
       "      <td>43</td>\n",
       "      <td>정은원</td>\n",
       "      <td>내야수</td>\n",
       "      <td>우투좌타</td>\n",
       "      <td>인천고</td>\n",
       "      <td>177</td>\n",
       "    </tr>\n",
       "    <tr>\n",
       "      <th>8</th>\n",
       "      <td>8</td>\n",
       "      <td>정근우</td>\n",
       "      <td>외야수</td>\n",
       "      <td>우투우타</td>\n",
       "      <td>부산고</td>\n",
       "      <td>172</td>\n",
       "    </tr>\n",
       "    <tr>\n",
       "      <th>9</th>\n",
       "      <td>30</td>\n",
       "      <td>호잉</td>\n",
       "      <td>외야수</td>\n",
       "      <td>우투좌타</td>\n",
       "      <td>외국고</td>\n",
       "      <td>190</td>\n",
       "    </tr>\n",
       "  </tbody>\n",
       "</table>\n",
       "</div>"
      ],
      "text/plain": [
       "   back_no name position hands highschool  height\n",
       "0       17  김범수       투수  좌투좌타      천안북일고     181\n",
       "1       38  안영명       투수  우투우타      천안북일고     183\n",
       "2       36  장민재       투수  우투우타      광주제일고     184\n",
       "3       13  최재훈       포수  우투우타        덕수고     178\n",
       "4       52  김태균      내야수  우투우타      천안북일고     185\n",
       "5        7  송광민      내야수  우투우타        공주고     184\n",
       "6       50  이성열      내야수  우투좌타       순천효고     185\n",
       "7       43  정은원      내야수  우투좌타        인천고     177\n",
       "8        8  정근우      외야수  우투우타        부산고     172\n",
       "9       30   호잉      외야수  우투좌타        외국고     190"
      ]
     },
     "execution_count": 19,
     "metadata": {},
     "output_type": "execute_result"
    }
   ],
   "source": [
    "players = pd.read_csv('./players.csv', encoding='EUC-KR')\n",
    "players"
   ]
  },
  {
   "cell_type": "code",
   "execution_count": 20,
   "metadata": {},
   "outputs": [
    {
     "name": "stdout",
     "output_type": "stream",
     "text": [
      "(1, '하주석', '내야수', '우투좌타', '신일고', 184)\n",
      "(28, '양성우', '외야수', '우투좌타', '충암고', 177)\n",
      "(17, '김범수', '투수', '좌투좌타', '천안북일고', 181)\n",
      "(38, '안영명', '투수', '우투우타', '천안북일고', 183)\n",
      "(36, '장민재', '투수', '우투우타', '광주제일고', 184)\n",
      "(13, '최재훈', '포수', '우투우타', '덕수고', 178)\n",
      "(52, '김태균', '내야수', '우투우타', '천안북일고', 185)\n",
      "(7, '송광민', '내야수', '우투우타', '공주고', 184)\n",
      "(50, '이성열', '내야수', '우투좌타', '순천효고', 185)\n",
      "(43, '정은원', '내야수', '우투좌타', '인천고', 177)\n",
      "(8, '정근우', '외야수', '우투우타', '부산고', 172)\n",
      "(30, '호잉', '외야수', '우투좌타', '외국고', 190)\n"
     ]
    }
   ],
   "source": [
    "# 4  =============================================================================\n",
    "cur = conn.cursor()\n",
    "sql = 'INSERT INTO Eagles VALUES (?, ?, ?, ?, ?, ?);'\n",
    "# 밑에 sql의 자리에 그대로 넣어도 되지만 보통은 이렇게 따로 만들어서 해놓는다.\n",
    "# 프로그램에서 물음표 값을 채워넣는다.\n",
    "\n",
    "for i in range(10):\n",
    "    cur.execute(sql, (int(players.iloc[i,0]), \n",
    "                      players.iloc[i,1], players.iloc[i,2], \n",
    "                      players.iloc[i,3], players.iloc[i,4], \n",
    "                      int(players.iloc[i,5])))\n",
    "conn.commit()\n",
    "\n",
    "cur = conn.cursor()\n",
    "cur.execute('SELECT * FROM Eagles')\n",
    "\n",
    "for row in cur:\n",
    "    print(row)"
   ]
  },
  {
   "cell_type": "markdown",
   "metadata": {},
   "source": [
    "### **2. Pitcher 테이블 만들기**"
   ]
  },
  {
   "cell_type": "code",
   "execution_count": 49,
   "metadata": {},
   "outputs": [
    {
     "data": {
      "text/html": [
       "<div>\n",
       "<style scoped>\n",
       "    .dataframe tbody tr th:only-of-type {\n",
       "        vertical-align: middle;\n",
       "    }\n",
       "\n",
       "    .dataframe tbody tr th {\n",
       "        vertical-align: top;\n",
       "    }\n",
       "\n",
       "    .dataframe thead th {\n",
       "        text-align: right;\n",
       "    }\n",
       "</style>\n",
       "<table border=\"1\" class=\"dataframe\">\n",
       "  <thead>\n",
       "    <tr style=\"text-align: right;\">\n",
       "      <th></th>\n",
       "      <th>player</th>\n",
       "      <th>ERA</th>\n",
       "      <th>IP</th>\n",
       "      <th>SO</th>\n",
       "    </tr>\n",
       "  </thead>\n",
       "  <tbody>\n",
       "    <tr>\n",
       "      <th>0</th>\n",
       "      <td>김범수</td>\n",
       "      <td>5.67</td>\n",
       "      <td>81</td>\n",
       "      <td>65</td>\n",
       "    </tr>\n",
       "    <tr>\n",
       "      <th>1</th>\n",
       "      <td>안영명</td>\n",
       "      <td>3.43</td>\n",
       "      <td>44</td>\n",
       "      <td>35</td>\n",
       "    </tr>\n",
       "    <tr>\n",
       "      <th>2</th>\n",
       "      <td>장민재</td>\n",
       "      <td>4.81</td>\n",
       "      <td>91</td>\n",
       "      <td>84</td>\n",
       "    </tr>\n",
       "  </tbody>\n",
       "</table>\n",
       "</div>"
      ],
      "text/plain": [
       "  player  \\tERA  \\tIP  \\tSO\n",
       "0    김범수   5.67    81    65\n",
       "1    안영명   3.43    44    35\n",
       "2    장민재   4.81    91    84"
      ]
     },
     "execution_count": 49,
     "metadata": {},
     "output_type": "execute_result"
    }
   ],
   "source": [
    "# 1  =============================================================================\n",
    "cur = conn.cursor()\n",
    "cur.execute('CREATE TABLE IF NOT EXISTS Pitcher \\\n",
    "    (id INT NOT NULL, \\\n",
    "     player TEXT, \\\n",
    "     ERA REAL, \\\n",
    "     IP INT, \\\n",
    "     SO INT, \\\n",
    "     PRIMARY KEY(id));')\n",
    "\n",
    "# 2  =============================================================================\n",
    "Pitcher = pd.read_csv('./Pitcher.csv',encoding='EUC-KR')\n",
    "Pitcher"
   ]
  },
  {
   "cell_type": "code",
   "execution_count": 50,
   "metadata": {},
   "outputs": [
    {
     "name": "stdout",
     "output_type": "stream",
     "text": [
      "(1, '김범수', 5.67, 81, 65)\n",
      "(2, '안영명', 3.43, 44, 35)\n",
      "(3, '장민재', 4.81, 91, 84)\n"
     ]
    }
   ],
   "source": [
    "# 3  =============================================================================\n",
    "cur = conn.cursor()\n",
    "sql = 'INSERT INTO Pitcher VALUES (?, ?, ?, ?, ?);'\n",
    "\n",
    "for i in range(3):\n",
    "    cur.execute(sql, (i+1,\n",
    "                      Pitcher.iloc[i,0],\n",
    "                      float(Pitcher.iloc[i,1]),\n",
    "                      int(Pitcher.iloc[i,2]),\n",
    "                      int(Pitcher.iloc[i,3])))\n",
    "conn.commit()\n",
    " \n",
    "# 4  =============================================================================\n",
    "cur = conn.cursor()\n",
    "cur.execute('SELECT * FROM Pitcher')\n",
    "\n",
    "for row in cur:\n",
    "    print(row)"
   ]
  },
  {
   "cell_type": "markdown",
   "metadata": {},
   "source": [
    "### **3. join하기**"
   ]
  },
  {
   "cell_type": "code",
   "execution_count": 46,
   "metadata": {},
   "outputs": [
    {
     "data": {
      "text/html": [
       "<div>\n",
       "<style scoped>\n",
       "    .dataframe tbody tr th:only-of-type {\n",
       "        vertical-align: middle;\n",
       "    }\n",
       "\n",
       "    .dataframe tbody tr th {\n",
       "        vertical-align: top;\n",
       "    }\n",
       "\n",
       "    .dataframe thead th {\n",
       "        text-align: right;\n",
       "    }\n",
       "</style>\n",
       "<table border=\"1\" class=\"dataframe\">\n",
       "  <thead>\n",
       "    <tr style=\"text-align: right;\">\n",
       "      <th></th>\n",
       "      <th>등번호</th>\n",
       "      <th>선수명</th>\n",
       "      <th>포지션</th>\n",
       "      <th>투구인닝</th>\n",
       "      <th>평균자책점</th>\n",
       "      <th>탈삼진</th>\n",
       "    </tr>\n",
       "  </thead>\n",
       "  <tbody>\n",
       "    <tr>\n",
       "      <th>0</th>\n",
       "      <td>17</td>\n",
       "      <td>김범수</td>\n",
       "      <td>투수</td>\n",
       "      <td>81</td>\n",
       "      <td>5.67</td>\n",
       "      <td>65</td>\n",
       "    </tr>\n",
       "    <tr>\n",
       "      <th>1</th>\n",
       "      <td>38</td>\n",
       "      <td>안영명</td>\n",
       "      <td>투수</td>\n",
       "      <td>44</td>\n",
       "      <td>3.43</td>\n",
       "      <td>35</td>\n",
       "    </tr>\n",
       "    <tr>\n",
       "      <th>2</th>\n",
       "      <td>36</td>\n",
       "      <td>장민재</td>\n",
       "      <td>투수</td>\n",
       "      <td>91</td>\n",
       "      <td>4.81</td>\n",
       "      <td>84</td>\n",
       "    </tr>\n",
       "  </tbody>\n",
       "</table>\n",
       "</div>"
      ],
      "text/plain": [
       "  등번호  선수명 포지션 투구인닝  평균자책점 탈삼진\n",
       "0  17  김범수  투수   81   5.67  65\n",
       "1  38  안영명  투수   44   3.43  35\n",
       "2  36  장민재  투수   91   4.81  84"
      ]
     },
     "execution_count": 46,
     "metadata": {},
     "output_type": "execute_result"
    }
   ],
   "source": [
    "# 1. =============================================================================\n",
    "sql = \"SELECT e.back_no, e.name, e.position, \\\n",
    "        p.IP, p.ERA, p.SO \\\n",
    "        FROM Eagles AS e JOIN Pitcher AS p \\\n",
    "        ON e.name like p.player;\"\n",
    "    \n",
    "cur = conn.cursor()\n",
    "cur.execute(sql)\n",
    "rows = cur.fetchall();\n",
    "\n",
    "\n",
    "# 7.  =============================================================================\n",
    "columnName = ['등번호','선수명','포지션','투구인닝','평균자책점','탈삼진']\n",
    "eagles_df = pd.DataFrame(columns = columnName) \n",
    "\n",
    "for row in rows: #row는 tuple 하나씩이다\n",
    "    eagles_df = eagles_df.append(pd.DataFrame( [list(row)], columns = columnName ),\n",
    "                                 ignore_index=True)\n",
    "eagles_df"
   ]
  },
  {
   "cell_type": "markdown",
   "metadata": {},
   "source": [
    "# <span style='color:teal'> [문제 2] </span>"
   ]
  },
  {
   "cell_type": "markdown",
   "metadata": {},
   "source": [
    "### 1. girl_group 테이블 만들기\n",
    "- 국내의 대표적인 걸그룹 또는 보이그룹 5개 이상에 대하여 \n",
    "- id(*), group_name, 구성원 수, 데뷔일자, 소속사를 갖는 테이블을 만드시오.(*는 Primary Key)"
   ]
  },
  {
   "cell_type": "code",
   "execution_count": 87,
   "metadata": {
    "scrolled": true
   },
   "outputs": [
    {
     "name": "stdout",
     "output_type": "stream",
     "text": [
      "  group_name  \\tmember     \\tdebut \\tagency\n",
      "0      TWICE         9  2015-10-20      JYP\n",
      "1  RedVelvet         5  2014-08-01       SM\n",
      "2  BLACKPINK         4  2016-08-08       YG\n",
      "3       ITZY         5  2019-02-12      JYP\n",
      "4    MAMAMOO         4  2014-06-19      RBW\n",
      "\n",
      "(1, 'TWICE', 9, '2015-10-20', 'JYP')\n",
      "(2, 'RedVelvet', 5, '2014-08-01', 'SM')\n",
      "(3, 'BLACKPINK', 4, '2016-08-08', 'YG')\n",
      "(4, 'ITZY', 5, '2019-02-12', 'JYP')\n",
      "(5, 'MAMAMOO', 4, '2014-06-19', 'RBW')\n"
     ]
    }
   ],
   "source": [
    "# 1  =============================================================================\n",
    "cur = conn.cursor() \n",
    "cur.execute('CREATE TABLE IF NOT EXISTS girl_group \\\n",
    "    (id INT NOT NULL, \\\n",
    "     group_name TEXT, \\\n",
    "     member INT, \\\n",
    "     debut TEXT, \\\n",
    "     agency TEXT, \\\n",
    "     PRIMARY KEY(id));')\n",
    "\n",
    "# 2  =============================================================================\n",
    "girl_group = pd.read_csv('./girl_group.csv',encoding='EUC-KR')\n",
    "print(girl_group)\n",
    "print()\n",
    "# 3  =============================================================================\n",
    "cur = conn.cursor()\n",
    "sql = 'INSERT INTO girl_group VALUES (?, ?, ?, ?, ?);'\n",
    "\n",
    "for i in range(5):\n",
    "    cur.execute(sql, (i+1,\n",
    "                      girl_group.iloc[i,0],\n",
    "                      int(girl_group.iloc[i,1]),\n",
    "                      girl_group.iloc[i,2],\n",
    "                      girl_group.iloc[i,3]))\n",
    "conn.commit()\n",
    " \n",
    "# 4  =============================================================================\n",
    "cur = conn.cursor()\n",
    "cur.execute('SELECT * FROM girl_group')\n",
    "\n",
    "for row in cur:\n",
    "    print(row)"
   ]
  },
  {
   "cell_type": "markdown",
   "metadata": {},
   "source": [
    "### 2. song 테이블 만들기\n",
    "- 이들이 불렀던 노래 또는 다른 사람이 불렀던 노래 10곡 이상에 대하여 다음의 정보를 갖는 테이블을 만드시오.  \n",
    "\n",
    "- song_id(*), song_name, 그룹 id, 발표년도, 작곡가, 도입부 가사 "
   ]
  },
  {
   "cell_type": "code",
   "execution_count": 88,
   "metadata": {},
   "outputs": [
    {
     "name": "stdout",
     "output_type": "stream",
     "text": [
      "              song_name  group_id     Release              composer  \\\n",
      "0             OOH-AHH하게         1  2015-10-20               블랙아이드필승   \n",
      "1  Dance The Night Away         1  2018-07-09       Anne Judith Wik   \n",
      "2                Rookie         2  2017-02-01  Jamil `Digi` Chammas   \n",
      "3                  짐살라빔         2  2019-06-19         Olof Lindskog   \n",
      "4                   붐바야         3  2016-08-08                 TEDDY   \n",
      "5        Kill This Love         3  2019-04-05                 TEDDY   \n",
      "6                 달라달라?         4  2019-02-12                 별들의전쟁   \n",
      "7                   ICY         4  2019-07-29                   박진영   \n",
      "8               Mr.애매모호         5  2014-06-18                   김도훈   \n",
      "9                  고고베베         5  2019-03-14                   김건모   \n",
      "\n",
      "                                lyrics  \n",
      "0                 모두 나를 가지고 매일 가만 안 두죠  \n",
      "1                오늘이 마지막인 듯 소리 질러 저 멀리  \n",
      "2                    당당히 넌 고개를 들고 나를 봐  \n",
      "3            Zimzalabim Zim-zimzalabim  \n",
      "4                YAH YAH YAH BOOMBAYAH  \n",
      "5     Here I come kickin' the door, uh  \n",
      "6  People look at me, and they tell me  \n",
      "7                   차갑게 보여도 어떡해 쿨한 나니까  \n",
      "8                      실례지만 내게 뭐가 묻은거니  \n",
      "9                  일루와 일루와 일루와 일루와 일루와  \n",
      "\n",
      "(1, 'OOH-AHH하게', 1, '2015-10-20', '블랙아이드필승', '모두 나를 가지고 매일 가만 안 두죠')\n",
      "(2, 'Dance The Night Away', 1, '2018-07-09', 'Anne Judith Wik', '오늘이 마지막인 듯 소리 질러 저 멀리')\n",
      "(3, 'Rookie', 2, '2017-02-01', 'Jamil `Digi` Chammas', '당당히 넌 고개를 들고 나를 봐')\n",
      "(4, '짐살라빔', 2, '2019-06-19', 'Olof Lindskog', 'Zimzalabim Zim-zimzalabim')\n",
      "(5, '붐바야', 3, '2016-08-08', 'TEDDY', 'YAH YAH YAH BOOMBAYAH')\n",
      "(6, 'Kill This Love', 3, '2019-04-05', 'TEDDY', \"Here I come kickin' the door, uh\")\n",
      "(7, '달라달라?', 4, '2019-02-12', '별들의전쟁', 'People look at me, and they tell me')\n",
      "(8, 'ICY', 4, '2019-07-29', '박진영', '차갑게 보여도 어떡해 쿨한 나니까')\n",
      "(9, 'Mr.애매모호', 5, '2014-06-18', '김도훈', '실례지만 내게 뭐가 묻은거니')\n",
      "(10, '고고베베', 5, '2019-03-14', '김건모', '일루와 일루와 일루와 일루와 일루와')\n"
     ]
    }
   ],
   "source": [
    "# 1  =============================================================================\n",
    "cur = conn.cursor() \n",
    "cur.execute('CREATE TABLE IF NOT EXISTS song \\\n",
    "    (song_id INT NOT NULL, \\\n",
    "     song_name TEXT, \\\n",
    "     group_id INT, \\\n",
    "     Release TEXT, \\\n",
    "     composer TEXT, \\\n",
    "     lyrics TEXT, \\\n",
    "     PRIMARY KEY(song_id));')\n",
    "\n",
    "# 2  =============================================================================\n",
    "song = pd.read_csv('./song.csv',encoding='EUC-KR')\n",
    "print(song)\n",
    "print()\n",
    "# 3  =============================================================================\n",
    "cur = conn.cursor()\n",
    "sql = 'INSERT INTO song VALUES (?, ?, ?, ?, ?, ?);'\n",
    "\n",
    "for i in range(10):\n",
    "    cur.execute(sql, (i+1,\n",
    "                      song.iloc[i,0],\n",
    "                      int(song.iloc[i,1]),\n",
    "                      song.iloc[i,2],\n",
    "                      song.iloc[i,3],\n",
    "                      song.iloc[i,4]))\n",
    "conn.commit()\n",
    " \n",
    "# 4  =============================================================================\n",
    "cur = conn.cursor()\n",
    "cur.execute('SELECT * FROM song')\n",
    "\n",
    "for row in cur:\n",
    "    print(row)"
   ]
  },
  {
   "cell_type": "markdown",
   "metadata": {},
   "source": [
    "### 3. girl_group & song 테이블 join\n",
    "- 위 두개의 테이블을 조인한 결과를 가지고 다음의 필드를 갖는 데이터 프레임을 만드시오.  \n",
    "\n",
    "- 그룹 이름, 구성원 수, 데뷔 일자, 노래 이름, 발표 년도"
   ]
  },
  {
   "cell_type": "code",
   "execution_count": 89,
   "metadata": {},
   "outputs": [
    {
     "data": {
      "text/html": [
       "<div>\n",
       "<style scoped>\n",
       "    .dataframe tbody tr th:only-of-type {\n",
       "        vertical-align: middle;\n",
       "    }\n",
       "\n",
       "    .dataframe tbody tr th {\n",
       "        vertical-align: top;\n",
       "    }\n",
       "\n",
       "    .dataframe thead th {\n",
       "        text-align: right;\n",
       "    }\n",
       "</style>\n",
       "<table border=\"1\" class=\"dataframe\">\n",
       "  <thead>\n",
       "    <tr style=\"text-align: right;\">\n",
       "      <th></th>\n",
       "      <th>그룹이름</th>\n",
       "      <th>구성원 수</th>\n",
       "      <th>데뷔 일자</th>\n",
       "      <th>노래 이름</th>\n",
       "      <th>발표 년도</th>\n",
       "    </tr>\n",
       "  </thead>\n",
       "  <tbody>\n",
       "    <tr>\n",
       "      <th>0</th>\n",
       "      <td>TWICE</td>\n",
       "      <td>9</td>\n",
       "      <td>2015-10-20</td>\n",
       "      <td>OOH-AHH하게</td>\n",
       "      <td>2015-10-20</td>\n",
       "    </tr>\n",
       "    <tr>\n",
       "      <th>1</th>\n",
       "      <td>TWICE</td>\n",
       "      <td>9</td>\n",
       "      <td>2015-10-20</td>\n",
       "      <td>Dance The Night Away</td>\n",
       "      <td>2018-07-09</td>\n",
       "    </tr>\n",
       "    <tr>\n",
       "      <th>2</th>\n",
       "      <td>RedVelvet</td>\n",
       "      <td>5</td>\n",
       "      <td>2014-08-01</td>\n",
       "      <td>Rookie</td>\n",
       "      <td>2017-02-01</td>\n",
       "    </tr>\n",
       "    <tr>\n",
       "      <th>3</th>\n",
       "      <td>RedVelvet</td>\n",
       "      <td>5</td>\n",
       "      <td>2014-08-01</td>\n",
       "      <td>짐살라빔</td>\n",
       "      <td>2019-06-19</td>\n",
       "    </tr>\n",
       "    <tr>\n",
       "      <th>4</th>\n",
       "      <td>BLACKPINK</td>\n",
       "      <td>4</td>\n",
       "      <td>2016-08-08</td>\n",
       "      <td>붐바야</td>\n",
       "      <td>2016-08-08</td>\n",
       "    </tr>\n",
       "    <tr>\n",
       "      <th>5</th>\n",
       "      <td>BLACKPINK</td>\n",
       "      <td>4</td>\n",
       "      <td>2016-08-08</td>\n",
       "      <td>Kill This Love</td>\n",
       "      <td>2019-04-05</td>\n",
       "    </tr>\n",
       "    <tr>\n",
       "      <th>6</th>\n",
       "      <td>ITZY</td>\n",
       "      <td>5</td>\n",
       "      <td>2019-02-12</td>\n",
       "      <td>달라달라?</td>\n",
       "      <td>2019-02-12</td>\n",
       "    </tr>\n",
       "    <tr>\n",
       "      <th>7</th>\n",
       "      <td>ITZY</td>\n",
       "      <td>5</td>\n",
       "      <td>2019-02-12</td>\n",
       "      <td>ICY</td>\n",
       "      <td>2019-07-29</td>\n",
       "    </tr>\n",
       "    <tr>\n",
       "      <th>8</th>\n",
       "      <td>MAMAMOO</td>\n",
       "      <td>4</td>\n",
       "      <td>2014-06-19</td>\n",
       "      <td>Mr.애매모호</td>\n",
       "      <td>2014-06-18</td>\n",
       "    </tr>\n",
       "    <tr>\n",
       "      <th>9</th>\n",
       "      <td>MAMAMOO</td>\n",
       "      <td>4</td>\n",
       "      <td>2014-06-19</td>\n",
       "      <td>고고베베</td>\n",
       "      <td>2019-03-14</td>\n",
       "    </tr>\n",
       "  </tbody>\n",
       "</table>\n",
       "</div>"
      ],
      "text/plain": [
       "        그룹이름 구성원 수       데뷔 일자                 노래 이름       발표 년도\n",
       "0      TWICE     9  2015-10-20             OOH-AHH하게  2015-10-20\n",
       "1      TWICE     9  2015-10-20  Dance The Night Away  2018-07-09\n",
       "2  RedVelvet     5  2014-08-01                Rookie  2017-02-01\n",
       "3  RedVelvet     5  2014-08-01                  짐살라빔  2019-06-19\n",
       "4  BLACKPINK     4  2016-08-08                   붐바야  2016-08-08\n",
       "5  BLACKPINK     4  2016-08-08        Kill This Love  2019-04-05\n",
       "6       ITZY     5  2019-02-12                 달라달라?  2019-02-12\n",
       "7       ITZY     5  2019-02-12                   ICY  2019-07-29\n",
       "8    MAMAMOO     4  2014-06-19               Mr.애매모호  2014-06-18\n",
       "9    MAMAMOO     4  2014-06-19                  고고베베  2019-03-14"
      ]
     },
     "execution_count": 89,
     "metadata": {},
     "output_type": "execute_result"
    }
   ],
   "source": [
    "# 1. =============================================================================\n",
    "sql = \"SELECT g.group_name, g.member, g.debut, \\\n",
    "        s.song_name, s.Release \\\n",
    "        FROM girl_group AS g JOIN song AS s \\\n",
    "        ON g.id like s.group_id;\"\n",
    "    \n",
    "cur = conn.cursor()\n",
    "cur.execute(sql)\n",
    "rows = cur.fetchall();\n",
    "\n",
    "\n",
    "# 7.  =============================================================================\n",
    "columnName = ['그룹이름','구성원 수','데뷔 일자','노래 이름','발표 년도']\n",
    "girl_group_df = pd.DataFrame(columns = columnName) \n",
    "\n",
    "for row in rows: #row는 tuple 하나씩이다\n",
    "    girl_group_df = girl_group_df.append(pd.DataFrame( [list(row)], columns = columnName ),\n",
    "                                 ignore_index=True)\n",
    "girl_group_df"
   ]
  },
  {
   "cell_type": "markdown",
   "metadata": {},
   "source": [
    "# <span style='color:teal'> [문제 3] </span>"
   ]
  },
  {
   "cell_type": "markdown",
   "metadata": {},
   "source": [
    "사용자의 이름과, 비밀번호를 갖는 Users 테이블이 있다.  \n",
    "사용자의 이름과 비밀번호를 올바르게 입력하면 ‘성공’을 출력하고,  \n",
    "잘못 입력하면 ‘실패’를 출력하는 프로그램을 작성하시오.\n"
   ]
  },
  {
   "cell_type": "code",
   "execution_count": 15,
   "metadata": {
    "scrolled": false
   },
   "outputs": [
    {
     "name": "stdout",
     "output_type": "stream",
     "text": [
      "   Myid  PASSWORD\n",
      "0  abcd      1234\n",
      "1  efgh      5678\n",
      "2  ijkl     12345\n",
      "3  mnop     56789\n",
      "4  qrst       123\n",
      "5  uvwx       456\n",
      "\n"
     ]
    },
    {
     "data": {
      "text/html": [
       "<div>\n",
       "<style scoped>\n",
       "    .dataframe tbody tr th:only-of-type {\n",
       "        vertical-align: middle;\n",
       "    }\n",
       "\n",
       "    .dataframe tbody tr th {\n",
       "        vertical-align: top;\n",
       "    }\n",
       "\n",
       "    .dataframe thead th {\n",
       "        text-align: right;\n",
       "    }\n",
       "</style>\n",
       "<table border=\"1\" class=\"dataframe\">\n",
       "  <thead>\n",
       "    <tr style=\"text-align: right;\">\n",
       "      <th></th>\n",
       "      <th>ID</th>\n",
       "      <th>PASSWORD</th>\n",
       "    </tr>\n",
       "  </thead>\n",
       "  <tbody>\n",
       "    <tr>\n",
       "      <th>0</th>\n",
       "      <td>abcd</td>\n",
       "      <td>1234</td>\n",
       "    </tr>\n",
       "    <tr>\n",
       "      <th>1</th>\n",
       "      <td>efgh</td>\n",
       "      <td>5678</td>\n",
       "    </tr>\n",
       "    <tr>\n",
       "      <th>2</th>\n",
       "      <td>ijkl</td>\n",
       "      <td>12345</td>\n",
       "    </tr>\n",
       "    <tr>\n",
       "      <th>3</th>\n",
       "      <td>mnop</td>\n",
       "      <td>56789</td>\n",
       "    </tr>\n",
       "    <tr>\n",
       "      <th>4</th>\n",
       "      <td>qrst</td>\n",
       "      <td>123</td>\n",
       "    </tr>\n",
       "    <tr>\n",
       "      <th>5</th>\n",
       "      <td>uvwx</td>\n",
       "      <td>456</td>\n",
       "    </tr>\n",
       "  </tbody>\n",
       "</table>\n",
       "</div>"
      ],
      "text/plain": [
       "     ID PASSWORD\n",
       "0  abcd     1234\n",
       "1  efgh     5678\n",
       "2  ijkl    12345\n",
       "3  mnop    56789\n",
       "4  qrst      123\n",
       "5  uvwx      456"
      ]
     },
     "execution_count": 15,
     "metadata": {},
     "output_type": "execute_result"
    }
   ],
   "source": [
    "# 1  =============================================================================\n",
    "cur = conn.cursor() \n",
    "cur.execute('CREATE TABLE IF NOT EXISTS Rog_in \\\n",
    "    (MYid TEXT NOT NULL, \\\n",
    "     PASSWORD INT, \\\n",
    "     PRIMARY KEY(MYid));')\n",
    "\n",
    "# 2  =============================================================================\n",
    "Rog_in = pd.read_csv('./Rog_in.csv',encoding='EUC-KR')\n",
    "print(Rog_in)\n",
    "print()\n",
    "\n",
    "# 3  =============================================================================\n",
    "cur = conn.cursor()\n",
    "sql = 'INSERT INTO Rog_in VALUES (?, ?);'\n",
    "\n",
    "for i in range(6):\n",
    "    cur.execute(sql, (Rog_in.iloc[i,0],\n",
    "                      int(Rog_in.iloc[i,1])))\n",
    "conn.commit()\n",
    " \n",
    "# 4  =============================================================================\n",
    "cur = conn.cursor()\n",
    "cur.execute('SELECT * FROM Rog_in')\n",
    "\n",
    "columnName = ['ID','PASSWORD']\n",
    "\n",
    "Rog_in_df = pd.DataFrame(columns = columnName) \n",
    "for row in cur:\n",
    "    Rog_in_df = Rog_in_df.append(pd.DataFrame([list(row)],columns = columnName),\n",
    "                                 ignore_index=True) \n",
    "    \n",
    "Rog_in_df"
   ]
  },
  {
   "cell_type": "code",
   "execution_count": 52,
   "metadata": {},
   "outputs": [],
   "source": [
    "def login(ID,PASSWORD):\n",
    "    for i in range(0,6):\n",
    "        if Rog_in_df['ID'][i] == ID and Rog_in_df['PASSWORD'][i] == PASSWORD:\n",
    "            return 'Log_in 되었습니다'\n",
    "        elif Rog_in_df['ID'][i] != ID and Rog_in_df['PASSWORD'][i] == PASSWORD:\n",
    "            return '아이디가 틀립니다.'\n",
    "        elif Rog_in_df['ID'][i] == ID and Rog_in_df['PASSWORD'][i] != PASSWORD:\n",
    "            return '비밀번호가 틀립니다.'\n",
    "    else:\n",
    "        return '실패하였습니다.'"
   ]
  },
  {
   "cell_type": "code",
   "execution_count": 53,
   "metadata": {},
   "outputs": [
    {
     "name": "stdout",
     "output_type": "stream",
     "text": [
      "ID를 입력해주세요> abcd\n",
      "비밀번호를 입력해주세요> 1234\n"
     ]
    },
    {
     "data": {
      "text/plain": [
       "'Log_in 되었습니다'"
      ]
     },
     "execution_count": 53,
     "metadata": {},
     "output_type": "execute_result"
    }
   ],
   "source": [
    "ID = input('ID를 입력해주세요> ')\n",
    "PASSWORD = int(input('비밀번호를 입력해주세요> '))\n",
    "\n",
    "login(ID,PASSWORD)"
   ]
  },
  {
   "cell_type": "markdown",
   "metadata": {},
   "source": [
    "- [비밀번호 프로그램 참고](https://gist.github.com/studybee)"
   ]
  },
  {
   "cell_type": "markdown",
   "metadata": {},
   "source": [
    "# 테이블 삭제"
   ]
  },
  {
   "cell_type": "code",
   "execution_count": 14,
   "metadata": {},
   "outputs": [],
   "source": [
    "cur.execute(\"DROP TABLE Rog_in\") # SQLite에 있는 파일명 입력\n",
    "conn.commit()"
   ]
  }
 ],
 "metadata": {
  "kernelspec": {
   "display_name": "Python 3",
   "language": "python",
   "name": "python3"
  },
  "language_info": {
   "codemirror_mode": {
    "name": "ipython",
    "version": 3
   },
   "file_extension": ".py",
   "mimetype": "text/x-python",
   "name": "python",
   "nbconvert_exporter": "python",
   "pygments_lexer": "ipython3",
   "version": "3.7.3"
  }
 },
 "nbformat": 4,
 "nbformat_minor": 2
}
