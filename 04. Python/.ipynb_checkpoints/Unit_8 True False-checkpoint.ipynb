{
 "cells": [
  {
   "cell_type": "markdown",
   "metadata": {},
   "source": [
    "# Unit8: 불과 비교, 논리 연산자"
   ]
  },
  {
   "cell_type": "markdown",
   "metadata": {},
   "source": [
    "### 1. 비교연산자"
   ]
  },
  {
   "cell_type": "code",
   "execution_count": 22,
   "metadata": {},
   "outputs": [
    {
     "name": "stdout",
     "output_type": "stream",
     "text": [
      "\n",
      " 1(1): True True True False False True\n",
      "\n",
      " 1(2): True False\n",
      "\n",
      " 1(3): True False True\n"
     ]
    }
   ],
   "source": [
    "###(숫자)###\n",
    "print('\\n','1(1):',\n",
    "      3>1,        # 3이 1보다 크다.\n",
    "      10==10,     # 10과 10은 같다   \n",
    "      10 != 5,    # 10과 5는 다르다\n",
    "      10 != 10,   # 10과 10은 다르다\n",
    "      10 >= 20, \n",
    "      10 <= 20,   # 10이 20보다 작거나 같다.\n",
    "      sep=' ')\n",
    "\n",
    "###(문자)###\n",
    "print('\\n','1(2):',\n",
    "      'python' == 'python', # 문자열끼리 비교.\n",
    "      'R_pro'  == 'python')\n",
    "\n",
    "\n",
    "###(객체)###\n",
    "print('\\n','1(3):',\n",
    "      1 == 1.0,     # 값   vs 값   (값이 같은가 - 그래)\n",
    "      1 is 1.0,     # 정수 vs 실수 (객체가 같은가 - 아니)\n",
    "      1 is not 1.0  # 정수 vs 실수 (객체가 다른가 - 그래)\n",
    "     )"
   ]
  },
  {
   "cell_type": "markdown",
   "metadata": {},
   "source": [
    "### 2. 논리연산자 (and or not) "
   ]
  },
  {
   "cell_type": "code",
   "execution_count": 23,
   "metadata": {},
   "outputs": [
    {
     "name": "stdout",
     "output_type": "stream",
     "text": [
      "\n",
      " 2(1): True False False\n",
      "\n",
      " 2(2): True True False\n",
      "\n",
      " 2(3): False True True True True\n"
     ]
    }
   ],
   "source": [
    "### and 두 값이 모두 True면 True\n",
    "print('\\n','2(1):',\n",
    "      True and True,\n",
    "      True and False,\n",
    "     False and False)\n",
    "\n",
    "### or 한 값이라도 True면 True\n",
    "print('\\n','2(2):',\n",
    "      True or True,\n",
    "      True or False,\n",
    "      False or False)\n",
    "\n",
    "### not  논리값을 뒤집는다.\n",
    "print('\\n','2(3):',\n",
    "      not True,\n",
    "      not False,\n",
    "      not True and False or not False,\n",
    "      False and False or True,\n",
    "      False or True)"
   ]
  },
  {
   "cell_type": "markdown",
   "metadata": {},
   "source": [
    "### 3. 비교 & 논리 연산자"
   ]
  },
  {
   "cell_type": "code",
   "execution_count": 24,
   "metadata": {
    "scrolled": true
   },
   "outputs": [
    {
     "name": "stdout",
     "output_type": "stream",
     "text": [
      "\n",
      " 3: True True False True\n"
     ]
    }
   ],
   "source": [
    "print('\\n','3:',\n",
    "     10 == 10 and 10 != 5,\n",
    "     10 >5 or 10 <3,\n",
    "     not 10 > 5,\n",
    "     not 1 is 1.0)"
   ]
  },
  {
   "cell_type": "markdown",
   "metadata": {},
   "source": [
    "### 4. bool "
   ]
  },
  {
   "cell_type": "code",
   "execution_count": 25,
   "metadata": {
    "scrolled": false
   },
   "outputs": [
    {
     "name": "stdout",
     "output_type": "stream",
     "text": [
      "\n",
      " 4: True False\n"
     ]
    }
   ],
   "source": [
    "print('\\n','4:',\n",
    "      bool(1),\n",
    "      bool(0))"
   ]
  },
  {
   "cell_type": "markdown",
   "metadata": {},
   "source": [
    "### 연습문제"
   ]
  },
  {
   "cell_type": "code",
   "execution_count": 26,
   "metadata": {},
   "outputs": [
    {
     "name": "stdout",
     "output_type": "stream",
     "text": [
      "\n",
      " 연습문제: False\n"
     ]
    }
   ],
   "source": [
    "korean = 92\n",
    "english = 27\n",
    "mathematics = 86\n",
    "science = 81\n",
    "\n",
    "print('\\n','연습문제:',\n",
    "      korean >= 50 and\n",
    "      english >= 50 and\n",
    "      mathematics >= 50 and \n",
    "      science >= 50)"
   ]
  }
 ],
 "metadata": {
  "kernelspec": {
   "display_name": "Python 3",
   "language": "python",
   "name": "python3"
  },
  "language_info": {
   "codemirror_mode": {
    "name": "ipython",
    "version": 3
   },
   "file_extension": ".py",
   "mimetype": "text/x-python",
   "name": "python",
   "nbconvert_exporter": "python",
   "pygments_lexer": "ipython3",
   "version": "3.7.3"
  }
 },
 "nbformat": 4,
 "nbformat_minor": 2
}
