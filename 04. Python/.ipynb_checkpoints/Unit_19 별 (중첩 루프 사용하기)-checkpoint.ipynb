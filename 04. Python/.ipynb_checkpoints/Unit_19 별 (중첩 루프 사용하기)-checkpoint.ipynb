{
 "cells": [
  {
   "cell_type": "markdown",
   "metadata": {},
   "source": [
    "# Unit19: 별을 그려봅시다."
   ]
  },
  {
   "cell_type": "code",
   "execution_count": 4,
   "metadata": {},
   "outputs": [
    {
     "name": "stdout",
     "output_type": "stream",
     "text": [
      "k:0 k:1 k:2 k:3 k:4 i:0\\n\n",
      "k:0 k:1 k:2 k:3 k:4 i:1\\n\n",
      "k:0 k:1 k:2 k:3 k:4 i:2\\n\n",
      "k:0 k:1 k:2 k:3 k:4 i:3\\n\n",
      "k:0 k:1 k:2 k:3 k:4 i:4\\n\n"
     ]
    }
   ],
   "source": [
    "#for i in range(횟수):      # 바깥쪽 루프\n",
    "#    for k in range(횟수):  # 안쪽 루프\n",
    "#        가로 처리 코드\n",
    "#    코드\n",
    "\n",
    "for i in range(5):                   # 5번 반복. 바깥루프 = 세로방향\n",
    "    for k in range(5):               # 5번 반복. 안쪽루프 = 가로방향\n",
    "        print('k:',k,sep='',end=' ') # j값 출력, end에 ''를 지정하여 줄바꿈대신 한칸띄움\n",
    "    print('i:',i,'\\\\n',sep='')       # i값 출력, 개행 문자 모양도 출력\n",
    "                                     # 가로 방향으로 숫자를 모두 출력한 뒤 다음줄로 넘어감\n",
    "                                     # (print는 기본적으로 출력 후 다음 줄로 넘어감.)"
   ]
  },
  {
   "cell_type": "markdown",
   "metadata": {},
   "source": [
    "### 1.사각형"
   ]
  },
  {
   "cell_type": "code",
   "execution_count": 7,
   "metadata": {},
   "outputs": [
    {
     "name": "stdout",
     "output_type": "stream",
     "text": [
      "****\n",
      "****\n",
      "****\n",
      "****\n"
     ]
    }
   ],
   "source": [
    "for i in range(4):\n",
    "    for k in range(3):\n",
    "        print('*',end='')\n",
    "    print('*')"
   ]
  },
  {
   "cell_type": "markdown",
   "metadata": {},
   "source": [
    "### 2. 삼각형"
   ]
  },
  {
   "cell_type": "code",
   "execution_count": 11,
   "metadata": {},
   "outputs": [
    {
     "name": "stdout",
     "output_type": "stream",
     "text": [
      "*\n",
      "**\n",
      "***\n",
      "****\n",
      "*****\n",
      "****\n",
      "***\n",
      "**\n",
      "*\n",
      "*    \n",
      " *   \n",
      "  *  \n",
      "   * \n",
      "    *\n",
      "    *\n",
      "   *\n",
      "  *\n",
      " *\n",
      "*\n"
     ]
    }
   ],
   "source": [
    "for i in range(5):\n",
    "    for k in range(5):\n",
    "        if k <= i:\n",
    "            print('*',end='')\n",
    "    print()\n",
    "\n",
    "for i in range(4):\n",
    "    for k in range(4):\n",
    "        if k >= i:\n",
    "            print('*',end='')\n",
    "    print()\n",
    "\n",
    "for i in range(5):\n",
    "    for k in range(5):\n",
    "        if k == i:\n",
    "            print('*',end='')\n",
    "        else:\n",
    "            print(' ',end='')\n",
    "    print()\n",
    "for i in reversed(range(5)):\n",
    "    for k in range(i):\n",
    "        print(' ',end='')\n",
    "    print('*')"
   ]
  },
  {
   "cell_type": "markdown",
   "metadata": {},
   "source": [
    "### 3. 다이아몬드"
   ]
  },
  {
   "cell_type": "code",
   "execution_count": 1,
   "metadata": {},
   "outputs": [
    {
     "name": "stdout",
     "output_type": "stream",
     "text": [
      "   *\n",
      "  ***\n",
      " *****\n",
      "*******\n",
      " *****\n",
      "  ***\n",
      "   *\n"
     ]
    }
   ],
   "source": [
    "for i in range(4):\n",
    "    for k in range(i,3):\n",
    "        print(' ',end='')\n",
    "    for j in range((i*2)+1):\n",
    "        print('*',end='')\n",
    "    print('')\n",
    "for i in reversed(range(3)):\n",
    "    for k in range(i,3):\n",
    "        print(' ',end='')\n",
    "    for j in range((i*2)+1):\n",
    "        print('*',end='')\n",
    "    print('')"
   ]
  },
  {
   "cell_type": "markdown",
   "metadata": {},
   "source": [
    "### 4. 육망성"
   ]
  },
  {
   "cell_type": "code",
   "execution_count": 27,
   "metadata": {},
   "outputs": [
    {
     "name": "stdout",
     "output_type": "stream",
     "text": [
      "7\n",
      "                     *\n",
      "                    ***\n",
      "                   *****\n",
      "                  *******\n",
      "                 *********\n",
      "                ***********\n",
      "               *************\n",
      "******************************************\n",
      " ****************************************\n",
      "  **************************************\n",
      "   ************************************\n",
      "    **********************************\n",
      "     ********************************\n",
      "      ******************************\n"
     ]
    }
   ],
   "source": [
    "star = int(input())\n",
    "\n",
    "for i in range(star):\n",
    "    for k in range(i,star*3):\n",
    "        print(' ',end='')\n",
    "    for j in range((i*2)+1):\n",
    "        print('*',end='')\n",
    "    print('')\n",
    "for i in range(star):\n",
    "    for k in range(i):\n",
    "        print(' ',end='')\n",
    "    for j in range(i*2,star*6):\n",
    "        print('*',end='')\n",
    "    print('')\n"
   ]
  },
  {
   "cell_type": "code",
   "execution_count": 24,
   "metadata": {},
   "outputs": [
    {
     "name": "stdout",
     "output_type": "stream",
     "text": [
      "10\n",
      "          *                              *\n",
      "         *                             ***\n",
      "        *                            *****\n",
      "       *                           *******\n",
      "      *                          *********\n",
      "     *                         ***********\n",
      "    *                        *************\n",
      "   *                       ***************\n",
      "  *                      *****************\n",
      " *                     *******************\n"
     ]
    }
   ],
   "source": [
    "star = int(input())\n",
    "\n",
    "for i in range(star):\n",
    "    for a in range(i,star):\n",
    "        print(' ',end='')\n",
    "    for b in range(i,i+1):\n",
    "        print('*',end='')\n",
    "    for c in range(i,star*3):\n",
    "        print(' ',end='')\n",
    "    for d in range((i*2)+1):\n",
    "        print('*',end='')\n",
    "    print('')"
   ]
  },
  {
   "cell_type": "markdown",
   "metadata": {},
   "source": [
    "### #연습문제"
   ]
  },
  {
   "cell_type": "code",
   "execution_count": 34,
   "metadata": {},
   "outputs": [
    {
     "name": "stdout",
     "output_type": "stream",
     "text": [
      "*****\n",
      " ****\n",
      "  ***\n",
      "   **\n",
      "    *\n"
     ]
    }
   ],
   "source": [
    "for i in range(5):\n",
    "    for k in range(i):\n",
    "        print(' ',end='')\n",
    "    for j in range(i,5):\n",
    "        print('*',end='')\n",
    "    print()"
   ]
  },
  {
   "cell_type": "markdown",
   "metadata": {},
   "source": [
    "### #심사문제"
   ]
  },
  {
   "cell_type": "code",
   "execution_count": 49,
   "metadata": {},
   "outputs": [
    {
     "name": "stdout",
     "output_type": "stream",
     "text": [
      "5\n",
      "    *\n",
      "   ***\n",
      "  *****\n",
      " *******\n",
      "*********\n"
     ]
    }
   ],
   "source": [
    "a = int(input())\n",
    "for i in range(a):\n",
    "    for k in range(i+1,a):\n",
    "        print(' ',end='')\n",
    "    for e in range(i*2+1):\n",
    "        print('*',end='')\n",
    "    print()"
   ]
  },
  {
   "cell_type": "code",
   "execution_count": 11,
   "metadata": {},
   "outputs": [
    {
     "name": "stdout",
     "output_type": "stream",
     "text": [
      "숫자들을 입력하세요>5,4,21,3,15, 2, 95, 11, 43, 76\n",
      "[2, 3, 4, 5, 11, 15, 21, 43, 76, 95]\n",
      "[95, 76, 43, 21, 15, 11, 5, 4, 3, 2]\n"
     ]
    }
   ],
   "source": [
    "#bubble_sort\n",
    "#오른차순으로 버블 소트\n",
    "# 5,4,21,3,15, 2, 95, 11, 43, 76\n",
    "\n",
    "aList = list(map(int,input('숫자들을 입력하세요>').split(',')))\n",
    "\n",
    "for i in range(0,len(aList)-1):\n",
    "    for k in range(i+1,len(aList)):\n",
    "        if aList[i] > aList[k]:\n",
    "            aList[i], aList[k] = aList[k], aList[i]\n",
    "print(aList)\n",
    "\n",
    "for i in range(0,len(aList)-1):\n",
    "    for k in range(i+1,len(aList)):\n",
    "        if aList[i] < aList[k]:\n",
    "            aList[i], aList[k] = aList[k], aList[i]\n",
    "print(aList)"
   ]
  },
  {
   "cell_type": "code",
   "execution_count": 13,
   "metadata": {},
   "outputs": [
    {
     "name": "stdout",
     "output_type": "stream",
     "text": [
      "0\n",
      "0 \n",
      "1\n",
      "0 1 \n",
      "2\n",
      "0 1 2 \n",
      "3\n",
      "0 1 2 3 \n",
      "4\n",
      "0 1 2 3 4 \n"
     ]
    }
   ],
   "source": [
    "for i in range(5):\n",
    "    print(i)\n",
    "    for k in range(5):\n",
    "        print(k,end=' ')\n",
    "        if k == i:\n",
    "            break\n",
    "    print()\n",
    "    \n",
    "#break는 바로 위의 것까지만 먹는다.\n"
   ]
  }
 ],
 "metadata": {
  "kernelspec": {
   "display_name": "Python 3",
   "language": "python",
   "name": "python3"
  },
  "language_info": {
   "codemirror_mode": {
    "name": "ipython",
    "version": 3
   },
   "file_extension": ".py",
   "mimetype": "text/x-python",
   "name": "python",
   "nbconvert_exporter": "python",
   "pygments_lexer": "ipython3",
   "version": "3.7.3"
  }
 },
 "nbformat": 4,
 "nbformat_minor": 2
}
