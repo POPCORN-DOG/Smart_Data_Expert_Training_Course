{
 "cells": [
  {
   "cell_type": "markdown",
   "metadata": {},
   "source": [
    "# Unit 6. 변수와 입력 사용하기"
   ]
  },
  {
   "cell_type": "markdown",
   "metadata": {},
   "source": [
    "### 1. 변수 입력하기"
   ]
  },
  {
   "cell_type": "code",
   "execution_count": 1,
   "metadata": {},
   "outputs": [
    {
     "name": "stdout",
     "output_type": "stream",
     "text": [
      "<class 'int'> <class 'str'>\n"
     ]
    }
   ],
   "source": [
    "#= 할당(assignment)\n",
    "x=10\n",
    "y='hello,world' \n",
    "print(type(x), # 정수 (integer) \n",
    "      type(y)   # 문자열(string) \n",
    "     )"
   ]
  },
  {
   "cell_type": "markdown",
   "metadata": {},
   "source": [
    "### 2. tuple 이해하기 "
   ]
  },
  {
   "cell_type": "code",
   "execution_count": 2,
   "metadata": {
    "scrolled": true
   },
   "outputs": [
    {
     "name": "stdout",
     "output_type": "stream",
     "text": [
      "10 20 30\n",
      "10 10 10\n",
      "10 20\n",
      "20 10\n"
     ]
    }
   ],
   "source": [
    "#tuple 이라는 자료구조 덕분에 각 변수에 이런식으로 입력 가능함\n",
    "x, y, z = 10, 20, 30 \n",
    "print(x,y,z)\n",
    "\n",
    "x = y = z = 10 \n",
    "print(z,y,z)\n",
    "\n",
    "#tmp = y\n",
    "#y = x\n",
    "#x = tmp\n",
    "#이런 과정이 필요없이 tuple 이라는 자료구조 덕분에 x,y=y,x로 가능하다.\n",
    "\n",
    "x, y = 10, 20 \n",
    "print(x, y) \n",
    "x, y = y, x \n",
    "print(x, y)"
   ]
  },
  {
   "cell_type": "markdown",
   "metadata": {},
   "source": [
    "### 3. 빈 변수 만들기"
   ]
  },
  {
   "cell_type": "code",
   "execution_count": 3,
   "metadata": {},
   "outputs": [
    {
     "name": "stdout",
     "output_type": "stream",
     "text": [
      "None\n"
     ]
    }
   ],
   "source": [
    "x = None \n",
    "print(x)\n",
    "#del x 변수 삭제"
   ]
  },
  {
   "cell_type": "markdown",
   "metadata": {},
   "source": [
    "### 4. 변수로 계산하기 "
   ]
  },
  {
   "cell_type": "code",
   "execution_count": 4,
   "metadata": {
    "scrolled": true
   },
   "outputs": [
    {
     "name": "stdout",
     "output_type": "stream",
     "text": [
      "20 1.0 50\n"
     ]
    }
   ],
   "source": [
    "a = b = c = 10 \n",
    "a= a+10 \n",
    "b /= 10 \n",
    "c *= 5 \n",
    "print(a, # a + 10 = 20 \n",
    "      b, # b / 10 = 1.0 \n",
    "      c # c * 5 = 50 \n",
    "     )"
   ]
  },
  {
   "cell_type": "markdown",
   "metadata": {},
   "source": [
    "### 5. 입력 값을 변수에 저장하기. "
   ]
  },
  {
   "cell_type": "code",
   "execution_count": 6,
   "metadata": {},
   "outputs": [
    {
     "name": "stdout",
     "output_type": "stream",
     "text": [
      "문자열을 입력하세요: 입력했습니다.\n",
      "입력했습니다.\n",
      "첫번째 숫자:10\n",
      "두번째 숫자:20\n",
      "1020\n",
      "문자열 두 개를 입력 : 10 20\n",
      "문자열 두 개를 입력 : 10,20\n",
      "10 20 10 20\n"
     ]
    }
   ],
   "source": [
    "#input() 입력값을 문자열로 저장, 입력후 출력창에 직접입력한다.\n",
    "x = input('문자열을 입력하세요: ') \n",
    "print(x)\n",
    "\n",
    "a = input('첫번째 숫자:') \n",
    "b = input('두번째 숫자:') \n",
    "print(a+b)\n",
    "\n",
    "#기본적으로 숫자가 아닌 문자로 받아들이기 때문에 1020 이렇게 출력됨.\n",
    "#+ 는 문자열을 붙여주는 역할을 함.\n",
    "\n",
    "#한꺼번에 출력하기\n",
    "a, b = input('문자열 두 개를 입력 : ').split()    # default는 공백 \n",
    "c, d = input('문자열 두 개를 입력 : ').split(',') \n",
    "print(a,b,c,d)"
   ]
  },
  {
   "cell_type": "markdown",
   "metadata": {},
   "source": [
    "### 6.정수화하기 "
   ]
  },
  {
   "cell_type": "code",
   "execution_count": 8,
   "metadata": {},
   "outputs": [
    {
     "name": "stdout",
     "output_type": "stream",
     "text": [
      "첫번째 숫자:10\n",
      "두번째 숫자:20\n",
      "30\n",
      "숫자 두 개를 입력하세요: 10 20\n",
      "숫자 두 개를 입력하세요: 10,20\n",
      "30\n"
     ]
    }
   ],
   "source": [
    "a = int(input('첫번째 숫자:'))\n",
    "b = int(input('두번째 숫자:')) \n",
    "print(a+b)\n",
    "\n",
    "type(a) # int라고 나온다.\n",
    "\n",
    "a, b = map(int, input('숫자 두 개를 입력하세요: ').split()) \n",
    "c, d = map(int, input('숫자 두 개를 입력하세요: ').split(','))\n",
    "print(a+b)\n",
    "\n",
    "# 참고 : float(input()) 실수화"
   ]
  }
 ],
 "metadata": {
  "kernelspec": {
   "display_name": "Python 3",
   "language": "python",
   "name": "python3"
  },
  "language_info": {
   "codemirror_mode": {
    "name": "ipython",
    "version": 3
   },
   "file_extension": ".py",
   "mimetype": "text/x-python",
   "name": "python",
   "nbconvert_exporter": "python",
   "pygments_lexer": "ipython3",
   "version": "3.7.3"
  }
 },
 "nbformat": 4,
 "nbformat_minor": 2
}
