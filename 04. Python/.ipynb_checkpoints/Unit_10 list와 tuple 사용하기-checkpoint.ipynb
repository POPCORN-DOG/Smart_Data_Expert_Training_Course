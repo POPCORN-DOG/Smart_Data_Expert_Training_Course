{
 "cells": [
  {
   "cell_type": "code",
   "execution_count": 2,
   "metadata": {},
   "outputs": [
    {
     "name": "stdout",
     "output_type": "stream",
     "text": [
      "10\n",
      "1\n"
     ]
    },
    {
     "data": {
      "text/plain": [
       "(-10, -9, -8, -7, -6, -5, -4, -3, -2, -1, 0, 1, 2, 3, 4, 5, 6, 7, 8, 9)"
      ]
     },
     "execution_count": 2,
     "metadata": {},
     "output_type": "execute_result"
    }
   ],
   "source": [
    "# Unit 10 리스트와 튜플 사용하기 ===============\n",
    "#** 가나다라마바사\n",
    "\n",
    "list('Hello')\n",
    "tuple('Hello')\n",
    "\n",
    "x, y, z = 1,2,3\n",
    "\n",
    "# 리스트 언팩킹\n",
    "x = [1,2,3]\n",
    "a,b,c=x\n",
    "\n",
    "# 튜플 언팩킹\n",
    "y=4,5,6\n",
    "d,e,f=y\n",
    "\n",
    "# list로 반납한다.\n",
    "input().split()\n",
    "\n",
    "# tuple로 만들어진다.\n",
    "tuple([10,20,30])\n",
    "\n",
    "\n",
    "# 10. -10에서 10까지 범위 지정하기.\n",
    "tuple(range(-10,10,int(input(''))))"
   ]
  }
 ],
 "metadata": {
  "kernelspec": {
   "display_name": "Python 3",
   "language": "python",
   "name": "python3"
  },
  "language_info": {
   "codemirror_mode": {
    "name": "ipython",
    "version": 3
   },
   "file_extension": ".py",
   "mimetype": "text/x-python",
   "name": "python",
   "nbconvert_exporter": "python",
   "pygments_lexer": "ipython3",
   "version": "3.7.3"
  }
 },
 "nbformat": 4,
 "nbformat_minor": 2
}
