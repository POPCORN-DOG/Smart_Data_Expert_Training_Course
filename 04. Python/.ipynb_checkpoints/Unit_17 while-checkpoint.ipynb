{
 "cells": [
  {
   "cell_type": "markdown",
   "metadata": {},
   "source": [
    "# Unit17: while 반복문"
   ]
  },
  {
   "cell_type": "code",
   "execution_count": 1,
   "metadata": {},
   "outputs": [],
   "source": [
    "# 파이썬에서는 library 대신에 import를 사용한다.\n",
    "# while 반복문은 결과가 True면 계속 반복하고 False면 반복을 끝낸다.\n",
    "# 조건문에 True가 들어가면 무한루프가 된다.\n",
    "# 1.1, not 0 과 같이 True로 취급하면 무한 루프가 된다."
   ]
  },
  {
   "cell_type": "code",
   "execution_count": null,
   "metadata": {
    "scrolled": true
   },
   "outputs": [],
   "source": []
  },
  {
   "cell_type": "code",
   "execution_count": 2,
   "metadata": {},
   "outputs": [
    {
     "name": "stdout",
     "output_type": "stream",
     "text": [
      "3\n",
      "1\n",
      "4\n",
      "4\n",
      "6\n",
      "5\n",
      "2\n",
      "1\n",
      "5\n",
      "5\n"
     ]
    }
   ],
   "source": [
    "import random\n",
    "random.random()\n",
    "\n",
    "random.randint(1,6)\n",
    "for i in range(10):\n",
    "    random.randint(1,6)\n",
    "    \n",
    "import random as rd\n",
    "for i in range(10):\n",
    "    print(rd.randint(1,6))\n",
    "    \n"
   ]
  },
  {
   "cell_type": "code",
   "execution_count": 3,
   "metadata": {},
   "outputs": [
    {
     "name": "stdout",
     "output_type": "stream",
     "text": [
      "3\n"
     ]
    }
   ],
   "source": [
    "i = 0\n",
    "while i != 3:\n",
    "    i = rd.randint(1,6)\n",
    "    print(i)"
   ]
  },
  {
   "cell_type": "code",
   "execution_count": 4,
   "metadata": {},
   "outputs": [
    {
     "name": "stdout",
     "output_type": "stream",
     "text": [
      "3\n"
     ]
    }
   ],
   "source": [
    "while True:\n",
    "    dice = rd.randint(1,6)\n",
    "    print(dice)\n",
    "    if dice  == 3:\n",
    "        break"
   ]
  },
  {
   "cell_type": "code",
   "execution_count": 5,
   "metadata": {},
   "outputs": [
    {
     "name": "stdout",
     "output_type": "stream",
     "text": [
      "1 1 1\n",
      "6 5 2\n",
      "total count = 2\n"
     ]
    }
   ],
   "source": [
    "# 주사위 2개를 던져서\n",
    "# 눈금의 합이 10 이면 탈출\n",
    "count = 0\n",
    "while True:\n",
    "    dice1 = rd.randint(1,6)\n",
    "    dice2 = rd.randint(1,6) \n",
    "    count += 1\n",
    "    print(dice1,dice2,count)\n",
    "    if dice1+dice2 >= 10:\n",
    "        break\n",
    "        \n",
    "print(\"total count =\", count)"
   ]
  },
  {
   "cell_type": "code",
   "execution_count": 6,
   "metadata": {},
   "outputs": [
    {
     "name": "stdout",
     "output_type": "stream",
     "text": [
      "5 1\n",
      "4 2\n",
      "10 3\n",
      "total count = 3\n"
     ]
    }
   ],
   "source": [
    "count = 0\n",
    "while True:\n",
    "    dice1 = rd.randint(1,6)\n",
    "    dice2 = rd.randint(1,6)\n",
    "    dice  = dice2+dice1\n",
    "    count +=1\n",
    "    print(dice,count)\n",
    "    if dice == 10:\n",
    "        break\n",
    "print(\"total count =\", count)"
   ]
  },
  {
   "cell_type": "markdown",
   "metadata": {},
   "source": [
    "### #연습문제"
   ]
  },
  {
   "cell_type": "code",
   "execution_count": 7,
   "metadata": {},
   "outputs": [
    {
     "name": "stdout",
     "output_type": "stream",
     "text": [
      "2 5\n",
      "4 4\n",
      "8 3\n",
      "16 2\n",
      "32 1\n"
     ]
    }
   ],
   "source": [
    "i = 2\n",
    "k = 5\n",
    "while i<=32 or k >=1: \n",
    "    print(i,k)\n",
    "    i *= 2\n",
    "    k -= 1"
   ]
  },
  {
   "cell_type": "markdown",
   "metadata": {},
   "source": [
    "### #심사문제"
   ]
  },
  {
   "cell_type": "code",
   "execution_count": 13,
   "metadata": {},
   "outputs": [
    {
     "name": "stdout",
     "output_type": "stream",
     "text": [
      "10000\n",
      "8650\n",
      "7300\n",
      "5950\n",
      "4600\n",
      "3250\n",
      "1900\n",
      "550\n",
      "-800\n"
     ]
    }
   ],
   "source": [
    "i = int(input())\n",
    "\n",
    "while 0 <= i :\n",
    "    i -= 1350\n",
    "    print(i)"
   ]
  }
 ],
 "metadata": {
  "kernelspec": {
   "display_name": "Python 3",
   "language": "python",
   "name": "python3"
  },
  "language_info": {
   "codemirror_mode": {
    "name": "ipython",
    "version": 3
   },
   "file_extension": ".py",
   "mimetype": "text/x-python",
   "name": "python",
   "nbconvert_exporter": "python",
   "pygments_lexer": "ipython3",
   "version": "3.7.3"
  }
 },
 "nbformat": 4,
 "nbformat_minor": 2
}
