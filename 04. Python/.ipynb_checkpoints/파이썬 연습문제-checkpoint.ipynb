{
 "cells": [
  {
   "cell_type": "markdown",
   "metadata": {},
   "source": [
    "### 2. 반복문"
   ]
  },
  {
   "cell_type": "code",
   "execution_count": 23,
   "metadata": {},
   "outputs": [
    {
     "name": "stdout",
     "output_type": "stream",
     "text": [
      "[1, 2, 3, 4, 5]\n",
      "*\n",
      "**\n",
      "***\n",
      "****\n",
      "*****\n",
      "*    \n",
      " *   \n",
      "  *  \n",
      "   * \n",
      "    *\n",
      "    *\n",
      "   *\n",
      "  *\n",
      " *\n",
      "*\n",
      "*\n",
      "***\n",
      "*****\n",
      "*******\n"
     ]
    }
   ],
   "source": [
    "# 2. 별그리기\n",
    "\n",
    "print(list(range(1,6)))\n",
    "\n",
    "for i in range(1,6):\n",
    "    for k in range(i):\n",
    "        print('*',end='')\n",
    "    print()\n",
    "\n",
    "for i in range(5):\n",
    "    for k in range(5):\n",
    "        if k == i:\n",
    "            print('*',end='')\n",
    "        else:\n",
    "            print(' ',end='')\n",
    "    print()\n",
    "\n",
    "for i in reversed(range(5)):\n",
    "    for k in range(i):\n",
    "        print(' ',end='')\n",
    "    print('*')\n",
    "\n",
    "    \n",
    "\n",
    "for i in range(1,8,2):\n",
    "    for k in range(i):\n",
    "        print('*',end='')\n",
    "    print()\n"
   ]
  },
  {
   "cell_type": "code",
   "execution_count": 33,
   "metadata": {
    "scrolled": false
   },
   "outputs": [
    {
     "name": "stdout",
     "output_type": "stream",
     "text": [
      "   \n",
      "  \n",
      " \n",
      "*\n",
      "***\n",
      "*****\n",
      "*******\n"
     ]
    }
   ],
   "source": [
    "for t in range(3,0,-1):\n",
    "    for a in range(t):\n",
    "        print(' ',end='')\n",
    "    print()\n",
    "    \n",
    "for i in range(1,8,2):\n",
    "    for k in range(i):\n",
    "        print('*',end='')\n",
    "    print()\n"
   ]
  }
 ],
 "metadata": {
  "kernelspec": {
   "display_name": "Python 3",
   "language": "python",
   "name": "python3"
  },
  "language_info": {
   "codemirror_mode": {
    "name": "ipython",
    "version": 3
   },
   "file_extension": ".py",
   "mimetype": "text/x-python",
   "name": "python",
   "nbconvert_exporter": "python",
   "pygments_lexer": "ipython3",
   "version": "3.7.3"
  }
 },
 "nbformat": 4,
 "nbformat_minor": 2
}
