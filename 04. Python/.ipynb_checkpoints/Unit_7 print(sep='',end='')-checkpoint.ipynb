{
 "cells": [
  {
   "cell_type": "markdown",
   "metadata": {},
   "source": [
    "# Unit7: Print(sep=\",end='')"
   ]
  },
  {
   "cell_type": "markdown",
   "metadata": {},
   "source": [
    "### 1. sep로 구분하기 "
   ]
  },
  {
   "cell_type": "code",
   "execution_count": 1,
   "metadata": {},
   "outputs": [
    {
     "name": "stdout",
     "output_type": "stream",
     "text": [
      "1\n",
      "2\n",
      "3\n",
      "1,2,3\n",
      "helloworld\n",
      "hello\n",
      "world\n",
      "1992-2-28\n"
     ]
    }
   ],
   "source": [
    "print('1\\n2\\n3')\n",
    "print(1,2,3, sep=',')\n",
    "print('hello','world', sep='')\n",
    "print('hello','world', sep='\\n')\n",
    "print(1992,2,28,sep='-')  # 이런식으로 문자도 넣을 수 있다."
   ]
  },
  {
   "cell_type": "markdown",
   "metadata": {},
   "source": [
    "### 2. end사용하기 "
   ]
  },
  {
   "cell_type": "code",
   "execution_count": 2,
   "metadata": {},
   "outputs": [
    {
     "name": "stdout",
     "output_type": "stream",
     "text": [
      "12,3\n"
     ]
    }
   ],
   "source": [
    "print(1,end='')    # 띄어쓰기도 통한다.\n",
    "print(2,end=',')\n",
    "print(3)"
   ]
  },
  {
   "cell_type": "markdown",
   "metadata": {},
   "source": [
    "### 연습문제 "
   ]
  },
  {
   "cell_type": "code",
   "execution_count": 3,
   "metadata": {},
   "outputs": [
    {
     "name": "stdout",
     "output_type": "stream",
     "text": [
      "2019/7/15 14:42:59\n"
     ]
    }
   ],
   "source": [
    "# 다음 소스 코드를 완성하여 날짜와 시간이 출력되게 만드세요.\n",
    "year  = 2019\n",
    "month = 7\n",
    "day   = 15\n",
    "hour  = 14\n",
    "minute= 42\n",
    "second= 59\n",
    "\n",
    "print(year,month,day,sep='/', end=' ')\n",
    "print(hour,minute,second, sep=':')"
   ]
  }
 ],
 "metadata": {
  "kernelspec": {
   "display_name": "Python 3",
   "language": "python",
   "name": "python3"
  },
  "language_info": {
   "codemirror_mode": {
    "name": "ipython",
    "version": 3
   },
   "file_extension": ".py",
   "mimetype": "text/x-python",
   "name": "python",
   "nbconvert_exporter": "python",
   "pygments_lexer": "ipython3",
   "version": "3.7.3"
  }
 },
 "nbformat": 4,
 "nbformat_minor": 2
}
