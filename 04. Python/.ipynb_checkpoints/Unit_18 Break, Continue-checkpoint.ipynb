{
 "cells": [
  {
   "cell_type": "markdown",
   "metadata": {},
   "source": [
    "# Unit18: Break, Countinue로 반복문 제어하기"
   ]
  },
  {
   "cell_type": "markdown",
   "metadata": {},
   "source": [
    "### 1. Break (while / for)"
   ]
  },
  {
   "cell_type": "code",
   "execution_count": null,
   "metadata": {},
   "outputs": [],
   "source": [
    "# break    : 제어흐름 중단\n",
    "# Continue : 제어프름 유지, 코드 실행만 건너뜀"
   ]
  },
  {
   "cell_type": "code",
   "execution_count": null,
   "metadata": {
    "scrolled": true
   },
   "outputs": [],
   "source": [
    "# while\n",
    "i = 0\n",
    "while True:     # 무한 루프\n",
    "    print(i,end=' ')\n",
    "    i += 1\n",
    "    if i == 10:\n",
    "        break\n",
    "\n",
    "print('\\n')\n",
    "        \n",
    "# for\n",
    "for i in range(1000):\n",
    "    print(i,end=' ')\n",
    "    i += 1\n",
    "    if i == 10:\n",
    "        break"
   ]
  },
  {
   "cell_type": "markdown",
   "metadata": {},
   "source": [
    "### 2. Continue (while / for)"
   ]
  },
  {
   "cell_type": "code",
   "execution_count": null,
   "metadata": {},
   "outputs": [],
   "source": [
    "#while\n",
    "i = 0\n",
    "while i < 10:        # i가 100보다 작을 떄 반복, 0부터 99까지 증가하면서 100번 반복.\n",
    "    i += 1\n",
    "    if i % 2 == 0:   # 만일 짝수(참)이면 print를 건너뛰고, 홀수(거짓)이면 print를 한다.\n",
    "        continue     # 아래 코드를 실행하지 않고 건너뜀\n",
    "    print(i,end=' ')\n",
    "\n",
    "print('\\n')\n",
    "\n",
    "# for\n",
    "for i in range(10):\n",
    "    if i % 2 == 0:\n",
    "        continue    # loop 원위치로 돌아간다.\n",
    "    print(i,end=' ')"
   ]
  },
  {
   "cell_type": "markdown",
   "metadata": {},
   "source": [
    "### 3. 입력한 횟수만큼 반복하기"
   ]
  },
  {
   "cell_type": "code",
   "execution_count": null,
   "metadata": {},
   "outputs": [],
   "source": [
    "button = int(input())\n",
    "\n",
    "i = 1\n",
    "while True:\n",
    "    print(i,end=' ')\n",
    "    i += 2\n",
    "    if i >= button:\n",
    "        break\n",
    "\n",
    "print('\\n')\n",
    "\n",
    "for i in range(button+1):  # 0부터 증가하니까 마지막 숫자를 포함하려면 +1\n",
    "    if i % 2 == 0:\n",
    "        continue\n",
    "    print(i,end=' ')"
   ]
  },
  {
   "cell_type": "markdown",
   "metadata": {},
   "source": [
    "### #연습문제"
   ]
  },
  {
   "cell_type": "code",
   "execution_count": 3,
   "metadata": {},
   "outputs": [
    {
     "name": "stdout",
     "output_type": "stream",
     "text": [
      "3 13 23 33 43 53 63 73 "
     ]
    }
   ],
   "source": [
    "i = 0\n",
    "while True:\n",
    "    if i % 10 != 3:\n",
    "        i += 1\n",
    "        continue\n",
    "    if i > 73:\n",
    "        break\n",
    "    print(i,end=' ')\n",
    "    i += 1"
   ]
  },
  {
   "cell_type": "markdown",
   "metadata": {},
   "source": [
    "### #심사문제"
   ]
  },
  {
   "cell_type": "code",
   "execution_count": 1,
   "metadata": {},
   "outputs": [
    {
     "name": "stdout",
     "output_type": "stream",
     "text": [
      "1 20\n",
      "1 2 4 5 6 7 8 9 10 11 12 14 15 16 17 18 19 20 "
     ]
    }
   ],
   "source": [
    "start, stop = map(int, input().split())\n",
    " \n",
    "i = start\n",
    "\n",
    "while True:\n",
    "    if i % 10 == 3:\n",
    "        i += 1\n",
    "        continue\n",
    "    if i > stop:\n",
    "        break\n",
    "    print(i,end=' ')\n",
    "    i += 1"
   ]
  }
 ],
 "metadata": {
  "kernelspec": {
   "display_name": "Python 3",
   "language": "python",
   "name": "python3"
  },
  "language_info": {
   "codemirror_mode": {
    "name": "ipython",
    "version": 3
   },
   "file_extension": ".py",
   "mimetype": "text/x-python",
   "name": "python",
   "nbconvert_exporter": "python",
   "pygments_lexer": "ipython3",
   "version": "3.7.3"
  }
 },
 "nbformat": 4,
 "nbformat_minor": 2
}
