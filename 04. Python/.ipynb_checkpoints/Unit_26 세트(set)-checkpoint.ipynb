{
 "cells": [
  {
   "cell_type": "markdown",
   "metadata": {},
   "source": [
    "# Unit26: 세트 사용하기"
   ]
  },
  {
   "cell_type": "markdown",
   "metadata": {},
   "source": [
    "### 1. 세트 만들기"
   ]
  },
  {
   "cell_type": "code",
   "execution_count": null,
   "metadata": {},
   "outputs": [],
   "source": [
    "# 1. set는 순서가 정해져 있지 않기 때문에 출력할 때마다 순서가 달라진다.\n",
    "# 2. 중복된 것은 하나만 출력한다."
   ]
  },
  {
   "cell_type": "code",
   "execution_count": 16,
   "metadata": {},
   "outputs": [
    {
     "name": "stdout",
     "output_type": "stream",
     "text": [
      "<class 'dict'>\n",
      "<class 'set'>\n",
      "{'안', '녕', '세', '하', '요'}\n",
      "{'cherry', 'pineapple', 'orange', 'grape', 'strawberry'} \n",
      " <class 'set'>\n",
      "{'cherry', 'orange'}\n"
     ]
    }
   ],
   "source": [
    "# 빈세트 만들기\n",
    "a = {}\n",
    "print(type(a))\n",
    "a = set()\n",
    "print(type(a))\n",
    "\n",
    "print(set('안녕하세요')) #1\n",
    "\n",
    "fruits = {'strawberry','grape','orange','pineapple','cherry'}\n",
    "print(fruits,'\\n',type(fruits)) #1\n",
    "\n",
    "fruits2 = {'orange','orange','cherry'}\n",
    "print(fruits2) #2"
   ]
  },
  {
   "cell_type": "markdown",
   "metadata": {},
   "source": [
    "### 2. 집합 연산 사용하기"
   ]
  },
  {
   "cell_type": "code",
   "execution_count": null,
   "metadata": {},
   "outputs": [],
   "source": [
    "# 합집합      Union                - 모든 숫자에서 중복은 제거한다.\n",
    "# 교집합      Intersection         - 공통 숫자\n",
    "# 차집합      Difference           - a-b\n",
    "# 대칭차집합  symmetric difference - (a-b) + (b-a)\n",
    "# 부분집합    subset\n",
    "# 진 부분집합 proper subset\n",
    "# 상위집합    superset\n",
    "# 진 상위집합 proter superset"
   ]
  },
  {
   "cell_type": "code",
   "execution_count": 29,
   "metadata": {
    "scrolled": false
   },
   "outputs": [
    {
     "name": "stdout",
     "output_type": "stream",
     "text": [
      "{1, 2, 3, 4, 5, 6}\n",
      "{1, 2, 3, 4, 5, 6}\n",
      "{3, 4}\n",
      "{3, 4}\n",
      "{1, 2}\n",
      "{1, 2}\n",
      "{1, 2, 5, 6}\n",
      "{1, 2, 5, 6}\n",
      "False\n",
      "False\n",
      "False\n"
     ]
    }
   ],
   "source": [
    "a = {1,2,3,4}\n",
    "b = {3,4,5,6}\n",
    "# 1 합집합\n",
    "print(a | b)\n",
    "print(set.union(a,b))\n",
    "\n",
    "# 2 교집합\n",
    "print(a & b)\n",
    "print(set.intersection(a,b))\n",
    "\n",
    "# 3 차집합\n",
    "print(a - b)\n",
    "print(set.difference(a,b))\n",
    "\n",
    "# 4 대칭차집합\n",
    "print(a^b)\n",
    "print(set.symmetric_difference(a, b))\n",
    "\n",
    "# 5 부분집합\n",
    "print(a <= b)\n",
    "print(a.issubset(b))\n",
    "\n",
    "# 6 진 부분집합\n",
    "print(a < b)\n",
    "\n",
    "# 7 상위집합\n",
    "\n",
    "# 8 진 상위집합"
   ]
  },
  {
   "cell_type": "markdown",
   "metadata": {},
   "source": [
    "### 3. 집합 연산 후 할당 연산자 사용하기."
   ]
  },
  {
   "cell_type": "code",
   "execution_count": null,
   "metadata": {},
   "outputs": [],
   "source": []
  },
  {
   "cell_type": "code",
   "execution_count": 26,
   "metadata": {},
   "outputs": [
    {
     "name": "stdout",
     "output_type": "stream",
     "text": [
      "{1, 2, 3, 4}\n",
      "{1, 2, 3, 4, 5}\n"
     ]
    }
   ],
   "source": [
    "print({1,2,3} | {4})\n",
    "\n",
    "a = {1,2,3,4}\n",
    "a = a | {5}\n",
    "print(a)"
   ]
  },
  {
   "cell_type": "markdown",
   "metadata": {},
   "source": [
    "### 4. 세트 조작하기(추가 .add / 삭제 .remove .discard .pop .clear)"
   ]
  },
  {
   "cell_type": "code",
   "execution_count": null,
   "metadata": {},
   "outputs": [],
   "source": []
  },
  {
   "cell_type": "markdown",
   "metadata": {},
   "source": [
    "### 5. 반복문(for)로 세트의 요소를 출력하기."
   ]
  },
  {
   "cell_type": "code",
   "execution_count": null,
   "metadata": {},
   "outputs": [],
   "source": []
  }
 ],
 "metadata": {
  "kernelspec": {
   "display_name": "Python 3",
   "language": "python",
   "name": "python3"
  },
  "language_info": {
   "codemirror_mode": {
    "name": "ipython",
    "version": 3
   },
   "file_extension": ".py",
   "mimetype": "text/x-python",
   "name": "python",
   "nbconvert_exporter": "python",
   "pygments_lexer": "ipython3",
   "version": "3.7.3"
  }
 },
 "nbformat": 4,
 "nbformat_minor": 2
}
