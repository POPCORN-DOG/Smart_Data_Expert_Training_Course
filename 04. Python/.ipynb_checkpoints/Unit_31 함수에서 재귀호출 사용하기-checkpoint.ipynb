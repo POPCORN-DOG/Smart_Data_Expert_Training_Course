{
 "cells": [
  {
   "cell_type": "markdown",
   "metadata": {},
   "source": [
    "# Unit31: 함수에서 재귀호출 사용하기"
   ]
  },
  {
   "cell_type": "code",
   "execution_count": null,
   "metadata": {
    "scrolled": true
   },
   "outputs": [],
   "source": [
    "def hello():\n",
    "    print('Hello,world!')   # 무한루프 발생 (1000개까지 정해져있음)\n",
    "    hello()\n",
    "\n",
    "hello()"
   ]
  },
  {
   "cell_type": "markdown",
   "metadata": {},
   "source": [
    "###  재귀호출에 종료 조건 만들기"
   ]
  },
  {
   "cell_type": "code",
   "execution_count": 10,
   "metadata": {},
   "outputs": [
    {
     "name": "stdout",
     "output_type": "stream",
     "text": [
      "Hello,world! 5\n",
      "Hello,world! 4\n",
      "Hello,world! 3\n",
      "Hello,world! 2\n",
      "Hello,world! 1\n"
     ]
    },
    {
     "data": {
      "text/plain": [
       "13"
      ]
     },
     "execution_count": 10,
     "metadata": {},
     "output_type": "execute_result"
    }
   ],
   "source": [
    "def hello(count):\n",
    "    if count == 0:\n",
    "        return\n",
    "    print('Hello,world!',count)\n",
    "    count -= 1   # count를 1감소시킨 뒤\n",
    "    hello(count) # 다시 hello를 넣음\n",
    "\n",
    "hello(5)\n",
    "\n",
    "def factorial(n):\n",
    "    if n == 1:       # n이 1일 때\n",
    "        return 1     # 1을 반환하고 재귀호출을 끝냄\n",
    "    return n * factorial(n-1) # n과 factorial 함수에 n-1을 넣어서 반환된 값을 곱함.\n",
    "\n",
    "factorial(5)"
   ]
  },
  {
   "cell_type": "markdown",
   "metadata": {},
   "source": [
    "### 등차수열"
   ]
  },
  {
   "cell_type": "code",
   "execution_count": 1,
   "metadata": {},
   "outputs": [
    {
     "data": {
      "text/plain": [
       "13"
      ]
     },
     "execution_count": 1,
     "metadata": {},
     "output_type": "execute_result"
    }
   ],
   "source": [
    "# 등차가 3인 5번째 수열의 값은 얼마인가.\n",
    "def ari_seq(n,d):\n",
    "    if n == 1:\n",
    "        return 1\n",
    "    return ari_seq(n-1,d) + d\n",
    "\n",
    "ari_seq(5,3)\n",
    "\n",
    "# 등비수열도 구해보자 피보나치(fibonacci) 수열도 구해보자\n",
    "# fibonacci(n-a) + fibo(n-2) 단, f(1) =1, f(0)=0"
   ]
  }
 ],
 "metadata": {
  "kernelspec": {
   "display_name": "Python 3",
   "language": "python",
   "name": "python3"
  },
  "language_info": {
   "codemirror_mode": {
    "name": "ipython",
    "version": 3
   },
   "file_extension": ".py",
   "mimetype": "text/x-python",
   "name": "python",
   "nbconvert_exporter": "python",
   "pygments_lexer": "ipython3",
   "version": "3.7.3"
  }
 },
 "nbformat": 4,
 "nbformat_minor": 2
}
