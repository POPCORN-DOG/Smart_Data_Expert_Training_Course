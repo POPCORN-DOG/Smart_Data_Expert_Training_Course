{
 "cells": [
  {
   "cell_type": "markdown",
   "metadata": {},
   "source": [
    "# [시리즈 클래스]\n",
    "- https://datascienceschool.net/view-notebook/ee0a5679dd574b94b55193690992f850/\n",
    "\n",
    "시리즈 클래스는 NumPy에서 제공하는 1차원 배열과 비슷하지만 각 데이터의 의미를 표시하는 인덱스(index)를 붙일 수 있다. 데이터 자체는 값(value)라고 한다. <br>\n",
    "`시리즈 = 값(value) + 인덱스(index)`"
   ]
  },
  {
   "cell_type": "markdown",
   "metadata": {},
   "source": [
    "# <span style=\"color:teal\"> **1. 시리즈 생성**</span>\n",
    "데이터를 리스트나 1차원 배열 형식으로 Series 클래스 생성자에 넣어주면 시리즈 클래스 객체를 만들 수 있다. 인덱스의 길이는 데이터의 길이와 같아야 한다. 다음 예에서 이 \"서울\", \"부산\" 등의 문자열이 인덱스의 값이다. 인덱스의 값을 인덱스 라벨(label)이라고도 한다. 인덱스 라벨은 문자열 뿐 아니라 날짜, 시간, 정수 등도 가능하다.\n",
    "\n",
    "다음 예제는 각 도시의 2015년 인구 데이터를 시리즈로 만든 것이다."
   ]
  },
  {
   "cell_type": "code",
   "execution_count": 2,
   "metadata": {},
   "outputs": [],
   "source": [
    "import numpy as np\n",
    "import pandas as pd"
   ]
  },
  {
   "cell_type": "code",
   "execution_count": 4,
   "metadata": {
    "scrolled": false
   },
   "outputs": [
    {
     "data": {
      "text/plain": [
       "서울    9904312\n",
       "부산    3448737\n",
       "인천    2890451\n",
       "대구    2466052\n",
       "dtype: int64"
      ]
     },
     "execution_count": 4,
     "metadata": {},
     "output_type": "execute_result"
    }
   ],
   "source": [
    "s = pd.Series([9904312, 3448737, 2890451, 2466052],\n",
    "              index=[\"서울\", \"부산\", \"인천\", \"대구\"])\n",
    "s"
   ]
  },
  {
   "cell_type": "markdown",
   "metadata": {},
   "source": [
    "- <span style=\"color:deeppink\"> **만약 인덱스를 지정하지 않고 시리즈를 만들면 시리즈의 인덱스는 0부터 시작하는 정수값이 된다.** </span>"
   ]
  },
  {
   "cell_type": "code",
   "execution_count": 7,
   "metadata": {
    "scrolled": true
   },
   "outputs": [
    {
     "name": "stdout",
     "output_type": "stream",
     "text": [
      "0    10\n",
      "1    11\n",
      "2    12\n",
      "3    13\n",
      "dtype: int64\n",
      "Index(['서울', '부산', '인천', '대구'], dtype='object')\n",
      "[9904312 3448737 2890451 2466052]\n"
     ]
    }
   ],
   "source": [
    "print(pd.Series(range(10, 14)))\n",
    "print(s.index)\n",
    "print(s.values)"
   ]
  },
  {
   "cell_type": "markdown",
   "metadata": {},
   "source": [
    "- <span style=\"color:deeppink\"> **name 속성을 이용하여 시리즈 데이터에 이름을 붙일 수 있다.<br> \n",
    "index.name 속성으로 시리즈의 인덱스에도 이름을 붙일 수 있다.** </span>"
   ]
  },
  {
   "cell_type": "code",
   "execution_count": 9,
   "metadata": {
    "scrolled": true
   },
   "outputs": [
    {
     "data": {
      "text/plain": [
       "도시\n",
       "서울    9904312\n",
       "부산    3448737\n",
       "인천    2890451\n",
       "대구    2466052\n",
       "Name: 인구, dtype: int64"
      ]
     },
     "execution_count": 9,
     "metadata": {},
     "output_type": "execute_result"
    }
   ],
   "source": [
    "s.name = \"인구\"\n",
    "s.index.name = \"도시\"\n",
    "s"
   ]
  },
  {
   "cell_type": "markdown",
   "metadata": {},
   "source": [
    "# <span style=\"color:teal\"> **2. 시리즈 연산** <span>\n",
    "- NumPy 배열처럼 시리즈도 벡터화 연산을 할 수 있다.\n",
    "- 다만 연산은 시리즈의 값(value)에만 적용되며 인덱스 값(index)은 변하지 않는다.\n",
    "\n",
    "예를 들어 인구 숫자를 백만 단위로 만들기 위해 시리즈 객체를 1,000,000 으로 나누어도 인덱스 라벨에는 영향을 미치지 않는 것을 볼 수 있다."
   ]
  },
  {
   "cell_type": "code",
   "execution_count": 8,
   "metadata": {
    "scrolled": true
   },
   "outputs": [
    {
     "data": {
      "text/plain": [
       "도시\n",
       "서울    9.904312\n",
       "부산    3.448737\n",
       "인천    2.890451\n",
       "대구    2.466052\n",
       "Name: 인구, dtype: float64"
      ]
     },
     "execution_count": 8,
     "metadata": {},
     "output_type": "execute_result"
    }
   ],
   "source": [
    "s / 1000000"
   ]
  },
  {
   "cell_type": "markdown",
   "metadata": {},
   "source": [
    "# <span style=\"color:teal\"> **3. 시리즈 인덱싱** <span>\n",
    "- 시리즈는 NumPy 배열에서 가능한 인덱스 방법 이외에도 인덱스 라벨을 이용한 인덱싱도 할 수 있다.\n",
    "- 배열 인덱싱이나 인덱스 라벨을 이용한 슬라이싱(slicing)도 가능하다."
   ]
  },
  {
   "cell_type": "code",
   "execution_count": 9,
   "metadata": {
    "scrolled": true
   },
   "outputs": [
    {
     "data": {
      "text/plain": [
       "(3448737, 3448737)"
      ]
     },
     "execution_count": 9,
     "metadata": {},
     "output_type": "execute_result"
    }
   ],
   "source": [
    "s[1], s[\"부산\"]"
   ]
  },
  {
   "cell_type": "code",
   "execution_count": 16,
   "metadata": {},
   "outputs": [
    {
     "data": {
      "text/plain": [
       "(도시\n",
       " 서울    9904312\n",
       " Name: 인구, dtype: int64, 도시\n",
       " 서울    9904312\n",
       " Name: 인구, dtype: int64)"
      ]
     },
     "execution_count": 16,
     "metadata": {},
     "output_type": "execute_result"
    }
   ],
   "source": [
    "s[[0]], s[['서울']]"
   ]
  },
  {
   "cell_type": "markdown",
   "metadata": {},
   "source": [
    "- <span style=\"color:deeppink\"> **배열인덱싱을 하면 자료의 순서를 바꾸거나 특정한 자료만 선택할 수 있다.** </span>"
   ]
  },
  {
   "cell_type": "code",
   "execution_count": 17,
   "metadata": {
    "scrolled": true
   },
   "outputs": [
    {
     "data": {
      "text/plain": [
       "도시\n",
       "서울    9904312\n",
       "대구    2466052\n",
       "인천    2890451\n",
       "Name: 인구, dtype: int64"
      ]
     },
     "execution_count": 17,
     "metadata": {},
     "output_type": "execute_result"
    }
   ],
   "source": [
    "s[[0,3,2]]"
   ]
  },
  {
   "cell_type": "code",
   "execution_count": 14,
   "metadata": {},
   "outputs": [
    {
     "data": {
      "text/plain": [
       "도시\n",
       "서울    9904312\n",
       "대구    2466052\n",
       "부산    3448737\n",
       "Name: 인구, dtype: int64"
      ]
     },
     "execution_count": 14,
     "metadata": {},
     "output_type": "execute_result"
    }
   ],
   "source": [
    "s[[\"서울\", \"대구\", \"부산\"]]"
   ]
  },
  {
   "cell_type": "code",
   "execution_count": 15,
   "metadata": {
    "scrolled": true
   },
   "outputs": [
    {
     "data": {
      "text/plain": [
       "도시\n",
       "부산    3448737\n",
       "인천    2890451\n",
       "Name: 인구, dtype: int64"
      ]
     },
     "execution_count": 15,
     "metadata": {},
     "output_type": "execute_result"
    }
   ],
   "source": [
    "s[(250e4 < s) & (s < 500e4)]"
   ]
  },
  {
   "cell_type": "markdown",
   "metadata": {},
   "source": [
    "- <span style=\"color:deeppink\"> **문자열 라벨을 이용한 슬라이싱을 하는 경우에는 <br> 콜론(:) 기호 뒤에 오는 인덱스에 해당하는 값도 결과에 포함되므로 주의해야 한다.**</span>"
   ]
  },
  {
   "cell_type": "code",
   "execution_count": 16,
   "metadata": {},
   "outputs": [
    {
     "data": {
      "text/plain": [
       "도시\n",
       "부산    3448737\n",
       "인천    2890451\n",
       "Name: 인구, dtype: int64"
      ]
     },
     "execution_count": 16,
     "metadata": {},
     "output_type": "execute_result"
    }
   ],
   "source": [
    "s[1:3]  # 숫자 - 끝나기 전까지"
   ]
  },
  {
   "cell_type": "code",
   "execution_count": 17,
   "metadata": {},
   "outputs": [
    {
     "data": {
      "text/plain": [
       "도시\n",
       "부산    3448737\n",
       "인천    2890451\n",
       "대구    2466052\n",
       "Name: 인구, dtype: int64"
      ]
     },
     "execution_count": 17,
     "metadata": {},
     "output_type": "execute_result"
    }
   ],
   "source": [
    "s[\"부산\":\"대구\"] # 글자 - 해당 index까지"
   ]
  },
  {
   "cell_type": "markdown",
   "metadata": {},
   "source": [
    "- <span style='color:deeppink'> **만약 라벨 값이 영문 문자열인 경우에는 마치 속성인것처럼 점(.)을 이용하여 접근할 수도 있다.**<span>"
   ]
  },
  {
   "cell_type": "code",
   "execution_count": 27,
   "metadata": {
    "scrolled": false
   },
   "outputs": [
    {
     "name": "stdout",
     "output_type": "stream",
     "text": [
      "a    0\n",
      "b    1\n",
      "c    2\n",
      "dtype: int64\n",
      "\n",
      "0\n",
      "\n",
      "1\n"
     ]
    }
   ],
   "source": [
    "s0 = pd.Series(range(3), index=[\"a\", \"b\", \"c\"])\n",
    "print(s0, s0.a , s0.b ,sep='\\n\\n') "
   ]
  },
  {
   "cell_type": "markdown",
   "metadata": {},
   "source": [
    "# <span style=\"color:teal\"> **4. 시리즈와 딕셔너리 자료형** </span>\n",
    "시리즈 객체는 라벨 값에 의해 인덱싱이 가능하므로 실질적으로 라벨 값을 키(key)로 가지는 딕셔너리 자료형과 같다. \n",
    "- 따라서 딕셔너리 자료형에서 제공하는 in 연산도 가능하고\n",
    "- items 메서드를 사용하면 for 루프를 통해 각 원소의 키(key)와 값(value)을 접근할 수도 있다."
   ]
  },
  {
   "cell_type": "code",
   "execution_count": 23,
   "metadata": {
    "scrolled": true
   },
   "outputs": [
    {
     "data": {
      "text/plain": [
       "(True, False)"
      ]
     },
     "execution_count": 23,
     "metadata": {},
     "output_type": "execute_result"
    }
   ],
   "source": [
    "\"서울\" in s,\"대전\" in s"
   ]
  },
  {
   "cell_type": "code",
   "execution_count": 28,
   "metadata": {
    "scrolled": true
   },
   "outputs": [
    {
     "name": "stdout",
     "output_type": "stream",
     "text": [
      "서울 = 9,904,312\n",
      "부산 = 3,448,737\n",
      "인천 = 2,890,451\n",
      "대구 = 2,466,052\n"
     ]
    }
   ],
   "source": [
    "for k, v in s.items():\n",
    "    print(\"%s = %s\" % (k, format(v,',')))"
   ]
  },
  {
   "cell_type": "markdown",
   "metadata": {},
   "source": [
    "- <span style='color:deeppink'> **또 딕셔너리 객체에서 시리즈를 만들 수도 있다.** </span> \n",
    "- 이번에는 2010년의 인구 자료를 s2라는 이름의 시리즈로 만들어 보자. 이 데이터에는 대구의 인구 자료는 없지만 대신 대전의 인구 자료가 포함되어 있다."
   ]
  },
  {
   "cell_type": "code",
   "execution_count": 30,
   "metadata": {},
   "outputs": [
    {
     "data": {
      "text/plain": [
       "서울    9631482\n",
       "부산    3393191\n",
       "인천    2632035\n",
       "대전    1490158\n",
       "dtype: int64"
      ]
     },
     "execution_count": 30,
     "metadata": {},
     "output_type": "execute_result"
    }
   ],
   "source": [
    "s2 = pd.Series({\"서울\": 9631482, \"부산\": 3393191, \"인천\": 2632035, \"대전\": 1490158})\n",
    "s2"
   ]
  },
  {
   "cell_type": "markdown",
   "metadata": {},
   "source": [
    "- <span style='color:deeppink'> **딕셔너리의 원소는 순서를 가지지 않으므로 시리즈의 데이터도 순서가 보장되지 않는다. <br>만약 순서를 정하고 싶다면 인덱스를 리스트로 지정해야 한다.**</span>"
   ]
  },
  {
   "cell_type": "code",
   "execution_count": 32,
   "metadata": {},
   "outputs": [
    {
     "data": {
      "text/plain": [
       "부산    3393191\n",
       "서울    9631482\n",
       "인천    2632035\n",
       "대전    1490158\n",
       "dtype: int64"
      ]
     },
     "execution_count": 32,
     "metadata": {},
     "output_type": "execute_result"
    }
   ],
   "source": [
    "s2 = pd.Series({\"서울\": 9631482, \"부산\": 3393191, \"인천\": 2632035, \"대전\": 1490158},\n",
    "               index=[\"부산\", \"서울\", \"인천\", \"대전\"])\n",
    "s2"
   ]
  },
  {
   "cell_type": "markdown",
   "metadata": {},
   "source": [
    "# <span style='color:teal'> 5. 인덱스 기반 연산 </span>\n",
    "이번에는 2015년도와 2010년의 인구 증가를 계산해 보자. <br> 두 개의 시리즈의 차이를 구하면 된다.<br>두 시리즈에 대해 연산을 하는 경우 인덱스가 같은 데이터에 대해서만 차이를 구한다."
   ]
  },
  {
   "cell_type": "code",
   "execution_count": 33,
   "metadata": {},
   "outputs": [
    {
     "data": {
      "text/plain": [
       "대구         NaN\n",
       "대전         NaN\n",
       "부산     55546.0\n",
       "서울    272830.0\n",
       "인천    258416.0\n",
       "dtype: float64"
      ]
     },
     "execution_count": 33,
     "metadata": {},
     "output_type": "execute_result"
    }
   ],
   "source": [
    "ds = s - s2\n",
    "ds"
   ]
  },
  {
   "cell_type": "code",
   "execution_count": 34,
   "metadata": {
    "scrolled": false
   },
   "outputs": [
    {
     "name": "stdout",
     "output_type": "stream",
     "text": [
      "도시\n",
      "서울    9904312\n",
      "부산    3448737\n",
      "인천    2890451\n",
      "대구    2466052\n",
      "Name: 인구, dtype: int64\n",
      "부산    3393191\n",
      "서울    9631482\n",
      "인천    2632035\n",
      "대전    1490158\n",
      "dtype: int64\n"
     ]
    },
    {
     "data": {
      "text/plain": [
       "array([ 6511121, -6182745,   258416,   975894], dtype=int64)"
      ]
     },
     "execution_count": 34,
     "metadata": {},
     "output_type": "execute_result"
    }
   ],
   "source": [
    "print(s)\n",
    "print(s2)\n",
    "s.values - s2.values # 인덱스와 상관없이 빼기"
   ]
  },
  {
   "cell_type": "markdown",
   "metadata": {},
   "source": [
    "- <span style='color:deeppink'> **대구와 대전의 경우에는 2010년 자료와 2015년 자료가 모두 존재하지 않기 때문에 계산이 불가능하므로 <br> NaN(Not a Number)이라는 값을 가지게 된다.** </span>\n",
    "- <span style='color:deeppink'> **또한 NaN 값이 float 자료형에서만 가능하므로 다른 계산 결과도 모두 `float` 자료형이 되었다는 점에 주의한다. <br> NaN이 아닌 값을 구하려면 `notnull` 메서드를 사용한다.** </span>"
   ]
  },
  {
   "cell_type": "code",
   "execution_count": 35,
   "metadata": {
    "scrolled": true
   },
   "outputs": [
    {
     "data": {
      "text/plain": [
       "대구    False\n",
       "대전    False\n",
       "부산     True\n",
       "서울     True\n",
       "인천     True\n",
       "dtype: bool"
      ]
     },
     "execution_count": 35,
     "metadata": {},
     "output_type": "execute_result"
    }
   ],
   "source": [
    "ds.notnull()"
   ]
  },
  {
   "cell_type": "code",
   "execution_count": 36,
   "metadata": {
    "scrolled": true
   },
   "outputs": [
    {
     "data": {
      "text/plain": [
       "부산     55546.0\n",
       "서울    272830.0\n",
       "인천    258416.0\n",
       "dtype: float64"
      ]
     },
     "execution_count": 36,
     "metadata": {},
     "output_type": "execute_result"
    }
   ],
   "source": [
    "ds[ds.notnull()]"
   ]
  },
  {
   "cell_type": "markdown",
   "metadata": {},
   "source": [
    "- <span style='color:deeppink'> **인구 증가율(%)은 다음과 같이 구할 수 있다.** </span>"
   ]
  },
  {
   "cell_type": "code",
   "execution_count": 39,
   "metadata": {},
   "outputs": [
    {
     "name": "stdout",
     "output_type": "stream",
     "text": [
      "대구         NaN\n",
      "대전         NaN\n",
      "부산    1.636984\n",
      "서울    2.832690\n",
      "인천    9.818107\n",
      "dtype: float64\n",
      "부산    1.636984\n",
      "서울    2.832690\n",
      "인천    9.818107\n",
      "dtype: float64\n"
     ]
    }
   ],
   "source": [
    "rs = (s - s2) / s2 * 100\n",
    "print(rs)\n",
    "rs = rs[rs.notnull()]\n",
    "print(rs)"
   ]
  },
  {
   "cell_type": "markdown",
   "metadata": {},
   "source": [
    "# <span style='color:teal'>6. 데이터의 갱신, 추가, 삭제</span>\n",
    "인덱싱을 이용하면 딕셔너리처럼 데이터를 __갱신(update)__하거나 __추가(add)__할 수 있다."
   ]
  },
  {
   "cell_type": "code",
   "execution_count": 44,
   "metadata": {},
   "outputs": [
    {
     "data": {
      "text/plain": [
       "부산    1.630000\n",
       "서울    2.832690\n",
       "인천    9.818107\n",
       "dtype: float64"
      ]
     },
     "execution_count": 44,
     "metadata": {},
     "output_type": "execute_result"
    }
   ],
   "source": [
    "rs[\"부산\"] = 1.63 # rs 시리즈에 '부산' 추가 \n",
    "rs"
   ]
  },
  {
   "cell_type": "code",
   "execution_count": 45,
   "metadata": {
    "scrolled": true
   },
   "outputs": [
    {
     "data": {
      "text/plain": [
       "부산    1.630000\n",
       "서울    2.832690\n",
       "인천    9.818107\n",
       "대구    1.410000\n",
       "dtype: float64"
      ]
     },
     "execution_count": 45,
     "metadata": {},
     "output_type": "execute_result"
    }
   ],
   "source": [
    "rs[\"대구\"] = 1.41 # rs 시리즈에 '대구' 추가 \n",
    "rs"
   ]
  },
  {
   "cell_type": "markdown",
   "metadata": {},
   "source": [
    "데이터를 삭제할 때도 딕셔너리처럼 __del 명령__을 사용한다."
   ]
  },
  {
   "cell_type": "code",
   "execution_count": 46,
   "metadata": {
    "scrolled": false
   },
   "outputs": [
    {
     "data": {
      "text/plain": [
       "부산    1.630000\n",
       "인천    9.818107\n",
       "대구    1.410000\n",
       "dtype: float64"
      ]
     },
     "execution_count": 46,
     "metadata": {},
     "output_type": "execute_result"
    }
   ],
   "source": [
    "del rs[\"서울\"] # rs.pop('서울')과 같다\n",
    "rs"
   ]
  },
  {
   "cell_type": "code",
   "execution_count": null,
   "metadata": {},
   "outputs": [],
   "source": [
    "rs.pop('인천')  # 딕셔너리 삭제방법으로 시리즈 객체에서 '인천' 삭제 \n",
    "rs"
   ]
  }
 ],
 "metadata": {
  "kernelspec": {
   "display_name": "Python 3",
   "language": "python",
   "name": "python3"
  },
  "language_info": {
   "codemirror_mode": {
    "name": "ipython",
    "version": 3
   },
   "file_extension": ".py",
   "mimetype": "text/x-python",
   "name": "python",
   "nbconvert_exporter": "python",
   "pygments_lexer": "ipython3",
   "version": "3.7.3"
  }
 },
 "nbformat": 4,
 "nbformat_minor": 2
}
