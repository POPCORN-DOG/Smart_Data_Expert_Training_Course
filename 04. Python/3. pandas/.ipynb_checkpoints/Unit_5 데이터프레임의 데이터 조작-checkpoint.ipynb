{
 "cells": [
  {
   "cell_type": "markdown",
   "metadata": {},
   "source": [
    "# [데이터 프레임의 데이터 조작]"
   ]
  },
  {
   "cell_type": "markdown",
   "metadata": {},
   "source": [
    "- https://datascienceschool.net/view-notebook/aa62265f02fc429aa636ef343c3b1fda/\n",
    "\n",
    "Pandas는 NumPy의 2차원 배열에서 가능한 대부분의 데이터 처리가 가능하며 <br>추가로 데이터 처리 및 변환을 위한 다양한 함수와 메서드를 제공한다."
   ]
  },
  {
   "cell_type": "markdown",
   "metadata": {},
   "source": [
    "# 1. 데이터 갯수 세기\n",
    "가장 간단한 데이터 분석은 데이터의 갯수를 세는 것이다. count 메서드를 사용한다. NaN 값은 세지 않는다."
   ]
  },
  {
   "cell_type": "code",
   "execution_count": 4,
   "metadata": {},
   "outputs": [],
   "source": [
    "import numpy as np\n",
    "import pandas as pd"
   ]
  },
  {
   "cell_type": "code",
   "execution_count": 5,
   "metadata": {},
   "outputs": [
    {
     "data": {
      "text/plain": [
       "0    0.0\n",
       "1    1.0\n",
       "2    2.0\n",
       "3    NaN\n",
       "4    4.0\n",
       "5    5.0\n",
       "6    6.0\n",
       "7    7.0\n",
       "8    8.0\n",
       "9    9.0\n",
       "dtype: float64"
      ]
     },
     "execution_count": 5,
     "metadata": {},
     "output_type": "execute_result"
    }
   ],
   "source": [
    "s = pd.Series(range(10))\n",
    "s[3] = np.nan\n",
    "s"
   ]
  },
  {
   "cell_type": "code",
   "execution_count": 6,
   "metadata": {},
   "outputs": [
    {
     "data": {
      "text/plain": [
       "9"
      ]
     },
     "execution_count": 6,
     "metadata": {},
     "output_type": "execute_result"
    }
   ],
   "source": [
    "s.count() "
   ]
  },
  {
   "cell_type": "markdown",
   "metadata": {},
   "source": [
    "\n",
    "데이터프레임에서는 각 열마다 별도로 데이터 갯수를 센다. 데이터에서 값이 누락된 부분을 찾을 때 유용하다."
   ]
  },
  {
   "cell_type": "code",
   "execution_count": 7,
   "metadata": {},
   "outputs": [
    {
     "data": {
      "text/html": [
       "<div>\n",
       "<style scoped>\n",
       "    .dataframe tbody tr th:only-of-type {\n",
       "        vertical-align: middle;\n",
       "    }\n",
       "\n",
       "    .dataframe tbody tr th {\n",
       "        vertical-align: top;\n",
       "    }\n",
       "\n",
       "    .dataframe thead th {\n",
       "        text-align: right;\n",
       "    }\n",
       "</style>\n",
       "<table border=\"1\" class=\"dataframe\">\n",
       "  <thead>\n",
       "    <tr style=\"text-align: right;\">\n",
       "      <th></th>\n",
       "      <th>0</th>\n",
       "      <th>1</th>\n",
       "      <th>2</th>\n",
       "      <th>3</th>\n",
       "    </tr>\n",
       "  </thead>\n",
       "  <tbody>\n",
       "    <tr>\n",
       "      <th>0</th>\n",
       "      <td>0.0</td>\n",
       "      <td>0.0</td>\n",
       "      <td>3.0</td>\n",
       "      <td>2.0</td>\n",
       "    </tr>\n",
       "    <tr>\n",
       "      <th>1</th>\n",
       "      <td>3.0</td>\n",
       "      <td>0.0</td>\n",
       "      <td>2.0</td>\n",
       "      <td>1.0</td>\n",
       "    </tr>\n",
       "    <tr>\n",
       "      <th>2</th>\n",
       "      <td>3.0</td>\n",
       "      <td>2.0</td>\n",
       "      <td>4.0</td>\n",
       "      <td>NaN</td>\n",
       "    </tr>\n",
       "    <tr>\n",
       "      <th>3</th>\n",
       "      <td>4.0</td>\n",
       "      <td>3.0</td>\n",
       "      <td>4.0</td>\n",
       "      <td>2.0</td>\n",
       "    </tr>\n",
       "  </tbody>\n",
       "</table>\n",
       "</div>"
      ],
      "text/plain": [
       "     0    1    2    3\n",
       "0  0.0  0.0  3.0  2.0\n",
       "1  3.0  0.0  2.0  1.0\n",
       "2  3.0  2.0  4.0  NaN\n",
       "3  4.0  3.0  4.0  2.0"
      ]
     },
     "execution_count": 7,
     "metadata": {},
     "output_type": "execute_result"
    }
   ],
   "source": [
    "np.random.seed(2)\n",
    "df = pd.DataFrame(np.random.randint(5, size=(4, 4)), dtype=float)\n",
    "df.iloc[2, 3] = np.nan\n",
    "df"
   ]
  },
  {
   "cell_type": "code",
   "execution_count": 8,
   "metadata": {},
   "outputs": [
    {
     "data": {
      "text/plain": [
       "0    4\n",
       "1    4\n",
       "2    4\n",
       "3    3\n",
       "dtype: int64"
      ]
     },
     "execution_count": 8,
     "metadata": {},
     "output_type": "execute_result"
    }
   ],
   "source": [
    "df.count() # 열 단위의 시리즈를 묶어놓은것이다아~"
   ]
  },
  {
   "cell_type": "code",
   "execution_count": 10,
   "metadata": {},
   "outputs": [
    {
     "data": {
      "text/plain": [
       "survived       891\n",
       "pclass         891\n",
       "sex            891\n",
       "age            714\n",
       "sibsp          891\n",
       "parch          891\n",
       "fare           891\n",
       "embarked       889\n",
       "class          891\n",
       "who            891\n",
       "adult_male     891\n",
       "deck           203\n",
       "embark_town    889\n",
       "alive          891\n",
       "alone          891\n",
       "dtype: int64"
      ]
     },
     "execution_count": 10,
     "metadata": {},
     "output_type": "execute_result"
    }
   ],
   "source": [
    "# 연습문제\n",
    "import seaborn as sns\n",
    "titanic = sns.load_dataset(\"titanic\")\n",
    "titanic.count()"
   ]
  },
  {
   "cell_type": "markdown",
   "metadata": {},
   "source": [
    "# 2. 카테고리 값 세기\n",
    "- 시리즈의 값이 정수, 문자열, 카테고리 값인 경우에는 value_counts 메서드로 각각의 값이 나온 횟수를 셀 수 있다."
   ]
  },
  {
   "cell_type": "code",
   "execution_count": 30,
   "metadata": {
    "scrolled": true
   },
   "outputs": [
    {
     "data": {
      "text/plain": [
       "0     5\n",
       "1     3\n",
       "2     4\n",
       "3     0\n",
       "4     1\n",
       "5     3\n",
       "6     5\n",
       "7     0\n",
       "8     0\n",
       "9     1\n",
       "10    4\n",
       "11    5\n",
       "12    4\n",
       "13    1\n",
       "14    2\n",
       "15    4\n",
       "16    5\n",
       "17    2\n",
       "18    4\n",
       "19    3\n",
       "20    4\n",
       "21    2\n",
       "22    4\n",
       "23    5\n",
       "24    2\n",
       "25    4\n",
       "26    1\n",
       "27    1\n",
       "28    0\n",
       "29    5\n",
       "     ..\n",
       "70    3\n",
       "71    5\n",
       "72    4\n",
       "73    3\n",
       "74    5\n",
       "75    1\n",
       "76    3\n",
       "77    0\n",
       "78    0\n",
       "79    2\n",
       "80    2\n",
       "81    1\n",
       "82    3\n",
       "83    4\n",
       "84    2\n",
       "85    0\n",
       "86    0\n",
       "87    1\n",
       "88    1\n",
       "89    5\n",
       "90    3\n",
       "91    0\n",
       "92    0\n",
       "93    5\n",
       "94    5\n",
       "95    4\n",
       "96    5\n",
       "97    2\n",
       "98    4\n",
       "99    3\n",
       "Length: 100, dtype: int32"
      ]
     },
     "execution_count": 30,
     "metadata": {},
     "output_type": "execute_result"
    }
   ],
   "source": [
    "np.random.seed(1) # 시드로 난수 생성 초기값 지정\n",
    "s2 = pd.Series(np.random.randint(6, size=100)) # 0~5까지의 숫자를 100개\n",
    "s2"
   ]
  },
  {
   "cell_type": "code",
   "execution_count": 12,
   "metadata": {},
   "outputs": [
    {
     "data": {
      "text/plain": [
       "1    22\n",
       "0    18\n",
       "4    17\n",
       "5    16\n",
       "3    14\n",
       "2    13\n",
       "dtype: int64"
      ]
     },
     "execution_count": 12,
     "metadata": {},
     "output_type": "execute_result"
    }
   ],
   "source": [
    "s2.value_counts() # n(돗수)가 많은 순서대로 sorting되어 있음."
   ]
  },
  {
   "cell_type": "code",
   "execution_count": 15,
   "metadata": {},
   "outputs": [
    {
     "data": {
      "text/plain": [
       "3.0    2\n",
       "4.0    1\n",
       "0.0    1\n",
       "Name: 0, dtype: int64"
      ]
     },
     "execution_count": 15,
     "metadata": {},
     "output_type": "execute_result"
    }
   ],
   "source": [
    "df[0].value_counts()"
   ]
  },
  {
   "cell_type": "code",
   "execution_count": 16,
   "metadata": {},
   "outputs": [
    {
     "data": {
      "text/plain": [
       "3    491\n",
       "1    216\n",
       "2    184\n",
       "Name: pclass, dtype: int64"
      ]
     },
     "execution_count": 16,
     "metadata": {},
     "output_type": "execute_result"
    }
   ],
   "source": [
    "titanic['pclass'].value_counts() "
   ]
  },
  {
   "cell_type": "markdown",
   "metadata": {},
   "source": [
    "# 3. 정렬\n",
    "- 데이터를 정렬하려면 sort_index와 sort_values 메서드를 사용한다. sort_index는 인덱스 값을 기준으로,<br> sort_values는 데이터 값을 기준으로 정렬한다.\n",
    "\n",
    "- 앞에서 s2 시리즈의 각 데이터 값에 따른 데이터 갯수를 보기좋게 정렬하려면 다음처럼 sort_index를 적용한다."
   ]
  },
  {
   "cell_type": "code",
   "execution_count": 17,
   "metadata": {
    "scrolled": true
   },
   "outputs": [
    {
     "data": {
      "text/plain": [
       "0    18\n",
       "1    22\n",
       "2    13\n",
       "3    14\n",
       "4    17\n",
       "5    16\n",
       "dtype: int64"
      ]
     },
     "execution_count": 17,
     "metadata": {},
     "output_type": "execute_result"
    }
   ],
   "source": [
    "s2.value_counts().sort_index()"
   ]
  },
  {
   "cell_type": "markdown",
   "metadata": {},
   "source": [
    "- NaN값이 있는 경우에는 정렬하면 NaN값이 가장 나중으로 간다."
   ]
  },
  {
   "cell_type": "code",
   "execution_count": 18,
   "metadata": {
    "scrolled": false
   },
   "outputs": [
    {
     "data": {
      "text/plain": [
       "0    0.0\n",
       "1    1.0\n",
       "2    2.0\n",
       "4    4.0\n",
       "5    5.0\n",
       "6    6.0\n",
       "7    7.0\n",
       "8    8.0\n",
       "9    9.0\n",
       "3    NaN\n",
       "dtype: float64"
      ]
     },
     "execution_count": 18,
     "metadata": {},
     "output_type": "execute_result"
    }
   ],
   "source": [
    "s.sort_values()"
   ]
  },
  {
   "cell_type": "markdown",
   "metadata": {},
   "source": [
    "- 큰 수에서 작은 수로 반대 방향 정렬하려면 ascending=False 인수를 지정한다."
   ]
  },
  {
   "cell_type": "code",
   "execution_count": 19,
   "metadata": {},
   "outputs": [
    {
     "data": {
      "text/plain": [
       "9    9.0\n",
       "8    8.0\n",
       "7    7.0\n",
       "6    6.0\n",
       "5    5.0\n",
       "4    4.0\n",
       "2    2.0\n",
       "1    1.0\n",
       "0    0.0\n",
       "3    NaN\n",
       "dtype: float64"
      ]
     },
     "execution_count": 19,
     "metadata": {},
     "output_type": "execute_result"
    }
   ],
   "source": [
    "s.sort_values(ascending=False) #내림차순 # list에서는 reverse=True # R은 desc"
   ]
  },
  {
   "cell_type": "markdown",
   "metadata": {},
   "source": [
    "- 데이터프레임에서 sort_values 메서드를 사용하려면 by 인수로 정렬 기준이 되는 열을 지정해 주어야 한다."
   ]
  },
  {
   "cell_type": "code",
   "execution_count": 20,
   "metadata": {},
   "outputs": [
    {
     "data": {
      "text/html": [
       "<div>\n",
       "<style scoped>\n",
       "    .dataframe tbody tr th:only-of-type {\n",
       "        vertical-align: middle;\n",
       "    }\n",
       "\n",
       "    .dataframe tbody tr th {\n",
       "        vertical-align: top;\n",
       "    }\n",
       "\n",
       "    .dataframe thead th {\n",
       "        text-align: right;\n",
       "    }\n",
       "</style>\n",
       "<table border=\"1\" class=\"dataframe\">\n",
       "  <thead>\n",
       "    <tr style=\"text-align: right;\">\n",
       "      <th></th>\n",
       "      <th>0</th>\n",
       "      <th>1</th>\n",
       "      <th>2</th>\n",
       "      <th>3</th>\n",
       "    </tr>\n",
       "  </thead>\n",
       "  <tbody>\n",
       "    <tr>\n",
       "      <th>0</th>\n",
       "      <td>0.0</td>\n",
       "      <td>0.0</td>\n",
       "      <td>3.0</td>\n",
       "      <td>2.0</td>\n",
       "    </tr>\n",
       "    <tr>\n",
       "      <th>1</th>\n",
       "      <td>3.0</td>\n",
       "      <td>0.0</td>\n",
       "      <td>2.0</td>\n",
       "      <td>1.0</td>\n",
       "    </tr>\n",
       "    <tr>\n",
       "      <th>2</th>\n",
       "      <td>3.0</td>\n",
       "      <td>2.0</td>\n",
       "      <td>4.0</td>\n",
       "      <td>NaN</td>\n",
       "    </tr>\n",
       "    <tr>\n",
       "      <th>3</th>\n",
       "      <td>4.0</td>\n",
       "      <td>3.0</td>\n",
       "      <td>4.0</td>\n",
       "      <td>2.0</td>\n",
       "    </tr>\n",
       "  </tbody>\n",
       "</table>\n",
       "</div>"
      ],
      "text/plain": [
       "     0    1    2    3\n",
       "0  0.0  0.0  3.0  2.0\n",
       "1  3.0  0.0  2.0  1.0\n",
       "2  3.0  2.0  4.0  NaN\n",
       "3  4.0  3.0  4.0  2.0"
      ]
     },
     "execution_count": 20,
     "metadata": {},
     "output_type": "execute_result"
    }
   ],
   "source": [
    "df.sort_values(by=1)"
   ]
  },
  {
   "cell_type": "markdown",
   "metadata": {},
   "source": [
    "\n",
    "- by 인수에 리스트 값을 넣으면 이 순서대로 정렬 기준의 우선 순위가 된다. 즉, 리스트의 첫번째 열을 기준으로 정렬한 후 동일한 값이 나오면 그 다음 열로 순서를 따지게 된다."
   ]
  },
  {
   "cell_type": "code",
   "execution_count": 23,
   "metadata": {},
   "outputs": [
    {
     "data": {
      "text/html": [
       "<div>\n",
       "<style scoped>\n",
       "    .dataframe tbody tr th:only-of-type {\n",
       "        vertical-align: middle;\n",
       "    }\n",
       "\n",
       "    .dataframe tbody tr th {\n",
       "        vertical-align: top;\n",
       "    }\n",
       "\n",
       "    .dataframe thead th {\n",
       "        text-align: right;\n",
       "    }\n",
       "</style>\n",
       "<table border=\"1\" class=\"dataframe\">\n",
       "  <thead>\n",
       "    <tr style=\"text-align: right;\">\n",
       "      <th></th>\n",
       "      <th>0</th>\n",
       "      <th>1</th>\n",
       "      <th>2</th>\n",
       "      <th>3</th>\n",
       "    </tr>\n",
       "  </thead>\n",
       "  <tbody>\n",
       "    <tr>\n",
       "      <th>1</th>\n",
       "      <td>3.0</td>\n",
       "      <td>0.0</td>\n",
       "      <td>2.0</td>\n",
       "      <td>1.0</td>\n",
       "    </tr>\n",
       "    <tr>\n",
       "      <th>0</th>\n",
       "      <td>0.0</td>\n",
       "      <td>0.0</td>\n",
       "      <td>3.0</td>\n",
       "      <td>2.0</td>\n",
       "    </tr>\n",
       "    <tr>\n",
       "      <th>2</th>\n",
       "      <td>3.0</td>\n",
       "      <td>2.0</td>\n",
       "      <td>4.0</td>\n",
       "      <td>NaN</td>\n",
       "    </tr>\n",
       "    <tr>\n",
       "      <th>3</th>\n",
       "      <td>4.0</td>\n",
       "      <td>3.0</td>\n",
       "      <td>4.0</td>\n",
       "      <td>2.0</td>\n",
       "    </tr>\n",
       "  </tbody>\n",
       "</table>\n",
       "</div>"
      ],
      "text/plain": [
       "     0    1    2    3\n",
       "1  3.0  0.0  2.0  1.0\n",
       "0  0.0  0.0  3.0  2.0\n",
       "2  3.0  2.0  4.0  NaN\n",
       "3  4.0  3.0  4.0  2.0"
      ]
     },
     "execution_count": 23,
     "metadata": {},
     "output_type": "execute_result"
    }
   ],
   "source": [
    "df.sort_values(by=[1, 2])"
   ]
  },
  {
   "cell_type": "markdown",
   "metadata": {},
   "source": [
    "# 4. 행/열 합계\n",
    "- 행과 열의 합계를 구할 때는 sum(axis) 메서드를 사용한다."
   ]
  },
  {
   "cell_type": "code",
   "execution_count": 26,
   "metadata": {
    "scrolled": true
   },
   "outputs": [
    {
     "data": {
      "text/html": [
       "<div>\n",
       "<style scoped>\n",
       "    .dataframe tbody tr th:only-of-type {\n",
       "        vertical-align: middle;\n",
       "    }\n",
       "\n",
       "    .dataframe tbody tr th {\n",
       "        vertical-align: top;\n",
       "    }\n",
       "\n",
       "    .dataframe thead th {\n",
       "        text-align: right;\n",
       "    }\n",
       "</style>\n",
       "<table border=\"1\" class=\"dataframe\">\n",
       "  <thead>\n",
       "    <tr style=\"text-align: right;\">\n",
       "      <th></th>\n",
       "      <th>0</th>\n",
       "      <th>1</th>\n",
       "      <th>2</th>\n",
       "      <th>3</th>\n",
       "      <th>4</th>\n",
       "      <th>5</th>\n",
       "      <th>6</th>\n",
       "      <th>7</th>\n",
       "    </tr>\n",
       "  </thead>\n",
       "  <tbody>\n",
       "    <tr>\n",
       "      <th>0</th>\n",
       "      <td>5</td>\n",
       "      <td>8</td>\n",
       "      <td>9</td>\n",
       "      <td>5</td>\n",
       "      <td>0</td>\n",
       "      <td>0</td>\n",
       "      <td>1</td>\n",
       "      <td>7</td>\n",
       "    </tr>\n",
       "    <tr>\n",
       "      <th>1</th>\n",
       "      <td>6</td>\n",
       "      <td>9</td>\n",
       "      <td>2</td>\n",
       "      <td>4</td>\n",
       "      <td>5</td>\n",
       "      <td>2</td>\n",
       "      <td>4</td>\n",
       "      <td>2</td>\n",
       "    </tr>\n",
       "    <tr>\n",
       "      <th>2</th>\n",
       "      <td>4</td>\n",
       "      <td>7</td>\n",
       "      <td>7</td>\n",
       "      <td>9</td>\n",
       "      <td>1</td>\n",
       "      <td>7</td>\n",
       "      <td>0</td>\n",
       "      <td>6</td>\n",
       "    </tr>\n",
       "    <tr>\n",
       "      <th>3</th>\n",
       "      <td>9</td>\n",
       "      <td>9</td>\n",
       "      <td>7</td>\n",
       "      <td>6</td>\n",
       "      <td>9</td>\n",
       "      <td>1</td>\n",
       "      <td>0</td>\n",
       "      <td>1</td>\n",
       "    </tr>\n",
       "  </tbody>\n",
       "</table>\n",
       "</div>"
      ],
      "text/plain": [
       "   0  1  2  3  4  5  6  7\n",
       "0  5  8  9  5  0  0  1  7\n",
       "1  6  9  2  4  5  2  4  2\n",
       "2  4  7  7  9  1  7  0  6\n",
       "3  9  9  7  6  9  1  0  1"
      ]
     },
     "execution_count": 26,
     "metadata": {},
     "output_type": "execute_result"
    }
   ],
   "source": [
    "np.random.seed(1)\n",
    "df2 = pd.DataFrame(np.random.randint(10, size=(4, 8)))\n",
    "df2"
   ]
  },
  {
   "cell_type": "markdown",
   "metadata": {},
   "source": [
    "- 행 합계를 구할 때는 sum(axis=1) 메서드를 사용한다."
   ]
  },
  {
   "cell_type": "code",
   "execution_count": 31,
   "metadata": {},
   "outputs": [
    {
     "data": {
      "text/plain": [
       "0    35\n",
       "1    34\n",
       "2    41\n",
       "3    42\n",
       "dtype: int64"
      ]
     },
     "execution_count": 31,
     "metadata": {},
     "output_type": "execute_result"
    }
   ],
   "source": [
    "df2.sum(axis=1)"
   ]
  },
  {
   "cell_type": "code",
   "execution_count": 32,
   "metadata": {},
   "outputs": [
    {
     "data": {
      "text/html": [
       "<div>\n",
       "<style scoped>\n",
       "    .dataframe tbody tr th:only-of-type {\n",
       "        vertical-align: middle;\n",
       "    }\n",
       "\n",
       "    .dataframe tbody tr th {\n",
       "        vertical-align: top;\n",
       "    }\n",
       "\n",
       "    .dataframe thead th {\n",
       "        text-align: right;\n",
       "    }\n",
       "</style>\n",
       "<table border=\"1\" class=\"dataframe\">\n",
       "  <thead>\n",
       "    <tr style=\"text-align: right;\">\n",
       "      <th></th>\n",
       "      <th>0</th>\n",
       "      <th>1</th>\n",
       "      <th>2</th>\n",
       "      <th>3</th>\n",
       "      <th>4</th>\n",
       "      <th>5</th>\n",
       "      <th>6</th>\n",
       "      <th>7</th>\n",
       "      <th>RowSum</th>\n",
       "    </tr>\n",
       "  </thead>\n",
       "  <tbody>\n",
       "    <tr>\n",
       "      <th>0</th>\n",
       "      <td>5</td>\n",
       "      <td>8</td>\n",
       "      <td>9</td>\n",
       "      <td>5</td>\n",
       "      <td>0</td>\n",
       "      <td>0</td>\n",
       "      <td>1</td>\n",
       "      <td>7</td>\n",
       "      <td>35</td>\n",
       "    </tr>\n",
       "    <tr>\n",
       "      <th>1</th>\n",
       "      <td>6</td>\n",
       "      <td>9</td>\n",
       "      <td>2</td>\n",
       "      <td>4</td>\n",
       "      <td>5</td>\n",
       "      <td>2</td>\n",
       "      <td>4</td>\n",
       "      <td>2</td>\n",
       "      <td>34</td>\n",
       "    </tr>\n",
       "    <tr>\n",
       "      <th>2</th>\n",
       "      <td>4</td>\n",
       "      <td>7</td>\n",
       "      <td>7</td>\n",
       "      <td>9</td>\n",
       "      <td>1</td>\n",
       "      <td>7</td>\n",
       "      <td>0</td>\n",
       "      <td>6</td>\n",
       "      <td>41</td>\n",
       "    </tr>\n",
       "    <tr>\n",
       "      <th>3</th>\n",
       "      <td>9</td>\n",
       "      <td>9</td>\n",
       "      <td>7</td>\n",
       "      <td>6</td>\n",
       "      <td>9</td>\n",
       "      <td>1</td>\n",
       "      <td>0</td>\n",
       "      <td>1</td>\n",
       "      <td>42</td>\n",
       "    </tr>\n",
       "  </tbody>\n",
       "</table>\n",
       "</div>"
      ],
      "text/plain": [
       "   0  1  2  3  4  5  6  7  RowSum\n",
       "0  5  8  9  5  0  0  1  7      35\n",
       "1  6  9  2  4  5  2  4  2      34\n",
       "2  4  7  7  9  1  7  0  6      41\n",
       "3  9  9  7  6  9  1  0  1      42"
      ]
     },
     "execution_count": 32,
     "metadata": {},
     "output_type": "execute_result"
    }
   ],
   "source": [
    "df2[\"RowSum\"] = df2.sum(axis=1)\n",
    "df2"
   ]
  },
  {
   "cell_type": "markdown",
   "metadata": {},
   "source": [
    "- \n",
    "열 합계를 구할 때는 sum(axis=0) 메서드를 사용하는데 axis인수의 디폴트 값이 0이므로 axis인수를 생략할 수 있다."
   ]
  },
  {
   "cell_type": "code",
   "execution_count": 33,
   "metadata": {},
   "outputs": [
    {
     "data": {
      "text/plain": [
       "0          24\n",
       "1          33\n",
       "2          25\n",
       "3          24\n",
       "4          15\n",
       "5          10\n",
       "6           5\n",
       "7          16\n",
       "RowSum    152\n",
       "dtype: int64"
      ]
     },
     "execution_count": 33,
     "metadata": {},
     "output_type": "execute_result"
    }
   ],
   "source": [
    "df2.sum()"
   ]
  },
  {
   "cell_type": "code",
   "execution_count": 35,
   "metadata": {},
   "outputs": [
    {
     "data": {
      "text/html": [
       "<div>\n",
       "<style scoped>\n",
       "    .dataframe tbody tr th:only-of-type {\n",
       "        vertical-align: middle;\n",
       "    }\n",
       "\n",
       "    .dataframe tbody tr th {\n",
       "        vertical-align: top;\n",
       "    }\n",
       "\n",
       "    .dataframe thead th {\n",
       "        text-align: right;\n",
       "    }\n",
       "</style>\n",
       "<table border=\"1\" class=\"dataframe\">\n",
       "  <thead>\n",
       "    <tr style=\"text-align: right;\">\n",
       "      <th></th>\n",
       "      <th>0</th>\n",
       "      <th>1</th>\n",
       "      <th>2</th>\n",
       "      <th>3</th>\n",
       "      <th>4</th>\n",
       "      <th>5</th>\n",
       "      <th>6</th>\n",
       "      <th>7</th>\n",
       "      <th>RowSum</th>\n",
       "    </tr>\n",
       "  </thead>\n",
       "  <tbody>\n",
       "    <tr>\n",
       "      <th>0</th>\n",
       "      <td>5.0</td>\n",
       "      <td>8.0</td>\n",
       "      <td>9.0</td>\n",
       "      <td>5.0</td>\n",
       "      <td>0.0</td>\n",
       "      <td>0.0</td>\n",
       "      <td>1.0</td>\n",
       "      <td>7.0</td>\n",
       "      <td>35.0</td>\n",
       "    </tr>\n",
       "    <tr>\n",
       "      <th>1</th>\n",
       "      <td>6.0</td>\n",
       "      <td>9.0</td>\n",
       "      <td>2.0</td>\n",
       "      <td>4.0</td>\n",
       "      <td>5.0</td>\n",
       "      <td>2.0</td>\n",
       "      <td>4.0</td>\n",
       "      <td>2.0</td>\n",
       "      <td>34.0</td>\n",
       "    </tr>\n",
       "    <tr>\n",
       "      <th>2</th>\n",
       "      <td>4.0</td>\n",
       "      <td>7.0</td>\n",
       "      <td>7.0</td>\n",
       "      <td>9.0</td>\n",
       "      <td>1.0</td>\n",
       "      <td>7.0</td>\n",
       "      <td>0.0</td>\n",
       "      <td>6.0</td>\n",
       "      <td>41.0</td>\n",
       "    </tr>\n",
       "    <tr>\n",
       "      <th>3</th>\n",
       "      <td>9.0</td>\n",
       "      <td>9.0</td>\n",
       "      <td>7.0</td>\n",
       "      <td>6.0</td>\n",
       "      <td>9.0</td>\n",
       "      <td>1.0</td>\n",
       "      <td>0.0</td>\n",
       "      <td>1.0</td>\n",
       "      <td>42.0</td>\n",
       "    </tr>\n",
       "    <tr>\n",
       "      <th>ColTotal</th>\n",
       "      <td>48.0</td>\n",
       "      <td>66.0</td>\n",
       "      <td>50.0</td>\n",
       "      <td>48.0</td>\n",
       "      <td>30.0</td>\n",
       "      <td>20.0</td>\n",
       "      <td>10.0</td>\n",
       "      <td>32.0</td>\n",
       "      <td>304.0</td>\n",
       "    </tr>\n",
       "  </tbody>\n",
       "</table>\n",
       "</div>"
      ],
      "text/plain": [
       "             0     1     2     3     4     5     6     7  RowSum\n",
       "0          5.0   8.0   9.0   5.0   0.0   0.0   1.0   7.0    35.0\n",
       "1          6.0   9.0   2.0   4.0   5.0   2.0   4.0   2.0    34.0\n",
       "2          4.0   7.0   7.0   9.0   1.0   7.0   0.0   6.0    41.0\n",
       "3          9.0   9.0   7.0   6.0   9.0   1.0   0.0   1.0    42.0\n",
       "ColTotal  48.0  66.0  50.0  48.0  30.0  20.0  10.0  32.0   304.0"
      ]
     },
     "execution_count": 35,
     "metadata": {},
     "output_type": "execute_result"
    }
   ],
   "source": [
    "df2.loc[\"ColTotal\", :] = df2.sum()\n",
    "df2"
   ]
  },
  {
   "cell_type": "markdown",
   "metadata": {},
   "source": [
    "# 5. apply 변환\n",
    "- 행이나 열 단위로 더 복잡한 처리를 하고 싶을 때는 apply 메서드를 사용한다. 인수로 행 또는 열을 받는 함수를 apply 메서드의 인수로 넣으면 각 열(또는 행)을 반복하여 그 함수에 적용시킨다."
   ]
  },
  {
   "cell_type": "code",
   "execution_count": 36,
   "metadata": {},
   "outputs": [
    {
     "data": {
      "text/html": [
       "<div>\n",
       "<style scoped>\n",
       "    .dataframe tbody tr th:only-of-type {\n",
       "        vertical-align: middle;\n",
       "    }\n",
       "\n",
       "    .dataframe tbody tr th {\n",
       "        vertical-align: top;\n",
       "    }\n",
       "\n",
       "    .dataframe thead th {\n",
       "        text-align: right;\n",
       "    }\n",
       "</style>\n",
       "<table border=\"1\" class=\"dataframe\">\n",
       "  <thead>\n",
       "    <tr style=\"text-align: right;\">\n",
       "      <th></th>\n",
       "      <th>A</th>\n",
       "      <th>B</th>\n",
       "      <th>C</th>\n",
       "    </tr>\n",
       "  </thead>\n",
       "  <tbody>\n",
       "    <tr>\n",
       "      <th>0</th>\n",
       "      <td>1</td>\n",
       "      <td>2</td>\n",
       "      <td>1</td>\n",
       "    </tr>\n",
       "    <tr>\n",
       "      <th>1</th>\n",
       "      <td>3</td>\n",
       "      <td>3</td>\n",
       "      <td>5</td>\n",
       "    </tr>\n",
       "    <tr>\n",
       "      <th>2</th>\n",
       "      <td>4</td>\n",
       "      <td>1</td>\n",
       "      <td>2</td>\n",
       "    </tr>\n",
       "    <tr>\n",
       "      <th>3</th>\n",
       "      <td>3</td>\n",
       "      <td>2</td>\n",
       "      <td>4</td>\n",
       "    </tr>\n",
       "    <tr>\n",
       "      <th>4</th>\n",
       "      <td>4</td>\n",
       "      <td>3</td>\n",
       "      <td>4</td>\n",
       "    </tr>\n",
       "  </tbody>\n",
       "</table>\n",
       "</div>"
      ],
      "text/plain": [
       "   A  B  C\n",
       "0  1  2  1\n",
       "1  3  3  5\n",
       "2  4  1  2\n",
       "3  3  2  4\n",
       "4  4  3  4"
      ]
     },
     "execution_count": 36,
     "metadata": {},
     "output_type": "execute_result"
    }
   ],
   "source": [
    "df3 = pd.DataFrame({\n",
    "    'A': [1, 3, 4, 3, 4],\n",
    "    'B': [2, 3, 1, 2, 3],\n",
    "    'C': [1, 5, 2, 4, 4]\n",
    "})\n",
    "df3"
   ]
  },
  {
   "cell_type": "markdown",
   "metadata": {},
   "source": [
    "예를 들어 각 열의 최대값과 최소값의 차이를 구하고 싶으면 다음과 같은 람다 함수를 넣는다.\n",
    "\n"
   ]
  },
  {
   "cell_type": "code",
   "execution_count": 37,
   "metadata": {},
   "outputs": [
    {
     "data": {
      "text/plain": [
       "A    3\n",
       "B    2\n",
       "C    4\n",
       "dtype: int64"
      ]
     },
     "execution_count": 37,
     "metadata": {},
     "output_type": "execute_result"
    }
   ],
   "source": [
    "df3.apply(lambda x: x.max() - x.min())"
   ]
  },
  {
   "cell_type": "markdown",
   "metadata": {},
   "source": [
    "만약 행에 대해 적용하고 싶으면 axis=1 인수를 쓴다."
   ]
  },
  {
   "cell_type": "code",
   "execution_count": 38,
   "metadata": {},
   "outputs": [
    {
     "data": {
      "text/plain": [
       "0    1\n",
       "1    2\n",
       "2    3\n",
       "3    2\n",
       "4    1\n",
       "dtype: int64"
      ]
     },
     "execution_count": 38,
     "metadata": {},
     "output_type": "execute_result"
    }
   ],
   "source": [
    "df3.apply(lambda x: x.max() - x.min(), axis=1)"
   ]
  },
  {
   "cell_type": "markdown",
   "metadata": {},
   "source": [
    "각 열에 대해 어떤 값이 얼마나 사용되었는지 알고 싶다면 value_counts 함수를 넣을 수도 있다."
   ]
  },
  {
   "cell_type": "code",
   "execution_count": 39,
   "metadata": {},
   "outputs": [
    {
     "data": {
      "text/html": [
       "<div>\n",
       "<style scoped>\n",
       "    .dataframe tbody tr th:only-of-type {\n",
       "        vertical-align: middle;\n",
       "    }\n",
       "\n",
       "    .dataframe tbody tr th {\n",
       "        vertical-align: top;\n",
       "    }\n",
       "\n",
       "    .dataframe thead th {\n",
       "        text-align: right;\n",
       "    }\n",
       "</style>\n",
       "<table border=\"1\" class=\"dataframe\">\n",
       "  <thead>\n",
       "    <tr style=\"text-align: right;\">\n",
       "      <th></th>\n",
       "      <th>A</th>\n",
       "      <th>B</th>\n",
       "      <th>C</th>\n",
       "    </tr>\n",
       "  </thead>\n",
       "  <tbody>\n",
       "    <tr>\n",
       "      <th>1</th>\n",
       "      <td>1.0</td>\n",
       "      <td>1.0</td>\n",
       "      <td>1.0</td>\n",
       "    </tr>\n",
       "    <tr>\n",
       "      <th>2</th>\n",
       "      <td>NaN</td>\n",
       "      <td>2.0</td>\n",
       "      <td>1.0</td>\n",
       "    </tr>\n",
       "    <tr>\n",
       "      <th>3</th>\n",
       "      <td>2.0</td>\n",
       "      <td>2.0</td>\n",
       "      <td>NaN</td>\n",
       "    </tr>\n",
       "    <tr>\n",
       "      <th>4</th>\n",
       "      <td>2.0</td>\n",
       "      <td>NaN</td>\n",
       "      <td>2.0</td>\n",
       "    </tr>\n",
       "    <tr>\n",
       "      <th>5</th>\n",
       "      <td>NaN</td>\n",
       "      <td>NaN</td>\n",
       "      <td>1.0</td>\n",
       "    </tr>\n",
       "  </tbody>\n",
       "</table>\n",
       "</div>"
      ],
      "text/plain": [
       "     A    B    C\n",
       "1  1.0  1.0  1.0\n",
       "2  NaN  2.0  1.0\n",
       "3  2.0  2.0  NaN\n",
       "4  2.0  NaN  2.0\n",
       "5  NaN  NaN  1.0"
      ]
     },
     "execution_count": 39,
     "metadata": {},
     "output_type": "execute_result"
    }
   ],
   "source": [
    "df3.apply(pd.value_counts)"
   ]
  },
  {
   "cell_type": "markdown",
   "metadata": {},
   "source": [
    "NaN 값은 fillna 메서드를 사용하여 원하는 값으로 바꿀 수 있다. astype 메서드로 전체 데이터의 자료형을 바꾸는 것도 가능하다."
   ]
  },
  {
   "cell_type": "code",
   "execution_count": 40,
   "metadata": {},
   "outputs": [
    {
     "data": {
      "text/html": [
       "<div>\n",
       "<style scoped>\n",
       "    .dataframe tbody tr th:only-of-type {\n",
       "        vertical-align: middle;\n",
       "    }\n",
       "\n",
       "    .dataframe tbody tr th {\n",
       "        vertical-align: top;\n",
       "    }\n",
       "\n",
       "    .dataframe thead th {\n",
       "        text-align: right;\n",
       "    }\n",
       "</style>\n",
       "<table border=\"1\" class=\"dataframe\">\n",
       "  <thead>\n",
       "    <tr style=\"text-align: right;\">\n",
       "      <th></th>\n",
       "      <th>A</th>\n",
       "      <th>B</th>\n",
       "      <th>C</th>\n",
       "    </tr>\n",
       "  </thead>\n",
       "  <tbody>\n",
       "    <tr>\n",
       "      <th>1</th>\n",
       "      <td>1</td>\n",
       "      <td>1</td>\n",
       "      <td>1</td>\n",
       "    </tr>\n",
       "    <tr>\n",
       "      <th>2</th>\n",
       "      <td>0</td>\n",
       "      <td>2</td>\n",
       "      <td>1</td>\n",
       "    </tr>\n",
       "    <tr>\n",
       "      <th>3</th>\n",
       "      <td>2</td>\n",
       "      <td>2</td>\n",
       "      <td>0</td>\n",
       "    </tr>\n",
       "    <tr>\n",
       "      <th>4</th>\n",
       "      <td>2</td>\n",
       "      <td>0</td>\n",
       "      <td>2</td>\n",
       "    </tr>\n",
       "    <tr>\n",
       "      <th>5</th>\n",
       "      <td>0</td>\n",
       "      <td>0</td>\n",
       "      <td>1</td>\n",
       "    </tr>\n",
       "  </tbody>\n",
       "</table>\n",
       "</div>"
      ],
      "text/plain": [
       "   A  B  C\n",
       "1  1  1  1\n",
       "2  0  2  1\n",
       "3  2  2  0\n",
       "4  2  0  2\n",
       "5  0  0  1"
      ]
     },
     "execution_count": 40,
     "metadata": {},
     "output_type": "execute_result"
    }
   ],
   "source": [
    "df3.apply(pd.value_counts).fillna(0).astype(int)"
   ]
  },
  {
   "cell_type": "markdown",
   "metadata": {},
   "source": [
    "# 6. 실수 값을 카테고리 값으로 변환\n",
    "실수 값을 크기 기준으로 하여 카테고리 값으로 변환하고 싶을 때는 다음과 같은 명령을 사용한다.\n",
    "\n",
    "- cut: 실수 값의 경계선을 지정하는 경우\n",
    "- qcut: 갯수가 똑같은 구간으로 나누는 경우\n",
    "\n",
    "예를 들어 다음과 같은 나이 데이터가 있다고 하자."
   ]
  },
  {
   "cell_type": "code",
   "execution_count": 45,
   "metadata": {},
   "outputs": [],
   "source": [
    "ages = [0, 2, 10, 21, 23, 37, 31, 61, 20, 41, 32, 100]"
   ]
  },
  {
   "cell_type": "markdown",
   "metadata": {},
   "source": [
    "cut 명령을 사용하면 실수값을 다음처럼 카테고리 값으로 바꿀 수 있다.<br>\n",
    "bins 인수는 카테고리를 나누는 기준값이 된다. 영역을 넘는 값은 NaN으로 처리된다."
   ]
  },
  {
   "cell_type": "code",
   "execution_count": 46,
   "metadata": {},
   "outputs": [
    {
     "data": {
      "text/plain": [
       "[NaN, 미성년자, 미성년자, 청년, 청년, ..., 노년, 청년, 장년, 중년, NaN]\n",
       "Length: 12\n",
       "Categories (5, object): [미성년자 < 청년 < 중년 < 장년 < 노년]"
      ]
     },
     "execution_count": 46,
     "metadata": {},
     "output_type": "execute_result"
    }
   ],
   "source": [
    "bins = [1, 15, 25, 35, 60, 99]\n",
    "labels = [\"미성년자\", \"청년\", \"중년\", \"장년\", \"노년\"]\n",
    "cats = pd.cut(ages, bins, labels=labels)\n",
    "cats"
   ]
  },
  {
   "cell_type": "code",
   "execution_count": 48,
   "metadata": {},
   "outputs": [
    {
     "data": {
      "text/plain": [
       "[NaN, 미성년자, 청년, 중년, 장년, 노년]\n",
       "Categories (5, object): [미성년자 < 청년 < 중년 < 장년 < 노년]"
      ]
     },
     "execution_count": 48,
     "metadata": {},
     "output_type": "execute_result"
    }
   ],
   "source": [
    "ages2 = [1,15,25,35,60,99]\n",
    "bins = [1, 15, 25, 35, 60, 99]\n",
    "labels = [\"미성년자\", \"청년\", \"중년\", \"장년\", \"노년\"]\n",
    "cats2 = pd.cut(ages2, bins, labels=labels)\n",
    "cats2"
   ]
  },
  {
   "cell_type": "code",
   "execution_count": null,
   "metadata": {},
   "outputs": [],
   "source": [
    "#즉,\n",
    "#  1 < age <= 15\n",
    "# 15 < age <= 25\n",
    "# (1,15] 가 된다."
   ]
  },
  {
   "cell_type": "code",
   "execution_count": 49,
   "metadata": {},
   "outputs": [
    {
     "data": {
      "text/plain": [
       "pandas.core.arrays.categorical.Categorical"
      ]
     },
     "execution_count": 49,
     "metadata": {},
     "output_type": "execute_result"
    }
   ],
   "source": [
    "type(cats)"
   ]
  },
  {
   "cell_type": "code",
   "execution_count": 50,
   "metadata": {},
   "outputs": [
    {
     "data": {
      "text/plain": [
       "Index(['미성년자', '청년', '중년', '장년', '노년'], dtype='object')"
      ]
     },
     "execution_count": 50,
     "metadata": {},
     "output_type": "execute_result"
    }
   ],
   "source": [
    "cats.categories"
   ]
  },
  {
   "cell_type": "code",
   "execution_count": 51,
   "metadata": {},
   "outputs": [
    {
     "data": {
      "text/plain": [
       "array([-1,  0,  0,  1,  1,  3,  2,  4,  1,  3,  2, -1], dtype=int8)"
      ]
     },
     "execution_count": 51,
     "metadata": {},
     "output_type": "execute_result"
    }
   ],
   "source": [
    "cats.codes # nan은 -1값으로 되어있다."
   ]
  },
  {
   "cell_type": "code",
   "execution_count": 52,
   "metadata": {},
   "outputs": [
    {
     "data": {
      "text/html": [
       "<div>\n",
       "<style scoped>\n",
       "    .dataframe tbody tr th:only-of-type {\n",
       "        vertical-align: middle;\n",
       "    }\n",
       "\n",
       "    .dataframe tbody tr th {\n",
       "        vertical-align: top;\n",
       "    }\n",
       "\n",
       "    .dataframe thead th {\n",
       "        text-align: right;\n",
       "    }\n",
       "</style>\n",
       "<table border=\"1\" class=\"dataframe\">\n",
       "  <thead>\n",
       "    <tr style=\"text-align: right;\">\n",
       "      <th></th>\n",
       "      <th>ages</th>\n",
       "      <th>age_cat</th>\n",
       "    </tr>\n",
       "  </thead>\n",
       "  <tbody>\n",
       "    <tr>\n",
       "      <th>0</th>\n",
       "      <td>0</td>\n",
       "      <td>NaN</td>\n",
       "    </tr>\n",
       "    <tr>\n",
       "      <th>1</th>\n",
       "      <td>2</td>\n",
       "      <td>미성년자</td>\n",
       "    </tr>\n",
       "    <tr>\n",
       "      <th>2</th>\n",
       "      <td>10</td>\n",
       "      <td>미성년자</td>\n",
       "    </tr>\n",
       "    <tr>\n",
       "      <th>3</th>\n",
       "      <td>21</td>\n",
       "      <td>청년</td>\n",
       "    </tr>\n",
       "    <tr>\n",
       "      <th>4</th>\n",
       "      <td>23</td>\n",
       "      <td>청년</td>\n",
       "    </tr>\n",
       "    <tr>\n",
       "      <th>5</th>\n",
       "      <td>37</td>\n",
       "      <td>장년</td>\n",
       "    </tr>\n",
       "    <tr>\n",
       "      <th>6</th>\n",
       "      <td>31</td>\n",
       "      <td>중년</td>\n",
       "    </tr>\n",
       "    <tr>\n",
       "      <th>7</th>\n",
       "      <td>61</td>\n",
       "      <td>노년</td>\n",
       "    </tr>\n",
       "    <tr>\n",
       "      <th>8</th>\n",
       "      <td>20</td>\n",
       "      <td>청년</td>\n",
       "    </tr>\n",
       "    <tr>\n",
       "      <th>9</th>\n",
       "      <td>41</td>\n",
       "      <td>장년</td>\n",
       "    </tr>\n",
       "    <tr>\n",
       "      <th>10</th>\n",
       "      <td>32</td>\n",
       "      <td>중년</td>\n",
       "    </tr>\n",
       "    <tr>\n",
       "      <th>11</th>\n",
       "      <td>100</td>\n",
       "      <td>NaN</td>\n",
       "    </tr>\n",
       "  </tbody>\n",
       "</table>\n",
       "</div>"
      ],
      "text/plain": [
       "    ages age_cat\n",
       "0      0     NaN\n",
       "1      2    미성년자\n",
       "2     10    미성년자\n",
       "3     21      청년\n",
       "4     23      청년\n",
       "5     37      장년\n",
       "6     31      중년\n",
       "7     61      노년\n",
       "8     20      청년\n",
       "9     41      장년\n",
       "10    32      중년\n",
       "11   100     NaN"
      ]
     },
     "execution_count": 52,
     "metadata": {},
     "output_type": "execute_result"
    }
   ],
   "source": [
    "df4 = pd.DataFrame(ages, columns=[\"ages\"])\n",
    "df4[\"age_cat\"] = pd.cut(df4.ages, bins, labels=labels)\n",
    "df4"
   ]
  },
  {
   "cell_type": "markdown",
   "metadata": {},
   "source": [
    "qcut 명령은 구간 경계선을 지정하지 않고 데이터 갯수가 같도록 지정한 수의 구간으로 나눈다. 예를 들어 다음 코드는 1000개의 데이터를 4개의 구간으로 나누는데 각 구간은 250개씩의 데이터를 가진다."
   ]
  },
  {
   "cell_type": "code",
   "execution_count": 53,
   "metadata": {},
   "outputs": [
    {
     "data": {
      "text/plain": [
       "[Q4, Q3, Q2, Q4, Q4, ..., Q4, Q4, Q3, Q3, Q1]\n",
       "Length: 1000\n",
       "Categories (4, object): [Q1 < Q2 < Q3 < Q4]"
      ]
     },
     "execution_count": 53,
     "metadata": {},
     "output_type": "execute_result"
    }
   ],
   "source": [
    "data = np.random.randn(1000)\n",
    "cats = pd.qcut(data, 4, labels=[\"Q1\", \"Q2\", \"Q3\", \"Q4\"])\n",
    "cats"
   ]
  },
  {
   "cell_type": "code",
   "execution_count": 54,
   "metadata": {},
   "outputs": [
    {
     "data": {
      "text/plain": [
       "Q4    250\n",
       "Q3    250\n",
       "Q2    250\n",
       "Q1    250\n",
       "dtype: int64"
      ]
     },
     "execution_count": 54,
     "metadata": {},
     "output_type": "execute_result"
    }
   ],
   "source": [
    "pd.value_counts(cats)"
   ]
  },
  {
   "cell_type": "code",
   "execution_count": 55,
   "metadata": {},
   "outputs": [
    {
     "data": {
      "text/plain": [
       "array([ 8.57234275e-01,  1.83930578e-01, -4.16111580e-01,  1.25005005e+00,\n",
       "        1.24829979e+00, -7.57674141e-01,  5.88294164e-01,  3.46859335e-01,\n",
       "        1.36703270e+00,  6.73716075e-01, -1.29156270e+00, -8.48243915e-01,\n",
       "       -1.66599572e-01,  9.17196021e-01,  8.02505877e-02,  2.28238773e-01,\n",
       "       -8.80476796e-01,  2.78128846e-01, -7.01567733e-02,  6.29587927e-01,\n",
       "       -1.81342356e+00,  1.54744858e+00,  3.25057428e-01, -2.11912923e-01,\n",
       "       -1.54672407e+00,  1.04520063e+00,  1.01037548e+00,  7.08366439e-02,\n",
       "        7.17589826e-01, -2.50704910e-01, -5.15299278e-02,  1.31289070e-02,\n",
       "        2.02239055e-01,  4.54952242e-01, -3.99268172e-01,  1.81067417e-01,\n",
       "        8.07487950e-01,  8.12535189e-01,  2.10902031e-01,  4.21779155e-01,\n",
       "        5.81925184e-01, -4.10207518e-01,  2.29686610e+00,  1.68849705e+00,\n",
       "        6.25811471e-01, -1.61136381e+00,  6.00977379e-02,  4.62420790e-01,\n",
       "        6.84836490e-01, -5.95460330e-01,  9.99051240e-01, -3.08170741e-01,\n",
       "        3.65838343e-01,  1.60750704e+00, -2.38177368e-01, -3.40828283e-01,\n",
       "        4.87594206e-01,  1.73907303e+00,  6.89698049e-02,  4.73241391e-01,\n",
       "       -6.50355022e-01, -7.79106955e-01, -7.77662709e-01,  6.22562797e-01,\n",
       "        4.27562074e-01,  7.40096006e-02, -4.53168603e-01,  6.04153641e-01,\n",
       "        2.38520581e+00, -1.23883329e-01, -3.24193673e-01,  3.10754231e-01,\n",
       "        2.46162831e+00, -3.16123687e-01, -1.81506277e+00,  6.84249500e-01,\n",
       "        3.20325282e-02,  1.96270208e-01,  9.07451161e-01, -2.13483482e+00,\n",
       "        8.16847176e-01,  1.18417131e+00, -2.04480564e-01, -1.10844461e-01,\n",
       "        1.41448273e+00, -1.41664500e+00,  6.73513457e-01, -7.72294423e-01,\n",
       "       -9.38770353e-02, -1.69774023e-01, -5.41144631e-01,  5.37947613e-01,\n",
       "        3.91282655e-01,  2.21191487e+00, -1.62244626e-01,  2.91178158e-01,\n",
       "        1.08062655e-01, -1.99532915e-01,  2.32832299e-01,  1.55393264e-01,\n",
       "        5.93725153e-01, -1.35055772e+00,  8.30564670e-01,  1.13218040e-01,\n",
       "       -1.24274572e+00,  1.59948307e+00,  2.47441941e+00, -3.32324847e-01,\n",
       "        7.77146519e-01,  9.03511798e-02, -1.86597474e-01,  7.43258569e-01,\n",
       "       -4.19178066e-01,  4.96045706e-03, -8.33557266e-01, -3.79358891e-01,\n",
       "       -5.43622490e-01,  1.08361763e+00,  1.21806086e-01,  6.53640257e-01,\n",
       "       -8.91549477e-02,  9.00871646e-01,  1.40248666e+00,  2.17682550e-01,\n",
       "       -8.35994580e-02, -1.83797562e+00, -2.06062412e-01,  4.21554422e-02,\n",
       "       -1.40456061e+00,  1.97969053e+00, -5.94019420e-01,  9.88216440e-01,\n",
       "        1.83104069e-01,  9.23992993e-01,  5.33171983e-01, -5.85133038e-01,\n",
       "       -5.60536918e-01,  1.40773181e-01,  1.76760095e+00, -7.87773741e-01,\n",
       "       -6.17220658e-02,  2.38426792e-01,  7.47724499e-02,  3.38304765e-01,\n",
       "        2.78076626e-01,  1.22396588e+00, -1.43049861e+00,  8.54442902e-01,\n",
       "        1.50685064e+00,  5.23333941e-01,  4.15311254e-01,  5.83387534e-01,\n",
       "        7.59462637e-01,  4.12690176e-01,  1.16783683e+00, -1.21248978e+00,\n",
       "       -2.15670526e+00, -8.98667624e-01, -1.70673775e+00, -1.54507707e+00,\n",
       "        1.00739253e+00, -1.50891570e+00,  4.10770953e-01, -6.04733419e-02,\n",
       "       -1.02896049e+00,  6.06940331e-01, -1.86645046e+00, -8.73320466e-01,\n",
       "        2.95563293e-01,  2.31503950e-01,  2.78034080e-01,  6.90031686e-01,\n",
       "       -9.17976037e-01, -8.51837416e-01,  9.07585717e-02,  1.16220247e+00,\n",
       "        3.21782472e-01,  1.34131783e+00,  1.41675184e-01,  1.73738467e+00,\n",
       "        3.75768777e-01,  1.47825568e+00, -2.08016719e+00, -4.53427565e-01,\n",
       "       -1.78994620e-01, -6.33116395e-01,  4.74627168e-01, -4.84563014e-01,\n",
       "        3.75884436e-01,  7.48048476e-01, -1.18845766e+00,  2.43611235e-01,\n",
       "       -2.09724060e+00, -4.48630634e-01,  4.70559593e-01, -1.39857823e+00,\n",
       "        5.48882898e-01, -2.47515015e-01, -2.25127476e-01,  3.79691880e-01,\n",
       "       -1.15694754e-01, -1.46620101e-01,  1.76939854e+00, -3.21878358e-03,\n",
       "       -6.66460132e-01, -7.71836011e-01, -2.64960679e-01,  1.10728223e+00,\n",
       "       -1.34873652e+00,  5.90902752e-01,  3.79550710e-02, -9.52724019e-01,\n",
       "       -1.20102365e+00, -7.90439789e-02,  7.89893345e-01,  2.18617751e+00,\n",
       "       -9.26690996e-01,  4.01845265e-01, -7.95893042e-01,  7.20232488e-01,\n",
       "        1.49161166e+00,  1.01177037e-01,  1.09823813e+00,  1.15155406e-01,\n",
       "        1.32243076e+00,  9.83158730e-01,  1.25718996e+00,  4.62572041e-01,\n",
       "       -9.15033222e-01,  8.82388475e-01,  7.35969849e-01, -1.35136197e+00,\n",
       "        1.12422540e+00, -5.86403112e-01,  1.45999738e+00, -2.78077889e-01,\n",
       "        4.36612771e-01,  3.82216401e-02,  1.49007700e+00,  2.59779071e+00,\n",
       "       -3.62915614e-01, -9.16934497e-01,  9.54016382e-01, -3.51376813e-01,\n",
       "        1.10089616e+00,  1.11090279e+00, -2.47864187e-01, -1.32842466e+00,\n",
       "        1.65363153e-01,  2.75443598e-02, -6.49903769e-01, -7.62812359e-01,\n",
       "        8.82365163e-01, -8.38822246e-01, -6.78530900e-01, -6.58892111e-02,\n",
       "       -1.48403655e+00,  4.38773070e-02, -6.41334166e-01,  9.44917401e-01,\n",
       "        7.52543854e-02, -3.80485789e-01, -3.68750377e-01,  1.06561739e+00,\n",
       "        7.41526743e-02,  1.66294467e+00,  5.65754326e-01,  5.04286679e-02,\n",
       "       -3.05173199e-01,  1.82577378e+00, -3.62193860e-01, -2.01576670e-01,\n",
       "       -9.42655570e-01, -1.72099969e-01,  1.17422741e+00,  5.18531830e-01,\n",
       "        1.03268739e+00,  7.63428634e-01,  9.53263946e-01, -4.34240750e-01,\n",
       "        1.25111407e+00, -2.75048374e-01, -9.95240965e-01,  3.53063086e-01,\n",
       "       -7.08728983e-02, -7.41436089e-01, -5.88525046e-01,  1.42646743e+00,\n",
       "       -3.13786944e-01,  1.62802382e+00, -1.19750486e+00, -2.72586394e+00,\n",
       "        1.40434749e+00, -1.20421948e-01,  8.32228148e-01, -2.00727627e-01,\n",
       "        2.96724191e-01, -9.37287275e-01,  2.10112800e-02, -2.66336975e-01,\n",
       "       -3.71815125e-01, -4.07407300e-01,  7.78034099e-01,  2.34854014e-01,\n",
       "        4.30095328e-01,  2.43581549e-01, -1.46359705e+00, -5.79977243e-01,\n",
       "       -3.61645939e-01,  3.20079016e-01,  7.73884011e-01, -5.71647118e-01,\n",
       "        2.47508552e-01, -1.71629052e+00,  5.87072919e-01, -2.65162116e-01,\n",
       "       -9.80281604e-01, -1.96983363e+00,  7.20758862e-01,  2.01876051e-02,\n",
       "       -2.03073607e+00,  2.57342766e-01,  1.80871222e-01,  1.11116037e+00,\n",
       "       -4.65621133e-01,  1.87869970e+00, -1.43708227e+00,  8.78455825e-01,\n",
       "        2.54625357e-02, -1.62765646e-01,  1.79732556e-01, -1.96261300e+00,\n",
       "       -1.42369198e-01,  8.06299856e-01, -6.83928129e-01, -1.34230444e+00,\n",
       "       -1.80724182e-01, -1.19206974e-01, -7.25790592e-01, -1.06622357e+00,\n",
       "        3.84885498e-01, -1.16885828e+00,  1.25297679e+00, -3.42259203e-01,\n",
       "        5.81591594e-01, -9.07116413e-01,  4.31429744e-01, -1.50929239e+00,\n",
       "       -4.86332931e-01, -1.65770661e-01,  6.99048210e-01, -1.15520637e+00,\n",
       "        3.57335907e+00, -5.16744430e-01,  2.71000114e-01, -1.24655045e+00,\n",
       "        3.39427099e-01,  6.72969781e-02,  2.02806060e-01,  8.51805104e-01,\n",
       "       -8.08039697e-02, -7.27615119e-01,  2.54829012e-01, -6.67777766e-02,\n",
       "        6.42774661e-01,  5.30246773e-01,  1.44613141e+00,  1.13658952e+00,\n",
       "       -3.19002247e-01, -1.51471314e-02, -1.19109333e-01, -2.20836387e+00,\n",
       "       -2.36615707e-01,  1.73542616e+00, -1.11512167e+00, -1.31089751e-01,\n",
       "       -6.60480310e-01, -1.14562293e+00,  1.62918731e+00,  1.52736704e-01,\n",
       "       -1.05828522e+00, -1.01948485e-01,  4.77197866e-02, -1.97987568e+00,\n",
       "        1.11861489e+00,  7.19859783e-01,  1.37751003e+00,  8.47969274e-02,\n",
       "       -5.10796132e-01,  1.88009490e+00,  2.36726540e-01,  6.80179779e-01,\n",
       "       -6.30402526e-03, -2.00299884e-01,  2.09813153e-01,  2.28177057e-01,\n",
       "        1.34103368e+00,  1.15154069e+00, -1.62247894e+00,  5.63855976e-01,\n",
       "        1.89579139e+00,  6.68213932e-01,  9.43464398e-01, -3.91276814e-01,\n",
       "        6.19344838e-01, -7.63692140e-01,  9.64887279e-01, -7.41454208e-01,\n",
       "        1.31859127e+00, -3.09669871e-01, -1.18283883e+00, -6.05101499e-01,\n",
       "       -7.53974405e-01,  1.05313404e+00,  9.05864995e-01,  8.64260715e-01,\n",
       "       -6.79682740e-01, -6.62364088e-01, -3.97474857e-01, -3.34732221e-01,\n",
       "       -2.87788777e-01, -7.47282050e-02,  3.26579877e-01, -7.27902435e-01,\n",
       "       -7.08432028e-01, -6.50093566e-01,  2.33164307e-01,  4.60485591e-01,\n",
       "       -1.83170831e+00,  5.04910343e-01, -2.34664708e-01,  1.21461613e+00,\n",
       "        2.14181466e-01,  4.40163449e-01, -1.07367517e+00, -6.31029339e-02,\n",
       "       -3.16732875e-01, -1.36876034e+00, -1.07811369e+00, -2.92375569e-01,\n",
       "       -8.16589338e-01,  6.01627042e-01,  1.27578812e+00,  7.21887762e-01,\n",
       "        4.61212588e-01, -1.32152796e+00,  7.28535546e-01,  1.31207395e+00,\n",
       "       -1.60805641e+00,  7.63680457e-01,  1.41899858e+00, -3.74327030e-01,\n",
       "       -4.23317141e-01, -1.24186801e+00, -4.86025934e-01, -2.31404238e-01,\n",
       "       -2.46440010e-01,  7.67966704e-01, -6.26864647e-01,  3.27056570e+00,\n",
       "       -3.07040600e-01, -3.84748851e-01,  1.51891454e-02, -8.12619744e-01,\n",
       "       -7.87802052e-01, -1.31421482e+00,  1.98609381e-01, -2.70705632e-01,\n",
       "        2.81247183e-01, -1.25402074e+00,  1.23125049e-01, -1.36959979e+00,\n",
       "       -6.67418246e-01,  4.57716492e-01, -1.46212022e+00,  2.63585484e-01,\n",
       "        8.04095427e-01,  9.34967036e-01,  2.56479127e-01, -2.29188082e-01,\n",
       "       -2.08163865e+00,  1.26696681e+00,  8.05104488e-01,  9.60306431e-01,\n",
       "        4.34949454e-01,  6.80212162e-01,  1.86888402e+00,  1.50705284e-01,\n",
       "       -5.68658083e-01,  1.27493789e+00,  7.50733465e-01,  8.09738523e-01,\n",
       "       -1.43810487e+00,  1.65905261e+00,  3.11072572e-01,  2.15714494e-01,\n",
       "       -4.74747842e-01, -3.26341235e-01, -7.10116519e-01, -1.00367701e+00,\n",
       "        1.14247927e-01,  1.01375566e+00, -7.20034693e-01, -4.24656445e-01,\n",
       "        8.20068833e-01, -1.51132290e+00, -4.75107145e-01, -1.95950744e+00,\n",
       "        1.25764523e+00, -2.14182506e-01, -1.86970888e+00, -8.92459222e-01,\n",
       "       -1.09596716e+00,  6.88512671e-01, -1.94725692e+00, -3.44324954e-01,\n",
       "        9.04958675e-01,  3.04215956e-01,  1.45531938e+00, -2.67629553e-01,\n",
       "        2.04670864e+00, -5.63778079e-01, -1.92820909e-01, -1.05924133e+00,\n",
       "        2.04555630e-01,  7.93779528e-01,  2.79234375e-02,  1.58474465e+00,\n",
       "        1.22823695e+00, -6.96458019e-03,  1.21258512e-01, -7.15237659e-01,\n",
       "        2.80125696e-02,  6.94450393e-01,  4.16416505e-01, -3.65665637e-01,\n",
       "        8.41797687e-01, -1.04156690e+00,  6.42224910e-01,  5.76080399e-02,\n",
       "        1.07525473e+00,  3.95569068e-01, -2.29341570e-01, -5.44483829e-01,\n",
       "        2.65660989e-01,  2.37358832e-01, -1.60952126e+00, -3.96485889e-01,\n",
       "       -1.03077561e-01,  1.40936416e+00, -2.06106463e-02,  9.65268095e-01,\n",
       "       -2.48730537e-01,  1.08966657e+00, -9.05430659e-01,  1.62842650e+00,\n",
       "       -1.38022720e+00,  2.55285300e-02,  1.38927074e+00,  3.04182668e-01,\n",
       "        1.46677410e+00,  3.55856729e-02,  1.01576500e+00,  7.15679419e-01,\n",
       "        1.73217737e+00, -1.09621414e+00, -5.42127581e-01, -9.74252482e-01,\n",
       "       -3.33968065e-01, -1.19676314e+00, -5.24020891e-01, -1.45578944e+00,\n",
       "        9.95352296e-01, -3.47786945e-01, -1.39161943e+00,  6.71134802e-01,\n",
       "       -3.18617634e-01,  1.39139440e+00, -1.38173594e+00, -1.16001878e+00,\n",
       "       -1.07292381e+00,  9.15331226e-01, -6.06948224e-01,  9.14013438e-01,\n",
       "       -8.16656569e-01,  2.98315133e+00,  3.40276183e-01, -1.25832919e+00,\n",
       "       -1.25379754e-01,  9.26582662e-01, -2.04725979e-01,  3.90786616e-01,\n",
       "        1.58909065e+00,  9.47871113e-01,  6.62174421e-01, -1.25759497e-01,\n",
       "        1.16202567e+00, -6.52043199e-01, -4.97530203e-01, -1.02392542e+00,\n",
       "        4.45773564e-01, -7.30859186e-01,  1.06475335e+00,  1.12581687e+00,\n",
       "        8.42583785e-01, -1.08018492e+00, -4.01954426e-01, -1.45471366e+00,\n",
       "       -1.46019604e+00, -1.29252962e+00,  1.61444428e-01, -5.42468640e-01,\n",
       "        8.31760063e-01,  1.51808832e+00, -1.03740233e+00,  4.66158672e-01,\n",
       "        4.80970280e-02, -1.18945435e+00, -1.76772177e-01,  2.09932307e-01,\n",
       "       -2.39764329e+00, -1.25371414e+00, -1.24909366e+00, -1.00034517e-02,\n",
       "       -1.24846416e+00, -8.26085781e-01,  3.93839297e-01,  4.51793809e-01,\n",
       "        1.91598246e+00, -1.31343719e+00,  3.17692315e-02, -1.17163637e+00,\n",
       "        7.61399977e-01, -4.29873695e-01,  1.12064012e+00,  1.44073013e+00,\n",
       "       -8.32785734e-02, -1.06249314e+00, -9.79712687e-01,  4.08132050e-01,\n",
       "        9.26750029e-01,  1.96362569e+00, -2.49523212e+00, -1.08648220e+00,\n",
       "        1.08514067e+00,  3.07802622e-01,  4.82542201e-01,  1.52691122e+00,\n",
       "       -3.43950613e-01, -1.33802268e+00,  2.65257243e-01, -8.41843354e-01,\n",
       "        1.52443873e-01, -3.28800552e-01, -1.09624336e+00,  1.52091795e+00,\n",
       "        5.93896902e-01, -7.49703817e-01,  1.11059155e+00, -6.00313952e-01,\n",
       "        3.06429461e+00, -1.44432760e+00,  6.90859577e-02, -2.25849026e-01,\n",
       "       -1.21394405e+00, -6.69490457e-01, -1.99541692e+00, -1.12249958e+00,\n",
       "        3.98798415e-01, -2.51272184e-02,  1.25599274e+00, -6.20750251e-01,\n",
       "        9.74102848e-01,  1.32091903e-01, -1.27059960e+00, -7.24205807e-01,\n",
       "        7.69130679e-02,  6.14620186e-01,  2.65582962e-02, -7.02076086e-01,\n",
       "        6.89830824e-02, -4.54457789e-01,  4.61428910e-01, -1.12585498e+00,\n",
       "        1.79536860e+00, -4.14810154e-01, -2.85159589e-02,  1.53430611e+00,\n",
       "       -1.18866887e+00,  9.71230136e-02, -9.80102954e-01, -3.57767251e-01,\n",
       "       -1.78612917e-01,  1.76300280e+00,  9.91506188e-01, -1.31314032e-01,\n",
       "       -2.46599724e+00,  7.49185344e-01, -2.92244313e-01, -1.57808158e-01,\n",
       "       -3.85198896e-01, -6.64925724e-02,  3.13952196e-02, -1.86828594e+00,\n",
       "       -8.05168969e-04,  2.06017377e+00, -5.04665004e-01,  3.92380822e-01,\n",
       "       -1.84220632e-01, -7.61873497e-01, -5.67683121e-01,  5.46763519e-01,\n",
       "       -7.65445375e-01,  9.77428972e-01, -1.64175665e+00, -1.39908551e+00,\n",
       "       -5.57332309e-01,  2.06972476e-01,  3.15872183e-01, -8.03686473e-01,\n",
       "       -1.66473832e+00, -9.05445220e-01,  1.57985440e-01,  1.85410029e-02,\n",
       "        5.12145798e-01,  8.58146136e-01, -4.67400041e-02, -7.72595242e-01,\n",
       "        5.27639731e-01, -1.82012328e-01,  3.05878219e+00, -8.05024651e-01,\n",
       "       -1.27222700e-01,  9.42305521e-01, -3.53590742e-01,  5.41014592e-01,\n",
       "       -9.09426313e-01, -1.19846815e+00, -1.48344341e+00,  2.52111942e-01,\n",
       "       -8.69718646e-01,  4.17391777e-01, -5.92808426e-01, -1.36835033e+00,\n",
       "        9.31138633e-01,  2.58180312e+00,  2.32791942e-01, -1.80736019e+00,\n",
       "        6.70120197e-01, -1.96845418e+00, -1.22142358e+00,  1.18467418e+00,\n",
       "       -7.03161633e-01,  1.10799613e+00,  2.96438430e-01,  4.59103141e-01,\n",
       "       -1.84283823e-01,  1.58575708e+00, -1.67414734e-01, -6.44400521e-02,\n",
       "        1.07365672e+00,  1.22180291e+00,  1.48918243e+00, -3.86648475e-01,\n",
       "       -5.64047665e-01,  4.41398360e-02, -2.80088064e-01, -3.33645009e-01,\n",
       "       -4.08368817e-01, -1.49903328e-01,  2.84110568e-01,  2.47613963e+00,\n",
       "       -1.14032228e+00,  1.98011069e+00, -1.56006913e-01,  1.18072621e+00,\n",
       "        1.03724754e+00,  5.01604168e-01,  1.06241035e+00, -2.28765269e-01,\n",
       "       -5.38380363e-02, -8.37715849e-01,  3.25037050e-01, -4.46019731e-01,\n",
       "       -1.61065948e+00, -8.38076406e-02,  3.15579325e-01,  7.59370065e-02,\n",
       "        7.40097240e-01, -2.88594908e-01, -1.51405120e+00, -3.74837416e-01,\n",
       "        1.64448912e-01,  3.93521041e-01,  8.21054239e-01,  1.57580360e+00,\n",
       "       -9.07976989e-01,  8.55735893e-01,  1.22684566e+00,  3.91852899e-01,\n",
       "        3.70746187e-01,  1.07279180e+00, -1.63504202e+00,  2.03237984e-01,\n",
       "        7.04932099e-01, -3.87606795e-01, -6.87645346e-01, -1.23668037e-01,\n",
       "       -1.13054771e-01,  1.51308685e-01,  2.51968272e+00, -3.39044568e-01,\n",
       "        2.28234114e+00,  4.98581897e-01, -4.46966837e-01,  7.28410325e-01,\n",
       "        1.73458325e-01,  9.83384002e-01, -2.78358934e-01, -3.92454083e-01,\n",
       "       -1.43929644e+00,  5.30205761e-01,  3.26073228e-01,  1.10050572e+00,\n",
       "       -9.60268118e-02,  2.88456730e-01,  1.63374899e+00,  1.57828915e+00,\n",
       "       -5.88836015e-01,  1.54553831e-01, -1.37689976e+00,  1.55311499e-01,\n",
       "        5.90561703e-01, -2.42873147e-01,  1.08396484e+00,  2.69678216e-01,\n",
       "        1.18528850e+00,  3.84609369e-01, -3.57296968e-01,  7.57418951e-01,\n",
       "        3.70912963e-01, -6.31942384e-01, -1.04450061e+00, -1.66925971e-01,\n",
       "       -4.66604714e-01,  9.03411837e-02,  5.94734704e-01, -6.18492419e-01,\n",
       "       -1.67352915e+00,  6.64393981e-01,  1.29879568e-02,  7.82532049e-01,\n",
       "        2.26313245e+00, -1.16690261e+00, -8.92655044e-01, -1.08131006e+00,\n",
       "       -1.33592999e+00, -6.70941726e-01,  1.69471688e+00,  7.31613517e-01,\n",
       "        7.39503841e-01,  6.11264661e-01, -2.49173883e-01,  1.49312670e-01,\n",
       "       -2.78929263e+00, -9.39760745e-01, -5.76054326e-01,  1.93812532e+00,\n",
       "        1.03252796e+00,  1.16138019e+00,  9.08324737e-01,  1.50989683e+00,\n",
       "        4.44181050e-01, -5.94425937e-01,  2.05545234e-01,  1.42952740e-01,\n",
       "       -6.49833475e-01, -5.35090385e-01, -1.59291203e+00, -9.66752207e-01,\n",
       "        4.28102671e-01,  1.18965378e+00, -4.20949849e-01,  1.51306904e+00,\n",
       "       -1.18575760e+00, -4.90306587e-01,  3.74253917e-01,  1.20479167e+00,\n",
       "       -9.27487449e-02,  1.97020073e+00, -1.56275402e-01, -2.42932770e-01,\n",
       "       -1.40019621e+00, -1.78377921e-01, -9.12135377e-01,  1.20957865e+00,\n",
       "       -2.42752188e-01,  1.16527160e+00,  3.79813691e-01,  8.81879579e-01,\n",
       "       -1.33451328e+00,  3.61353470e-01,  9.65514728e-01,  7.23259201e-02,\n",
       "        7.43828492e-01, -3.91030473e-01, -2.68040464e-01,  6.43883465e-01,\n",
       "        6.54620037e-01,  3.00195039e-01,  3.92687052e-01, -3.47095970e-01,\n",
       "       -1.20666594e+00,  1.29548701e+00,  3.90118032e-01, -1.00468132e+00,\n",
       "        3.14776191e-01,  3.40144814e-01,  4.45115762e-01,  1.25095939e-01,\n",
       "       -1.30180944e+00,  3.87410579e-01, -1.86583679e+00, -8.07682118e-01,\n",
       "        9.01800229e-03,  2.36285809e-01, -9.01809983e-01, -3.10582787e-01,\n",
       "       -1.15164342e+00,  1.79969001e+00, -3.20435019e-01, -1.06924922e+00,\n",
       "        2.35489186e+00, -1.48445404e+00, -6.93490583e-02,  1.51825771e+00,\n",
       "       -1.57336552e+00, -5.28904330e-01, -4.64273791e-01,  4.78566158e-01,\n",
       "       -1.06680280e+00,  1.36863833e+00,  5.93232226e-02, -4.75920373e-02,\n",
       "       -1.71526055e+00,  7.49991350e-01, -3.59420800e-01, -4.29749985e-01,\n",
       "       -2.77126663e-01,  1.88139564e+00, -1.66164233e-02,  1.30243111e+00,\n",
       "       -1.37093277e+00, -8.34003677e-01, -1.84649662e-01,  6.93989172e-01,\n",
       "       -1.68528004e+00, -4.88582391e-02, -2.70650685e-01,  8.92535014e-01,\n",
       "        1.05617767e+00, -9.82546030e-01, -2.06393485e-01, -1.67106333e-01,\n",
       "        5.02753120e-01,  6.93985078e-01, -1.46938908e+00,  5.17330011e-01,\n",
       "        1.48793157e+00,  1.32545186e+00, -4.95890379e-01, -1.97698374e-01,\n",
       "       -1.08253813e-01,  1.02875603e+00, -7.79105325e-01,  8.35331713e-01,\n",
       "       -1.48645614e+00,  1.90777816e+00, -9.43440215e-01, -2.97977453e-01,\n",
       "       -2.12989798e-01, -1.29484136e-01,  1.06467280e+00, -8.68379113e-01,\n",
       "        1.56133934e+00,  1.04157201e+00, -1.57403946e+00,  1.86053127e-02,\n",
       "       -4.38792226e-01, -4.52841812e-01, -2.45295072e-01,  6.64927640e-01,\n",
       "        2.45961300e-01,  1.48369409e+00, -6.93717843e-02,  1.34898961e+00,\n",
       "        1.35959917e+00,  4.25733631e-01,  8.63651622e-02, -9.32950277e-01])"
      ]
     },
     "execution_count": 55,
     "metadata": {},
     "output_type": "execute_result"
    }
   ],
   "source": [
    "data"
   ]
  },
  {
   "cell_type": "code",
   "execution_count": 57,
   "metadata": {},
   "outputs": [],
   "source": [
    "bins = [1, 15, 25, 35, 60, 99]\n",
    "labels = [\"미성년자\", \"청년\", \"중년\", \"장년\", \"노년\"]"
   ]
  },
  {
   "cell_type": "markdown",
   "metadata": {},
   "source": [
    "타이타닉호 승객을 사망자와 생존자 그룹으로 나누고 각 그룹에 대해 '미성년자', '청년', '중년', '장년', '노년' 승객의 비율을 구한다. 각 그룹 별로 비율의 전체 합은 1이 되어야 한다."
   ]
  }
 ],
 "metadata": {
  "kernelspec": {
   "display_name": "Python 3",
   "language": "python",
   "name": "python3"
  },
  "language_info": {
   "codemirror_mode": {
    "name": "ipython",
    "version": 3
   },
   "file_extension": ".py",
   "mimetype": "text/x-python",
   "name": "python",
   "nbconvert_exporter": "python",
   "pygments_lexer": "ipython3",
   "version": "3.7.3"
  }
 },
 "nbformat": 4,
 "nbformat_minor": 2
}
