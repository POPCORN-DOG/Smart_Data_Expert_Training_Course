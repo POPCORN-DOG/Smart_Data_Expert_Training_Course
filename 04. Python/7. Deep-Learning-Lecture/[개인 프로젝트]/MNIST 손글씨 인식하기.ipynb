{
 "cells": [
  {
   "cell_type": "markdown",
   "metadata": {},
   "source": [
    "# 2019-08-19(월)"
   ]
  },
  {
   "cell_type": "code",
   "execution_count": 187,
   "metadata": {},
   "outputs": [],
   "source": [
    "from keras.datasets import mnist\n",
    "from keras.utils import np_utils\n",
    "\n",
    "import numpy as np\n",
    "import sys\n",
    "import tensorflow as tf"
   ]
  },
  {
   "cell_type": "markdown",
   "metadata": {},
   "source": [
    "# <span style='color:deeppink'> 1. seed 값 설정"
   ]
  },
  {
   "cell_type": "code",
   "execution_count": 175,
   "metadata": {},
   "outputs": [],
   "source": [
    "seed = 0 \n",
    "np.random.seed(seed)\n",
    "tf.set_random_seed(seed)"
   ]
  },
  {
   "cell_type": "markdown",
   "metadata": {},
   "source": [
    "# <span style='color:deeppink'>2. MNIST 데이터셋 불러오기"
   ]
  },
  {
   "cell_type": "code",
   "execution_count": 176,
   "metadata": {},
   "outputs": [
    {
     "name": "stdout",
     "output_type": "stream",
     "text": [
      "학습셋 이미지 수 : 60000 개\n",
      "테스트셋 이미지 수 : 10000 개\n"
     ]
    }
   ],
   "source": [
    "# 케라스의 MNIST 데이터는 총 70,000개의 이미지 중 \n",
    "# 60,000개를 학습용으로,\n",
    "# 10,000개를 테스트용으로 미리 구분해 놓고 있다.\n",
    "# X: 불러온 이미지 데이터\n",
    "# Y: 이 이미지에 0~9까지 붙인 이름표\n",
    "\n",
    "(X_train, Y_class_train),(X_test,Y_class_test) = mnist.load_data()\n",
    "print('학습셋 이미지 수 : %d 개' % (X_train.shape[0]))\n",
    "print('테스트셋 이미지 수 : %d 개' % (X_test.shape[0]))"
   ]
  },
  {
   "cell_type": "markdown",
   "metadata": {},
   "source": [
    "# <span style='color:deeppink'>3. 그래프로 확인"
   ]
  },
  {
   "cell_type": "code",
   "execution_count": 177,
   "metadata": {},
   "outputs": [
    {
     "data": {
      "image/png": "[encoded data removed]",
      "text/plain": [
       "<Figure size 432x288 with 1 Axes>"
      ]
     },
     "metadata": {
      "needs_background": "light"
     },
     "output_type": "display_data"
    }
   ],
   "source": [
    "# 모든 이미지가 X_train에 저장되어 있으므로 [0]는 첫번째 이미지\n",
    "# cmap = 'Greys' 옵션을 지정해 흑백을 출력되게 한다.\n",
    "\n",
    "import matplotlib.pyplot as plt\n",
    "plt.imshow(X_train[0],cmap='Greys')\n",
    "plt.show()"
   ]
  },
  {
   "cell_type": "markdown",
   "metadata": {},
   "source": [
    "# <span style='color:deeppink'>4. 코드로 확인"
   ]
  },
  {
   "cell_type": "code",
   "execution_count": 178,
   "metadata": {
    "scrolled": true
   },
   "outputs": [
    {
     "name": "stdout",
     "output_type": "stream",
     "text": [
      "aaabbb\n",
      "aaa\n",
      "bbb\n",
      "ccc\n"
     ]
    }
   ],
   "source": [
    "# 일반적으로 python에서 문자열 출력 시 print문을 사용한다.\n",
    "# 하지만 이 print문은 자동으로 개행이 되기 때문에 여러 줄의 문자열 출력시 불편하다.\n",
    "# 때문에 sys 모듈을 사용하여 sys.stdout.write()함수를 사용한다. (개행제거 - 붙여서 출력해줌.)\n",
    "\n",
    "sys.stdout.write('aaa')\n",
    "sys.stdout.write('bbb')\n",
    "print()\n",
    "print('aaa')\n",
    "print('bbb')\n",
    "print('ccc')"
   ]
  },
  {
   "cell_type": "code",
   "execution_count": 179,
   "metadata": {
    "scrolled": true
   },
   "outputs": [
    {
     "name": "stdout",
     "output_type": "stream",
     "text": [
      "0\t0\t0\t0\t0\t0\t0\t0\t0\t0\t0\t0\t0\t0\t0\t0\t0\t0\t0\t0\t0\t0\t0\t0\t0\t0\t0\t0\t\n",
      "0\t0\t0\t0\t0\t0\t0\t0\t0\t0\t0\t0\t0\t0\t0\t0\t0\t0\t0\t0\t0\t0\t0\t0\t0\t0\t0\t0\t\n",
      "0\t0\t0\t0\t0\t0\t0\t0\t0\t0\t0\t0\t0\t0\t0\t0\t0\t0\t0\t0\t0\t0\t0\t0\t0\t0\t0\t0\t\n",
      "0\t0\t0\t0\t0\t0\t0\t0\t0\t0\t0\t0\t0\t0\t0\t0\t0\t0\t0\t0\t0\t0\t0\t0\t0\t0\t0\t0\t\n",
      "0\t0\t0\t0\t0\t0\t0\t0\t0\t0\t0\t0\t0\t0\t0\t0\t0\t0\t0\t0\t0\t0\t0\t0\t0\t0\t0\t0\t\n",
      "0\t0\t0\t0\t0\t0\t0\t0\t0\t0\t0\t0\t3\t18\t18\t18\t126\t136\t175\t26\t166\t255\t247\t127\t0\t0\t0\t0\t\n",
      "0\t0\t0\t0\t0\t0\t0\t0\t30\t36\t94\t154\t170\t253\t253\t253\t253\t253\t225\t172\t253\t242\t195\t64\t0\t0\t0\t0\t\n",
      "0\t0\t0\t0\t0\t0\t0\t49\t238\t253\t253\t253\t253\t253\t253\t253\t253\t251\t93\t82\t82\t56\t39\t0\t0\t0\t0\t0\t\n",
      "0\t0\t0\t0\t0\t0\t0\t18\t219\t253\t253\t253\t253\t253\t198\t182\t247\t241\t0\t0\t0\t0\t0\t0\t0\t0\t0\t0\t\n",
      "0\t0\t0\t0\t0\t0\t0\t0\t80\t156\t107\t253\t253\t205\t11\t0\t43\t154\t0\t0\t0\t0\t0\t0\t0\t0\t0\t0\t\n",
      "0\t0\t0\t0\t0\t0\t0\t0\t0\t14\t1\t154\t253\t90\t0\t0\t0\t0\t0\t0\t0\t0\t0\t0\t0\t0\t0\t0\t\n",
      "0\t0\t0\t0\t0\t0\t0\t0\t0\t0\t0\t139\t253\t190\t2\t0\t0\t0\t0\t0\t0\t0\t0\t0\t0\t0\t0\t0\t\n",
      "0\t0\t0\t0\t0\t0\t0\t0\t0\t0\t0\t11\t190\t253\t70\t0\t0\t0\t0\t0\t0\t0\t0\t0\t0\t0\t0\t0\t\n",
      "0\t0\t0\t0\t0\t0\t0\t0\t0\t0\t0\t0\t35\t241\t225\t160\t108\t1\t0\t0\t0\t0\t0\t0\t0\t0\t0\t0\t\n",
      "0\t0\t0\t0\t0\t0\t0\t0\t0\t0\t0\t0\t0\t81\t240\t253\t253\t119\t25\t0\t0\t0\t0\t0\t0\t0\t0\t0\t\n",
      "0\t0\t0\t0\t0\t0\t0\t0\t0\t0\t0\t0\t0\t0\t45\t186\t253\t253\t150\t27\t0\t0\t0\t0\t0\t0\t0\t0\t\n",
      "0\t0\t0\t0\t0\t0\t0\t0\t0\t0\t0\t0\t0\t0\t0\t16\t93\t252\t253\t187\t0\t0\t0\t0\t0\t0\t0\t0\t\n",
      "0\t0\t0\t0\t0\t0\t0\t0\t0\t0\t0\t0\t0\t0\t0\t0\t0\t249\t253\t249\t64\t0\t0\t0\t0\t0\t0\t0\t\n",
      "0\t0\t0\t0\t0\t0\t0\t0\t0\t0\t0\t0\t0\t0\t46\t130\t183\t253\t253\t207\t2\t0\t0\t0\t0\t0\t0\t0\t\n",
      "0\t0\t0\t0\t0\t0\t0\t0\t0\t0\t0\t0\t39\t148\t229\t253\t253\t253\t250\t182\t0\t0\t0\t0\t0\t0\t0\t0\t\n",
      "0\t0\t0\t0\t0\t0\t0\t0\t0\t0\t24\t114\t221\t253\t253\t253\t253\t201\t78\t0\t0\t0\t0\t0\t0\t0\t0\t0\t\n",
      "0\t0\t0\t0\t0\t0\t0\t0\t23\t66\t213\t253\t253\t253\t253\t198\t81\t2\t0\t0\t0\t0\t0\t0\t0\t0\t0\t0\t\n",
      "0\t0\t0\t0\t0\t0\t18\t171\t219\t253\t253\t253\t253\t195\t80\t9\t0\t0\t0\t0\t0\t0\t0\t0\t0\t0\t0\t0\t\n",
      "0\t0\t0\t0\t55\t172\t226\t253\t253\t253\t253\t244\t133\t11\t0\t0\t0\t0\t0\t0\t0\t0\t0\t0\t0\t0\t0\t0\t\n",
      "0\t0\t0\t0\t136\t253\t253\t253\t212\t135\t132\t16\t0\t0\t0\t0\t0\t0\t0\t0\t0\t0\t0\t0\t0\t0\t0\t0\t\n",
      "0\t0\t0\t0\t0\t0\t0\t0\t0\t0\t0\t0\t0\t0\t0\t0\t0\t0\t0\t0\t0\t0\t0\t0\t0\t0\t0\t0\t\n",
      "0\t0\t0\t0\t0\t0\t0\t0\t0\t0\t0\t0\t0\t0\t0\t0\t0\t0\t0\t0\t0\t0\t0\t0\t0\t0\t0\t0\t\n",
      "0\t0\t0\t0\t0\t0\t0\t0\t0\t0\t0\t0\t0\t0\t0\t0\t0\t0\t0\t0\t0\t0\t0\t0\t0\t0\t0\t0\t\n"
     ]
    }
   ],
   "source": [
    "for x in X_train[0]:\n",
    "    for i in x:\n",
    "        sys.stdout.write('%d\\t' % i)\n",
    "    sys.stdout.write('\\n')"
   ]
  },
  {
   "cell_type": "markdown",
   "metadata": {},
   "source": [
    "# <span style='color:deeppink'>5. 차원 변환 과정"
   ]
  },
  {
   "cell_type": "code",
   "execution_count": 180,
   "metadata": {},
   "outputs": [],
   "source": [
    "# reshape(총 샘플 수, 1차원속성의 수(28x28=784개의 속성))\n",
    "# 0~9까지 10개 클래스 중 하나를 맞히는 문제가 된다.\n",
    "\n",
    "X_train = X_train.reshape(X_train.shape[0], 784)"
   ]
  },
  {
   "cell_type": "code",
   "execution_count": 181,
   "metadata": {},
   "outputs": [],
   "source": [
    "# keras는 데이터를 0에서 1사이의 값으로 변환한 다음 구동할 때 최적의 성능이다.\n",
    "# 때문에 0~255 -> 0~1 사이의 값으로 바꿔야 한다. 즉, 각 값을 255로 나눈다. \n",
    "# 이렇게 데이터의 폭이 클 때 적절한 값으로 분산의 정도를 바꾸는 과정을 \n",
    "# 데이터 정규화(normalization)라고 한다.\n",
    "\n",
    "X_train = X_train.astype('float64')\n",
    "X_train = X_train / 255"
   ]
  },
  {
   "cell_type": "code",
   "execution_count": 198,
   "metadata": {},
   "outputs": [],
   "source": [
    "# X_test에도 마찬가지로 이 작업을 적용한다. \n",
    "\n",
    "X_test = X_test.reshape(X_test.shape[0],784).astype('float64') / 255"
   ]
  },
  {
   "cell_type": "markdown",
   "metadata": {},
   "source": [
    "# <span style='color:deeppink'>6. 클래스 값 확인"
   ]
  },
  {
   "cell_type": "code",
   "execution_count": 153,
   "metadata": {},
   "outputs": [
    {
     "name": "stdout",
     "output_type": "stream",
     "text": [
      "class : 5\n"
     ]
    }
   ],
   "source": [
    "# 이제 숫자 이미지에 매겨진 이름을 확인해 보자. \n",
    "# 시각적으로 봤을때 5라는 것을 알 수 있다.\n",
    "# 실제로 이 숫자의 레이블이 어떤지 확인해 보자.\n",
    "\n",
    "print('class : %d' % (Y_class_train[0]))"
   ]
  },
  {
   "cell_type": "markdown",
   "metadata": {},
   "source": [
    "# <span style='color:deeppink'>7. 바이너리화 과정"
   ]
  },
  {
   "cell_type": "code",
   "execution_count": 154,
   "metadata": {},
   "outputs": [
    {
     "name": "stdout",
     "output_type": "stream",
     "text": [
      "[0. 0. 0. 0. 0. 1. 0. 0. 0. 0.]\n"
     ]
    }
   ],
   "source": [
    "# 여기서 딥러닝의 분류 문제를 해결하려면 원-핫 인코딩 방식을 적용해야 한다고 배웠다.\n",
    "# 즉, 5가 [0,0,0,0,1,0,0,0,0,0]이 되어야 하는 것이다.\n",
    "# to_categoricdal(클래스, 클래스의 개수)\n",
    "\n",
    "Y_train = np_utils.to_categorical(Y_class_train,10)\n",
    "Y_test  = np_utils.to_categorical(Y_class_test,10)\n",
    "print(Y_train[0])"
   ]
  },
  {
   "cell_type": "markdown",
   "metadata": {},
   "source": [
    "# <span style='color:deeppink'>8. 딥러닝 프레임 설정"
   ]
  },
  {
   "cell_type": "code",
   "execution_count": 155,
   "metadata": {},
   "outputs": [],
   "source": [
    "from keras.models import Sequential\n",
    "from keras.layers import Dense"
   ]
  },
  {
   "cell_type": "code",
   "execution_count": 156,
   "metadata": {},
   "outputs": [],
   "source": [
    "# 784개의 속성(입력), 512개의 은닉층, 10개의 클래스(출력)\n",
    "model = Sequential()\n",
    "model.add(Dense(512,input_dim=784,activation='relu'))\n",
    "model.add(Dense(10, activation='softmax'))"
   ]
  },
  {
   "cell_type": "code",
   "execution_count": 157,
   "metadata": {},
   "outputs": [],
   "source": [
    "# 딥러닝 실행 환경을 위해 오차 함수로 categorical_crossentropy (3개 이상일 때)\n",
    "# 최적화 함수로 adam 사용.\n",
    "model.compile(loss='categorical_crossentropy',\n",
    "             optimizer='adam',\n",
    "             metrics=['accuracy'])"
   ]
  },
  {
   "cell_type": "markdown",
   "metadata": {},
   "source": [
    "# <span style='color:deeppink'>9. 모델 저장, 자동 중단 설정"
   ]
  },
  {
   "cell_type": "code",
   "execution_count": 158,
   "metadata": {},
   "outputs": [],
   "source": [
    "import os\n",
    "from keras.callbacks import ModelCheckpoint,EarlyStopping"
   ]
  },
  {
   "cell_type": "code",
   "execution_count": 159,
   "metadata": {},
   "outputs": [],
   "source": [
    "# 모델 저장폴더 만들기\n",
    "MODEL_DIR = './model/'\n",
    "if not os.path.exists(MODEL_DIR):\n",
    "    os.mkdir(MODEL_DIR)\n",
    "    \n",
    "Modelpath='./model/{epoch:02d}-[val_loss:.4f].hdf5'"
   ]
  },
  {
   "cell_type": "code",
   "execution_count": 160,
   "metadata": {},
   "outputs": [],
   "source": [
    "# 모델 업데이트 및 저장\n",
    "# filepath:모델이 저장될 곳 \n",
    "checkpointer = ModelCheckpoint(filepath=Modelpath, monitor='val_loss',verbose=1,save_best_only=True)"
   ]
  },
  {
   "cell_type": "code",
   "execution_count": 161,
   "metadata": {},
   "outputs": [],
   "source": [
    "# 자동 중단 설정 (patience=10 : 10회 이상 성과 향상이 없으면 자동으로 학습중단.)\n",
    "early_stopping_callback = EarlyStopping(monitor='val_loss',patience=10)"
   ]
  },
  {
   "cell_type": "markdown",
   "metadata": {},
   "source": [
    "# <span style='color:deeppink'>10. 실행"
   ]
  },
  {
   "cell_type": "code",
   "execution_count": 162,
   "metadata": {
    "scrolled": true
   },
   "outputs": [
    {
     "name": "stdout",
     "output_type": "stream",
     "text": [
      "\n",
      "Epoch 00001: val_loss improved from inf to 0.15527, saving model to ./model/01-[val_loss:.4f].hdf5\n",
      "\n",
      "Epoch 00002: val_loss improved from 0.15527 to 0.10494, saving model to ./model/02-[val_loss:.4f].hdf5\n",
      "\n",
      "Epoch 00003: val_loss improved from 0.10494 to 0.08425, saving model to ./model/03-[val_loss:.4f].hdf5\n",
      "\n",
      "Epoch 00004: val_loss improved from 0.08425 to 0.07956, saving model to ./model/04-[val_loss:.4f].hdf5\n",
      "\n",
      "Epoch 00005: val_loss improved from 0.07956 to 0.06760, saving model to ./model/05-[val_loss:.4f].hdf5\n",
      "\n",
      "Epoch 00006: val_loss improved from 0.06760 to 0.06492, saving model to ./model/06-[val_loss:.4f].hdf5\n",
      "\n",
      "Epoch 00007: val_loss did not improve from 0.06492\n",
      "\n",
      "Epoch 00008: val_loss improved from 0.06492 to 0.06311, saving model to ./model/08-[val_loss:.4f].hdf5\n",
      "\n",
      "Epoch 00009: val_loss improved from 0.06311 to 0.05912, saving model to ./model/09-[val_loss:.4f].hdf5\n",
      "\n",
      "Epoch 00010: val_loss did not improve from 0.05912\n",
      "\n",
      "Epoch 00011: val_loss did not improve from 0.05912\n",
      "\n",
      "Epoch 00012: val_loss did not improve from 0.05912\n",
      "\n",
      "Epoch 00013: val_loss did not improve from 0.05912\n",
      "\n",
      "Epoch 00014: val_loss did not improve from 0.05912\n",
      "\n",
      "Epoch 00015: val_loss did not improve from 0.05912\n",
      "\n",
      "Epoch 00016: val_loss did not improve from 0.05912\n",
      "\n",
      "Epoch 00017: val_loss did not improve from 0.05912\n",
      "\n",
      "Epoch 00018: val_loss did not improve from 0.05912\n",
      "\n",
      "Epoch 00019: val_loss did not improve from 0.05912\n",
      "10000/10000 [==============================] - 0s 19us/step\n",
      "\n",
      " Test Accuracy: 0.9812\n"
     ]
    }
   ],
   "source": [
    "# 샘플 200개를 모두 30번 실행하게 설정\n",
    "# 테스트셋으로 최종 모델의 성과를 측정하여 값을 출력.\n",
    "out = model.fit(X_train, Y_train, validation_data=(X_test, Y_test),\n",
    "                epochs=30, batch_size=200, verbose=0, \n",
    "                callbacks=[early_stopping_callback,checkpointer])\n",
    "\n",
    "print('\\n Test Accuracy: %.4f' % (model.evaluate(X_test, Y_test)[1]))"
   ]
  },
  {
   "cell_type": "markdown",
   "metadata": {},
   "source": [
    "# <span style='color:deeppink'>11. 그래프"
   ]
  },
  {
   "cell_type": "code",
   "execution_count": 163,
   "metadata": {},
   "outputs": [],
   "source": [
    "# 학습셋의 오차\n",
    "y_loss = out.history['loss']\n",
    "\n",
    "# 테스트셋의 오차\n",
    "y_vloss = out.history['val_loss']"
   ]
  },
  {
   "cell_type": "code",
   "execution_count": 164,
   "metadata": {
    "scrolled": true
   },
   "outputs": [
    {
     "data": {
      "image/png": "[encoded data removed]",
      "text/plain": [
       "<Figure size 432x288 with 1 Axes>"
      ]
     },
     "metadata": {
      "needs_background": "light"
     },
     "output_type": "display_data"
    }
   ],
   "source": [
    "# 그래프로 표현\n",
    "x_len = np.arange(len(y_loss))\n",
    "plt.plot(x_len, y_loss, marker='.', c=\"blue\", label='Trainset_loss')\n",
    "plt.plot(x_len, y_vloss, marker='.', c=\"red\", label='Testset_loss')\n",
    "\n",
    "# 그래프에 그리드를 주고 레이블을 표시\n",
    "plt.legend(loc='upper right')\n",
    "plt.grid()\n",
    "plt.xlabel('epoch')\n",
    "plt.ylabel('loss')\n",
    "plt.show()"
   ]
  }
 ],
 "metadata": {
  "kernelspec": {
   "display_name": "Python 3",
   "language": "python",
   "name": "python3"
  },
  "language_info": {
   "codemirror_mode": {
    "name": "ipython",
    "version": 3
   },
   "file_extension": ".py",
   "mimetype": "text/x-python",
   "name": "python",
   "nbconvert_exporter": "python",
   "pygments_lexer": "ipython3",
   "version": "3.7.3"
  }
 },
 "nbformat": 4,
 "nbformat_minor": 2
}
