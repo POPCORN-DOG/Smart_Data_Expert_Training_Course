{
 "cells": [
  {
   "cell_type": "markdown",
   "metadata": {},
   "source": [
    "# [최소제곱법 구현하기]"
   ]
  },
  {
   "cell_type": "code",
   "execution_count": 16,
   "metadata": {},
   "outputs": [
    {
     "name": "stdout",
     "output_type": "stream",
     "text": [
      "x의 평균값: 5.0\n",
      "y의 평균값: 90.5\n",
      "분모: 20.0\n",
      "분자: 46.0\n",
      "기울기 a = 2.3\n",
      "y절편  b = 79.0\n"
     ]
    }
   ],
   "source": [
    "import numpy as np\n",
    "x=[2,4,6,8]\n",
    "y=[81,93,91,97]\n",
    "\n",
    "mx = np.mean(x)\n",
    "my = np.mean(y)\n",
    "print('x의 평균값:',mx)\n",
    "print('y의 평균값:',my)\n",
    "\n",
    "# 분모\n",
    "divisor = sum([(mx-i)**2 for i in x])\n",
    "print('분모:',divisor)\n",
    "\n",
    "# 분자\n",
    "def top(x,mx,y,my):\n",
    "    d = 0\n",
    "    for i in range(len(x)):\n",
    "        d+= (x[i]-mx)*(y[i]-my)\n",
    "    return d\n",
    "\n",
    "dividend = top(x,mx,y,my)\n",
    "print('분자:',dividend)\n",
    "\n",
    "a = dividend / divisor\n",
    "b = my - (mx*a)\n",
    "print('기울기 a =',a)\n",
    "print('y절편  b =',b)"
   ]
  },
  {
   "cell_type": "markdown",
   "metadata": {},
   "source": [
    " - 최소 제곱법은 여러 개의 입력 값을 처리하기에는 무리가 있다.\n"
   ]
  },
  {
   "cell_type": "code",
   "execution_count": null,
   "metadata": {},
   "outputs": [],
   "source": []
  }
 ],
 "metadata": {
  "kernelspec": {
   "display_name": "Python 3",
   "language": "python",
   "name": "python3"
  },
  "language_info": {
   "codemirror_mode": {
    "name": "ipython",
    "version": 3
   },
   "file_extension": ".py",
   "mimetype": "text/x-python",
   "name": "python",
   "nbconvert_exporter": "python",
   "pygments_lexer": "ipython3",
   "version": "3.7.3"
  }
 },
 "nbformat": 4,
 "nbformat_minor": 2
}
