{
 "cells": [
  {
   "cell_type": "markdown",
   "metadata": {},
   "source": [
    "# [처음 해보는 딥러닝]\n",
    "## 관리자 모드로 cmd 실행\n",
    "- pip install --upgrade setuptools\n",
    "- pip install tensorflow gpu #gpu버전은 그래픽카드가 있을때(빨라짐)\n",
    "- pip install keras"
   ]
  },
  {
   "cell_type": "markdown",
   "metadata": {},
   "source": [
    "# <span style='color:teal'>폐암 수술 환자의 생존율 데이터 분석</span>"
   ]
  },
  {
   "cell_type": "code",
   "execution_count": 23,
   "metadata": {},
   "outputs": [],
   "source": [
    "# page 29\n",
    "import numpy as np\n",
    "import tensorflow as tf\n",
    "if type(tf.contrib) != type(tf):\n",
    "    tf.contrib._warning = None # 버전 업이 되면서 나오는 경고를 없애준다."
   ]
  },
  {
   "cell_type": "code",
   "execution_count": 16,
   "metadata": {},
   "outputs": [
    {
     "name": "stdout",
     "output_type": "stream",
     "text": [
      "1.14.0\n"
     ]
    }
   ],
   "source": [
    "# 1.12 -> 1.14로 version up 되었다. \n",
    "print(tf.__version__)"
   ]
  },
  {
   "cell_type": "code",
   "execution_count": 17,
   "metadata": {},
   "outputs": [],
   "source": [
    "# 딥러닝을 구동하는 데 필요한 케라스 패키지 임포트\n",
    "from keras.models import Sequential\n",
    "from keras.layers import Dense"
   ]
  },
  {
   "cell_type": "code",
   "execution_count": 18,
   "metadata": {},
   "outputs": [],
   "source": [
    "# 실행할 떄마다 같은 결과를 출력하기 위해 설정한다.\n",
    "seed = 0\n",
    "np.random.seed(seed)\n",
    "tf.set_random_seed(seed)"
   ]
  },
  {
   "cell_type": "code",
   "execution_count": 19,
   "metadata": {},
   "outputs": [
    {
     "data": {
      "text/plain": [
       "array([[293.  ,   1.  ,   3.8 , ...,   0.  ,  62.  ,   0.  ],\n",
       "       [  1.  ,   2.  ,   2.88, ...,   0.  ,  60.  ,   0.  ],\n",
       "       [  8.  ,   2.  ,   3.19, ...,   0.  ,  66.  ,   1.  ],\n",
       "       ...,\n",
       "       [406.  ,   6.  ,   5.36, ...,   0.  ,  62.  ,   0.  ],\n",
       "       [ 25.  ,   8.  ,   4.32, ...,   0.  ,  58.  ,   1.  ],\n",
       "       [447.  ,   8.  ,   5.2 , ...,   0.  ,  49.  ,   0.  ]])"
      ]
     },
     "execution_count": 19,
     "metadata": {},
     "output_type": "execute_result"
    }
   ],
   "source": [
    "# 준비된 수술 환자 데이터를 불러들임\n",
    "# np로 불러읽었을 때와 pd로 불러읽었을 때의 데이터 set type은 다르다.\n",
    "Data_set = np.loadtxt('ThoraricSurgery.csv',delimiter=\",\")\n",
    "Data_set"
   ]
  },
  {
   "cell_type": "code",
   "execution_count": 20,
   "metadata": {},
   "outputs": [],
   "source": [
    "# 환자의 기록과 수술 결과를 x와 y로 구분하여 저장한다.\n",
    "X = Data_set[:,0:17]\n",
    "Y = Data_set[:,17]"
   ]
  },
  {
   "cell_type": "code",
   "execution_count": 21,
   "metadata": {},
   "outputs": [],
   "source": [
    "# 딥러닝 구조를 결정(모델을 설정하고 실행하는 부분)\n",
    "# 층층이 쌓기위함\n",
    "model = Sequential() \n",
    "# Dense는 17개 30개로 30개가 1개로 연결하라는 명령어.\n",
    "# 첫번째 층 17개 두번째 층 30개 \n",
    "model.add(Dense(30,input_dim=17,activation='relu')) # activation 함수\n",
    "# 마지막 층 1개에서 0과 1 두가지 결과를 도출해라(로지스틱 리그레션)\n",
    "model.add(Dense(1,activation='sigmoid'))# 0하고 1 두가지 값으로 만들기 위함"
   ]
  },
  {
   "cell_type": "code",
   "execution_count": 24,
   "metadata": {
    "scrolled": true
   },
   "outputs": [
    {
     "name": "stdout",
     "output_type": "stream",
     "text": [
      "Epoch 1/30\n",
      "470/470 [==============================] - 0s 293us/step - loss: 0.1467 - acc: 0.8511\n",
      "Epoch 2/30\n",
      "470/470 [==============================] - 0s 54us/step - loss: 0.1475 - acc: 0.8489\n",
      "Epoch 3/30\n",
      "470/470 [==============================] - 0s 56us/step - loss: 0.1450 - acc: 0.8532\n",
      "Epoch 4/30\n",
      "470/470 [==============================] - 0s 63us/step - loss: 0.1469 - acc: 0.8511\n",
      "Epoch 5/30\n",
      "470/470 [==============================] - 0s 60us/step - loss: 0.1457 - acc: 0.8511\n",
      "Epoch 6/30\n",
      "470/470 [==============================] - 0s 57us/step - loss: 0.1469 - acc: 0.8511\n",
      "Epoch 7/30\n",
      "470/470 [==============================] - 0s 63us/step - loss: 0.1452 - acc: 0.8553\n",
      "Epoch 8/30\n",
      "470/470 [==============================] - 0s 65us/step - loss: 0.1462 - acc: 0.8511\n",
      "Epoch 9/30\n",
      "470/470 [==============================] - 0s 60us/step - loss: 0.1449 - acc: 0.8532\n",
      "Epoch 10/30\n",
      "470/470 [==============================] - 0s 60us/step - loss: 0.1451 - acc: 0.8532\n",
      "Epoch 11/30\n",
      "470/470 [==============================] - 0s 59us/step - loss: 0.1452 - acc: 0.8511\n",
      "Epoch 12/30\n",
      "470/470 [==============================] - 0s 60us/step - loss: 0.1449 - acc: 0.8511\n",
      "Epoch 13/30\n",
      "470/470 [==============================] - 0s 59us/step - loss: 0.1446 - acc: 0.8553\n",
      "Epoch 14/30\n",
      "470/470 [==============================] - 0s 61us/step - loss: 0.1461 - acc: 0.8511\n",
      "Epoch 15/30\n",
      "470/470 [==============================] - 0s 59us/step - loss: 0.1454 - acc: 0.8532\n",
      "Epoch 16/30\n",
      "470/470 [==============================] - 0s 61us/step - loss: 0.1450 - acc: 0.8532\n",
      "Epoch 17/30\n",
      "470/470 [==============================] - 0s 57us/step - loss: 0.1438 - acc: 0.8532\n",
      "Epoch 18/30\n",
      "470/470 [==============================] - 0s 60us/step - loss: 0.1475 - acc: 0.8489\n",
      "Epoch 19/30\n",
      "470/470 [==============================] - 0s 59us/step - loss: 0.1453 - acc: 0.8532\n",
      "Epoch 20/30\n",
      "470/470 [==============================] - 0s 59us/step - loss: 0.1444 - acc: 0.8553\n",
      "Epoch 21/30\n",
      "470/470 [==============================] - 0s 62us/step - loss: 0.1451 - acc: 0.8532\n",
      "Epoch 22/30\n",
      "470/470 [==============================] - 0s 60us/step - loss: 0.1436 - acc: 0.8553\n",
      "Epoch 23/30\n",
      "470/470 [==============================] - 0s 63us/step - loss: 0.1440 - acc: 0.8553\n",
      "Epoch 24/30\n",
      "470/470 [==============================] - 0s 60us/step - loss: 0.1462 - acc: 0.8489\n",
      "Epoch 25/30\n",
      "470/470 [==============================] - 0s 59us/step - loss: 0.1475 - acc: 0.8468\n",
      "Epoch 26/30\n",
      "470/470 [==============================] - 0s 64us/step - loss: 0.1450 - acc: 0.8511\n",
      "Epoch 27/30\n",
      "470/470 [==============================] - 0s 61us/step - loss: 0.1438 - acc: 0.8553\n",
      "Epoch 28/30\n",
      "470/470 [==============================] - 0s 69us/step - loss: 0.1428 - acc: 0.8553\n",
      "Epoch 29/30\n",
      "470/470 [==============================] - 0s 67us/step - loss: 0.1449 - acc: 0.8511\n",
      "Epoch 30/30\n",
      "470/470 [==============================] - 0s 65us/step - loss: 0.1422 - acc: 0.8511\n"
     ]
    },
    {
     "data": {
      "text/plain": [
       "<keras.callbacks.History at 0xed37400>"
      ]
     },
     "execution_count": 24,
     "metadata": {},
     "output_type": "execute_result"
    }
   ],
   "source": [
    "# 딥러닝 실행 \n",
    "model.compile(loss='mean_squared_error',optimizer='adam',\n",
    "              metrics=['accuracy'])\n",
    "model.fit(X,Y,epochs=30,batch_size=10) # epochs : 돌아가는 횟수"
   ]
  },
  {
   "cell_type": "code",
   "execution_count": 25,
   "metadata": {},
   "outputs": [
    {
     "name": "stdout",
     "output_type": "stream",
     "text": [
      "470/470 [==============================] - 0s 68us/step\n",
      "\n",
      " Accuracy: 0.8511\n"
     ]
    }
   ],
   "source": [
    "# 결과 출력\n",
    "print(\"\\n Accuracy: %.4f\" % (model.evaluate(X,Y)[1]))"
   ]
  },
  {
   "cell_type": "code",
   "execution_count": null,
   "metadata": {},
   "outputs": [],
   "source": [
    "# 470개의 데이터를 학습하여 만든 모델에서 \n",
    "# 이중 임의의 데이터 17개를 넣어서 돌려보니\n",
    "# 딥러닝의 예측 정확도는 85.1%"
   ]
  }
 ],
 "metadata": {
  "kernelspec": {
   "display_name": "Python 3",
   "language": "python",
   "name": "python3"
  },
  "language_info": {
   "codemirror_mode": {
    "name": "ipython",
    "version": 3
   },
   "file_extension": ".py",
   "mimetype": "text/x-python",
   "name": "python",
   "nbconvert_exporter": "python",
   "pygments_lexer": "ipython3",
   "version": "3.7.3"
  }
 },
 "nbformat": 4,
 "nbformat_minor": 2
}
