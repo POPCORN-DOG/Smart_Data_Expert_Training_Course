{
 "cells": [
  {
   "cell_type": "markdown",
   "metadata": {},
   "source": [
    "# 스타벅스 이디야 겸 아이디어 자료\n",
    "\n",
    "1. [흔남흔녀 커피의 불편한 진실](http://www.hani.co.kr/arti/economy/economy_general/547541.html)\n",
    "\n",
    "\n",
    "2. [스타벅스와 이디야의 전국 매장 분포 비교](https://public.tableau.com/views/_2355/Viz_Com?:embed=y&:showVizHome=no&:showTabs=y&:display_count=y&:display_static_image=y&:bootstrapWhenNotified=true)\n",
    "  \n",
    "      \n",
    "3. [스타벅스 이디야 분석](https://smartincome.co.kr/1579)\n",
    "\n",
    "  \n",
    "4. [서울 9대 카페 지도](http://newslabit.hankyung.com/article/201702215729G)\n",
    "\n",
    "\n",
    "5. [스타벅스 이디야 전략비교](http://news.bizwatch.co.kr/article/consumer/2018/01/19/0015)\n",
    "\n",
    "\n",
    "6. [파리바게뜨는 정말 횡단보도 앞에 있을까?](https://brunch.co.kr/@mapthecity/38)  "
   ]
  },
  {
   "cell_type": "markdown",
   "metadata": {},
   "source": [
    "# 웹 크롤링 자료\n",
    "\n",
    "1. [소상공인시장진흥공단_(스타벅스,이디야,던킨,파바 등)](https://github.com/corazzon/OpenDataWrangling/blob/master/store_location_by_folium.ipynb)\n",
    "  \n",
    "\n",
    "2. [멍개님의 블로그(스타벅스 외)](http://blog.naver.com/PostView.nhn?blogId=pjt3591oo&logNo=221189236488&parentCategoryNo=&categoryNo=116&viewDate=&isShowPopularPosts=true&from=search)  \n",
    "\n",
    "\n",
    "3. [부동산 - 스타벅스 매장 데이터와 지도](https://financedata.github.io/posts/python_starbucks_map.html)\n",
    "\n",
    "\n",
    "4. [selenium으로 스타벅스 가져오기](https://brunch.co.kr/@jk-lab/18)\n",
    "\n",
    "\n",
    "5. [\"버거 지수\"는 진짜 도시의 발전 수준을 반영할까?](https://nbviewer.jupyter.org/gist/hyeshik/cf9f3d7686e07eedbfda#%EB%A7%A5%EB%8F%84%EB%82%A0%EB%93%9C-%EB%A7%A4%EC%9E%A5-%EB%8D%B0%EC%9D%B4%ED%84%B0%EB%A5%BC-%EB%B0%9B%EC%95%84%EC%99%80%EC%84%9C-%EB%B6%84%EC%84%9D%ED%95%9C%EB%8B%A4.)  \n",
    "\n",
    "\n",
    "- [requests와 beautifulsoup으로 웹 크롤러 만들기](https://beomi.github.io/gb-crawling/posts/2017-01-20-HowToMakeWebCrawler.html)\n",
    "  \n",
    "  \n",
    "- [크롤링 기초 개념과 requests를 이용한 기초실습](https://rednooby.tistory.com/96?category=695414)\n",
    "\n",
    "  \n",
    "- [OpenLook 혜식이의 열고 보는 세상](http://openlook.org/wp/category/python/)\n",
    "\n",
    "\n",
    "\n",
    "- [마우스로 Selenium](http://allselenium.info/mouse-over-actions-using-python-selenium-webdriver/)"
   ]
  },
  {
   "cell_type": "markdown",
   "metadata": {},
   "source": [
    "# 데이터 사이트\n",
    "\n",
    "1. [UCI Machine Learning Repository(iris, adult, wine 데이터 등)](https://archive.ics.uci.edu/ml/index.php)\n",
    "  \n",
    "  \n",
    "2. [캐글(개 vs 고양이 구분 등)](https://www.kaggle.com/c/dogs-vs-cats-redux-kernels-edition/kernels)"
   ]
  }
 ],
 "metadata": {
  "kernelspec": {
   "display_name": "Python 3",
   "language": "python",
   "name": "python3"
  },
  "language_info": {
   "codemirror_mode": {
    "name": "ipython",
    "version": 3
   },
   "file_extension": ".py",
   "mimetype": "text/x-python",
   "name": "python",
   "nbconvert_exporter": "python",
   "pygments_lexer": "ipython3",
   "version": "3.7.3"
  }
 },
 "nbformat": 4,
 "nbformat_minor": 2
}
